{
  "cells": [
    {
      "cell_type": "markdown",
      "metadata": {
        "id": "view-in-github",
        "colab_type": "text"
      },
      "source": [
        "<a href=\"https://colab.research.google.com/github/carlos-alves-one/-ML-Zoomcamp-Week-4/blob/main/ML_Zoomcamp_Week_4.ipynb\" target=\"_parent\"><img src=\"https://colab.research.google.com/assets/colab-badge.svg\" alt=\"Open In Colab\"/></a>"
      ]
    },
    {
      "cell_type": "markdown",
      "metadata": {
        "id": "6gEcamMvoqD_"
      },
      "source": [
        "## Goldsmiths University of London\n",
        "**Author....: Carlos Manuel de Oliveira Alves**<br>\n",
        "**Student..: cdeol003**<br>\n",
        "**Created..: 27/09/2022**"
      ]
    },
    {
      "cell_type": "code",
      "execution_count": 4,
      "metadata": {
        "id": "sERKxvvdomPg"
      },
      "outputs": [],
      "source": [
        "# Import libraries for the project\n",
        "import pandas as pd\n",
        "import numpy as np\n",
        "\n",
        "import seaborn as sns\n",
        "import matplotlib.pyplot as plt\n",
        "%matplotlib inline\n",
        "\n",
        "# Import the library warnings to ignore the warnings\n",
        "import warnings\n",
        "warnings.filterwarnings(\"ignore\")"
      ]
    },
    {
      "cell_type": "code",
      "execution_count": 5,
      "metadata": {
        "id": "NU5InPEkuw-d"
      },
      "outputs": [],
      "source": [
        "# Lets train the model again first - to use its results later in this notebook\n",
        "\n",
        "# Import packages from Sklearn for the project\n",
        "from sklearn.model_selection import train_test_split\n",
        "from sklearn.feature_extraction import DictVectorizer\n",
        "from sklearn.linear_model import LogisticRegression"
      ]
    },
    {
      "cell_type": "code",
      "execution_count": 6,
      "metadata": {
        "id": "DwZLJNAjvYjo"
      },
      "outputs": [],
      "source": [
        "# Data import and preparation\n",
        "\n",
        "df = pd.read_csv('WA_Fn-UseC_-Telco-Customer-Churn.csv')\n",
        "\n",
        "df['TotalCharges'] = pd.to_numeric(df['TotalCharges'], errors='coerce')\n",
        "df['TotalCharges'] = df['TotalCharges'].fillna(0)\n",
        "\n",
        "df.columns = df.columns.str.lower().str.replace(' ', '_')\n",
        "\n",
        "string_columns = list(df.dtypes[df.dtypes == 'object'].index)\n",
        "\n",
        "for col in string_columns:\n",
        "    df[col] = df[col].str.lower().str.replace(' ', '_')\n",
        "\n",
        "df.churn = (df.churn == 'yes').astype(int)"
      ]
    },
    {
      "cell_type": "code",
      "execution_count": 7,
      "metadata": {
        "id": "_QfstrMiwCsY"
      },
      "outputs": [],
      "source": [
        "# Setting up the validation framework\n",
        "\n",
        "df_full_train, df_test = train_test_split(df, test_size=0.2, random_state=1)\n",
        "df_train, df_val = train_test_split(df_full_train, test_size=0.25, random_state=1)\n",
        "\n",
        "df_train = df_train.reset_index(drop=True)\n",
        "df_val = df_val.reset_index(drop=True)\n",
        "df_test = df_test.reset_index(drop=True)\n",
        "\n",
        "y_train = df_train.churn.values\n",
        "y_val = df_val.churn.values\n",
        "y_test = df_test.churn.values\n",
        "\n",
        "del df_train['churn']\n",
        "del df_val['churn']"
      ]
    },
    {
      "cell_type": "code",
      "execution_count": 8,
      "metadata": {
        "id": "Jhf2i3E5wTeO"
      },
      "outputs": [],
      "source": [
        "# Define the list of categorical and numerical variables\n",
        "\n",
        "categorical = ['gender', 'seniorcitizen', 'partner', 'dependents',\n",
        "               'phoneservice', 'multiplelines', 'internetservice',\n",
        "               'onlinesecurity', 'onlinebackup', 'deviceprotection',\n",
        "               'techsupport', 'streamingtv', 'streamingmovies',\n",
        "               'contract', 'paperlessbilling', 'paymentmethod']\n",
        "\n",
        "numerical = ['tenure', 'monthlycharges', 'totalcharges']"
      ]
    },
    {
      "cell_type": "code",
      "execution_count": 9,
      "metadata": {
        "id": "s_T7YeKBwiPO"
      },
      "outputs": [],
      "source": [
        "# Turn the data into a dictionary and we want each row to turn into a dictionary \n",
        "train_dict = df_train[categorical + numerical].to_dict(orient='records')\n",
        "\n",
        "# Create a new instance of the DictVectorizer class without sparse\n",
        "dv = DictVectorizer(sparse=False)\n",
        "\n",
        "# Use the method fit and first we train our DictVectorizer\n",
        "dv.fit(train_dict)\n",
        "\n",
        "# Use the function transform with our DictVectorizer\n",
        "X_train = dv.transform(train_dict)"
      ]
    },
    {
      "cell_type": "code",
      "execution_count": 10,
      "metadata": {
        "colab": {
          "base_uri": "https://localhost:8080/"
        },
        "id": "-hfgdUOuxggk",
        "outputId": "9197fce4-b082-4ce7-e813-976937b14d41"
      },
      "outputs": [
        {
          "output_type": "execute_result",
          "data": {
            "text/plain": [
              "LogisticRegression(random_state=1, solver='liblinear')"
            ]
          },
          "metadata": {},
          "execution_count": 10
        }
      ],
      "source": [
        "# Create a model logistic regression\n",
        "model = LogisticRegression(solver='liblinear', random_state=1)\n",
        "\n",
        "# For training the model we use the fit method\n",
        "model.fit(X_train, y_train)"
      ]
    },
    {
      "cell_type": "code",
      "execution_count": 11,
      "metadata": {
        "id": "n_VWjZV4yTkK"
      },
      "outputs": [],
      "source": [
        "# Create validation dictionary with categorical and numerical variables\n",
        "val_dict = df_val[categorical + numerical].to_dict(orient='records')\n",
        "\n",
        "# Use the function transform with our validation dictionary\n",
        "X_val = dv.transform(val_dict)\n",
        "\n",
        "# Apply our model on X validation and use the first column\n",
        "y_pred = model.predict_proba(X_val)[:, 1]"
      ]
    },
    {
      "cell_type": "code",
      "execution_count": 12,
      "metadata": {
        "colab": {
          "base_uri": "https://localhost:8080/"
        },
        "id": "zJQPuMETzwkJ",
        "outputId": "52c39f77-01b7-41f2-e28d-26cfe9fb7aec"
      },
      "outputs": [
        {
          "output_type": "execute_result",
          "data": {
            "text/plain": [
              "LogisticRegression(random_state=1, solver='liblinear')"
            ]
          },
          "metadata": {},
          "execution_count": 12
        }
      ],
      "source": [
        "# Create a small subset from the dataframe\n",
        "small_subset = ['contract', 'tenure', 'totalcharges']\n",
        "\n",
        "# Turn the data into a dictionary and we want each row to turn into a dictionary \n",
        "train_dict_small = df_train[small_subset].to_dict(orient='records')\n",
        "\n",
        "# Create a new instance of the DictVectorizer class without sparse\n",
        "dv_small = DictVectorizer(sparse=False)\n",
        "\n",
        "# Use the method fit and first we train our DictVectorizer\n",
        "dv_small.fit(train_dict_small)\n",
        "\n",
        "# Use the function transform with our DictVectorizer\n",
        "X_small_train = dv_small.transform(train_dict_small)\n",
        "\n",
        "# Create a model logistic regression\n",
        "model_small = LogisticRegression(solver='liblinear', random_state=1)\n",
        "\n",
        "# Use the method fit and first we train our DictVectorizer\n",
        "model_small.fit(X_small_train, y_train)"
      ]
    },
    {
      "cell_type": "code",
      "execution_count": 13,
      "metadata": {
        "id": "eDPSjIaXH7NA"
      },
      "outputs": [],
      "source": [
        "# Turn the data into a dictionary and we want each row to turn into a dictionary \n",
        "val_dict_small = df_val[small_subset].to_dict(orient='records')\n",
        "\n",
        "# Use the function transform with our DictVectorizer\n",
        "X_small_val = dv_small.transform(val_dict_small)\n",
        "\n",
        "# Apply our model on Y predition and use the first column\n",
        "y_pred_small = model_small.predict_proba(X_small_val)[:, 1]"
      ]
    },
    {
      "cell_type": "code",
      "execution_count": 14,
      "metadata": {
        "colab": {
          "base_uri": "https://localhost:8080/"
        },
        "id": "EtUr8FW8IqD2",
        "outputId": "6844d693-98cc-447d-9a2e-a1bb3ff19438"
      },
      "outputs": [
        {
          "output_type": "execute_result",
          "data": {
            "text/plain": [
              "0.8055358410220014"
            ]
          },
          "metadata": {},
          "execution_count": 14
        }
      ],
      "source": [
        "# Accuracy:\n",
        "\n",
        "# Apply our model on Y predition and use the first column\n",
        "y_pred = model.predict_proba(X_val)[:, 1]\n",
        "\n",
        "# Store the Y prediction has 50% or more\n",
        "churn = y_pred >= 0.5\n",
        "\n",
        "# Calculate the percentange of the churn using the mean function\n",
        "(churn == y_val).mean()"
      ]
    },
    {
      "cell_type": "code",
      "execution_count": 15,
      "metadata": {
        "colab": {
          "base_uri": "https://localhost:8080/"
        },
        "id": "KJzIUEz6JuGw",
        "outputId": "cbd76836-9d0b-4ed4-d0d2-9b0ec7508e22"
      },
      "outputs": [
        {
          "output_type": "execute_result",
          "data": {
            "text/plain": [
              "1409"
            ]
          },
          "metadata": {},
          "execution_count": 15
        }
      ],
      "source": [
        "# Accuracy and dummy model:\n",
        "\n",
        "# . Evaluate the model on different thresholds\n",
        "# . Check the accuracy of dummy baselines\n",
        "\n",
        "# Check how many customers we have with Y validation dataset\n",
        "len(y_val)"
      ]
    },
    {
      "cell_type": "code",
      "execution_count": 16,
      "metadata": {
        "colab": {
          "base_uri": "https://localhost:8080/"
        },
        "id": "Cl5KmgmmKk70",
        "outputId": "e8767058-7457-4ccd-fb42-d9a46d675ddc"
      },
      "outputs": [
        {
          "output_type": "execute_result",
          "data": {
            "text/plain": [
              "1135"
            ]
          },
          "metadata": {},
          "execution_count": 16
        }
      ],
      "source": [
        "# we have 1.860 customers and for all this customers we will make a prediction\n",
        "# each customer we assign a score and then we make a decision\n",
        "# some of this decisions are correct and some of this decisions are incorrect\n",
        "\n",
        "# Check how many decisions are correct\n",
        "(y_val == churn).sum()"
      ]
    },
    {
      "cell_type": "code",
      "execution_count": 17,
      "metadata": {
        "id": "6BDALL1AL9oT"
      },
      "outputs": [],
      "source": [
        "# so have 1.491 customers with the correct decision\n",
        "\n",
        "# some of our decisions are not correct and we calculate doing:\n",
        "# total of correct decisions or predictions divide by the total of customers\n",
        "# in our case is 80%"
      ]
    },
    {
      "cell_type": "code",
      "execution_count": 18,
      "metadata": {
        "colab": {
          "base_uri": "https://localhost:8080/"
        },
        "id": "I9YU7rHhM7jL",
        "outputId": "a47d1928-3c88-4d00-d0c0-266f0cf7c356"
      },
      "outputs": [
        {
          "output_type": "stream",
          "name": "stdout",
          "text": [
            "80%\n"
          ]
        }
      ],
      "source": [
        "print(str(round((1491 / 1860) * 100)) + '%')"
      ]
    },
    {
      "cell_type": "code",
      "execution_count": 19,
      "metadata": {
        "colab": {
          "base_uri": "https://localhost:8080/"
        },
        "id": "1zG7UbDJNM4d",
        "outputId": "e866d099-687a-4d28-c38f-590ed17cc26b"
      },
      "outputs": [
        {
          "output_type": "execute_result",
          "data": {
            "text/plain": [
              "array([0.  , 0.05, 0.1 , 0.15, 0.2 , 0.25, 0.3 , 0.35, 0.4 , 0.45, 0.5 ,\n",
              "       0.55, 0.6 , 0.65, 0.7 , 0.75, 0.8 , 0.85, 0.9 , 0.95, 1.  ])"
            ]
          },
          "metadata": {},
          "execution_count": 19
        }
      ],
      "source": [
        "# Use the function linspace to generate numbers from 0 to 1 with size of the array 21 elements\n",
        "thresholds = np.linspace(0, 1, 21)\n",
        "thresholds"
      ]
    },
    {
      "cell_type": "code",
      "execution_count": 20,
      "metadata": {
        "colab": {
          "base_uri": "https://localhost:8080/"
        },
        "id": "eIUJj47VNzAZ",
        "outputId": "9f6bb4fe-5926-49fb-d3b2-1b92f6db8416"
      },
      "outputs": [
        {
          "output_type": "stream",
          "name": "stdout",
          "text": [
            "0.00 0.274\n",
            "0.05 0.508\n",
            "0.10 0.605\n",
            "0.15 0.664\n",
            "0.20 0.705\n",
            "0.25 0.738\n",
            "0.30 0.759\n",
            "0.35 0.767\n",
            "0.40 0.781\n",
            "0.45 0.793\n",
            "0.50 0.806\n",
            "0.55 0.804\n",
            "0.60 0.800\n",
            "0.65 0.787\n",
            "0.70 0.766\n",
            "0.75 0.742\n",
            "0.80 0.729\n",
            "0.85 0.726\n",
            "0.90 0.726\n",
            "0.95 0.726\n",
            "1.00 0.726\n"
          ]
        }
      ],
      "source": [
        "# Create a list to store all the accuracies\n",
        "scores = []\n",
        "\n",
        "# For eah of the values above we can treat as a threshold\n",
        "for t in thresholds:\n",
        "\n",
        "  # Store the Y prediction we use t threshold list intead of has 50% or more\n",
        "  # churn = y_pred >= 0.5 <-- THIS LINE OF CODE IT WAS BEFORE\n",
        "  # NEW LINE OF CODE:\n",
        "  churn_decision = (y_pred >= t)\n",
        "\n",
        "  # Check how many decisions are correct\n",
        "  score = (y_val == churn_decision).mean()\n",
        "\n",
        "  # Print the score with some formatation\n",
        "  print('%.2f %.3f' % (t,score))\n",
        "\n",
        "  # Append the list scores with accuracy\n",
        "  scores.append(score)\n",
        "\n",
        "  # below the 0.50 its the best threshold for this specif problem"
      ]
    },
    {
      "cell_type": "code",
      "execution_count": 21,
      "metadata": {
        "colab": {
          "base_uri": "https://localhost:8080/"
        },
        "id": "k0iq-FlDQXhX",
        "outputId": "2a98ddab-be61-4417-b6a6-236a71239258"
      },
      "outputs": [
        {
          "output_type": "execute_result",
          "data": {
            "text/plain": [
              "[0.2739531582682754,\n",
              " 0.5081618168914124,\n",
              " 0.6053938963804116,\n",
              " 0.6635911994322214,\n",
              " 0.7047551454932577,\n",
              " 0.7381121362668559,\n",
              " 0.759403832505323,\n",
              " 0.7665010645848119,\n",
              " 0.7806955287437899,\n",
              " 0.7927608232789212,\n",
              " 0.8055358410220014,\n",
              " 0.8041163946061036,\n",
              " 0.7998580553584103,\n",
              " 0.78708303761533,\n",
              " 0.765791341376863,\n",
              " 0.7423704755145494,\n",
              " 0.7288857345635202,\n",
              " 0.7260468417317246,\n",
              " 0.7260468417317246,\n",
              " 0.7260468417317246,\n",
              " 0.7260468417317246]"
            ]
          },
          "metadata": {},
          "execution_count": 21
        }
      ],
      "source": [
        "# Print the list scores with accuracies\n",
        "scores"
      ]
    },
    {
      "cell_type": "code",
      "execution_count": 22,
      "metadata": {
        "colab": {
          "base_uri": "https://localhost:8080/",
          "height": 283
        },
        "id": "hwbPmLeLQwa-",
        "outputId": "a61e5a5a-43b7-403e-ad4d-5ee5d6af2b33"
      },
      "outputs": [
        {
          "output_type": "execute_result",
          "data": {
            "text/plain": [
              "[<matplotlib.lines.Line2D at 0x7f0b08739290>]"
            ]
          },
          "metadata": {},
          "execution_count": 22
        },
        {
          "output_type": "display_data",
          "data": {
            "text/plain": [
              "<Figure size 432x288 with 1 Axes>"
            ],
            "image/png": "[encoded data removed]"
          },
          "metadata": {
            "needs_background": "light"
          }
        }
      ],
      "source": [
        "# Plot the list scores with accuracies\n",
        "plt.plot(thresholds, scores) \n",
        "# x-axis is the thresholds\n",
        "# y-axis is the scores"
      ]
    },
    {
      "cell_type": "code",
      "execution_count": 23,
      "metadata": {
        "id": "Q4vFDX2nRKLG"
      },
      "outputs": [],
      "source": [
        "# doing the same above but now with sklearn:\n",
        "\n",
        "# Import the package accuracy score from sklearn\n",
        "from sklearn.metrics import accuracy_score"
      ]
    },
    {
      "cell_type": "code",
      "execution_count": 24,
      "metadata": {
        "colab": {
          "base_uri": "https://localhost:8080/"
        },
        "id": "iQtOxGngSneL",
        "outputId": "0a045365-d158-4c29-99e3-16a16354ad29"
      },
      "outputs": [
        {
          "output_type": "execute_result",
          "data": {
            "text/plain": [
              "0.7260468417317246"
            ]
          },
          "metadata": {},
          "execution_count": 24
        }
      ],
      "source": [
        "# Use the function accuracy score from sklearn\n",
        "accuracy_score(y_val, churn_decision)"
      ]
    },
    {
      "cell_type": "code",
      "execution_count": 25,
      "metadata": {
        "colab": {
          "base_uri": "https://localhost:8080/"
        },
        "id": "ICL2pEHwS2sV",
        "outputId": "a238de62-3141-416f-b694-e36d8c6be162"
      },
      "outputs": [
        {
          "output_type": "stream",
          "name": "stdout",
          "text": [
            "0.00 0.274\n",
            "0.05 0.508\n",
            "0.10 0.605\n",
            "0.15 0.664\n",
            "0.20 0.705\n",
            "0.25 0.738\n",
            "0.30 0.759\n",
            "0.35 0.767\n",
            "0.40 0.781\n",
            "0.45 0.793\n",
            "0.50 0.806\n",
            "0.55 0.804\n",
            "0.60 0.800\n",
            "0.65 0.787\n",
            "0.70 0.766\n",
            "0.75 0.742\n",
            "0.80 0.729\n",
            "0.85 0.726\n",
            "0.90 0.726\n",
            "0.95 0.726\n",
            "1.00 0.726\n"
          ]
        }
      ],
      "source": [
        "# Use the function accuracy score from sklearn with the threshold list\n",
        "\n",
        "# Use the function linspace to generate numbers from 0 to 1 with size of the array 21 elements\n",
        "thresholds = np.linspace(0, 1, 21)\n",
        "\n",
        "# Create a list to store all the accuracies\n",
        "scores = []\n",
        "\n",
        "# For eah of the values above we can treat as a threshold\n",
        "for t in thresholds:\n",
        "\n",
        "  # Store the result of the functin accuracy score\n",
        "  score = accuracy_score(y_val, y_pred >= t)\n",
        "\n",
        "  # Print the score with some formatation\n",
        "  print('%.2f %.3f' % (t,score))\n",
        "\n",
        "  # Append the list scores with accuracy\n",
        "  scores.append(score)\n",
        "\n",
        "# we can see below the values are exactly the same"
      ]
    },
    {
      "cell_type": "code",
      "execution_count": 26,
      "metadata": {
        "colab": {
          "base_uri": "https://localhost:8080/"
        },
        "id": "dY4JcwQzX-5G",
        "outputId": "0e3884c0-91b2-45bf-de5b-caee32c898b2"
      },
      "outputs": [
        {
          "output_type": "execute_result",
          "data": {
            "text/plain": [
              "Counter({False: 1409})"
            ]
          },
          "metadata": {},
          "execution_count": 26
        }
      ],
      "source": [
        "# from the plot above we can see for the threshold above of 1.0\n",
        "# we don't have more values the last score is 0.739 or 73.9% this accuracy its pretty decent\n",
        "# remember our model was 80% accurate  \n",
        "# but now with our dummy model is 73.9% where predicts how many customers are not churning\n",
        "\n",
        "# Use a special package collections from Python to count things\n",
        "from collections import Counter\n",
        "\n",
        "# Use the function counter from collections to count how many are true or false\n",
        "# the line below it predicts how many customers are not churning\n",
        "Counter(y_pred >= 1.0)\n",
        "\n",
        "# below we can see the counter only count false values"
      ]
    },
    {
      "cell_type": "code",
      "execution_count": 27,
      "metadata": {
        "colab": {
          "base_uri": "https://localhost:8080/"
        },
        "id": "EPSo2Ok3ZBgB",
        "outputId": "03342049-09d5-45d7-baf0-43a4d70fd8ce"
      },
      "outputs": [
        {
          "output_type": "execute_result",
          "data": {
            "text/plain": [
              "array([False, False, False, ..., False,  True,  True])"
            ]
          },
          "metadata": {},
          "execution_count": 27
        }
      ],
      "source": [
        "# Confusion table:\n",
        "\n",
        "# . Different types of errors and correct decisions\n",
        "# . Arranging them in a table\n",
        "\n",
        "# Create an array for customers are really churn and this is for case validations are 1\n",
        "actual_positive = (y_val == 1)\n",
        "\n",
        "# Create an array for customers are not going to churn and this is for case validations are 0\n",
        "actual_negative = (y_val == 0)\n",
        "\n",
        "# the arrays above they will store true's and falses values\n",
        "actual_positive"
      ]
    },
    {
      "cell_type": "code",
      "execution_count": 28,
      "metadata": {
        "colab": {
          "base_uri": "https://localhost:8080/"
        },
        "id": "xnBlUuuJfzo3",
        "outputId": "b2fd4ed8-a729-49f1-e23a-9a31139bf648"
      },
      "outputs": [
        {
          "output_type": "execute_result",
          "data": {
            "text/plain": [
              "array([False, False, False, ..., False,  True,  True])"
            ]
          },
          "metadata": {},
          "execution_count": 28
        }
      ],
      "source": [
        "# Define the threshold for positive and negative scores\n",
        "t = 0.5\n",
        "\n",
        "# Store the positive predictions\n",
        "predict_positive = (y_pred >= t)\n",
        "\n",
        "# Store the negative predictions\n",
        "predict_negative = (y_pred < t)\n",
        "\n",
        "# Combine in one the predictions and actual positives values\n",
        "predict_positive & actual_positive\n",
        "# note: the way it combines the trues and falses is:\n",
        "# true and true is equal to true\n",
        "# false and true is equal to false\n",
        "# false and false is equal to false\n",
        "\n",
        "# note: the & operator it computes the element wise logical end"
      ]
    },
    {
      "cell_type": "code",
      "execution_count": 29,
      "metadata": {
        "colab": {
          "base_uri": "https://localhost:8080/"
        },
        "id": "5WlhLpvEgWAo",
        "outputId": "3968f481-9a4d-44b6-a98e-fef27edf322a"
      },
      "outputs": [
        {
          "output_type": "execute_result",
          "data": {
            "text/plain": [
              "212"
            ]
          },
          "metadata": {},
          "execution_count": 29
        }
      ],
      "source": [
        "# Check how many predictions and actual positives are\n",
        "(predict_positive & actual_positive).sum()"
      ]
    },
    {
      "cell_type": "code",
      "execution_count": 30,
      "metadata": {
        "colab": {
          "base_uri": "https://localhost:8080/"
        },
        "id": "LgL9fF8diS9u",
        "outputId": "79d53952-bd77-4cba-a5d7-c9e0a9e890d7"
      },
      "outputs": [
        {
          "output_type": "execute_result",
          "data": {
            "text/plain": [
              "212"
            ]
          },
          "metadata": {},
          "execution_count": 30
        }
      ],
      "source": [
        "# Store the true positive values in a variable\n",
        "tp = (predict_positive & actual_positive).sum()\n",
        "tp"
      ]
    },
    {
      "cell_type": "code",
      "execution_count": 31,
      "metadata": {
        "colab": {
          "base_uri": "https://localhost:8080/"
        },
        "id": "u0scjpMaiqtq",
        "outputId": "2e475a3d-0716-4ad4-fd72-fcbeae39945c"
      },
      "outputs": [
        {
          "output_type": "execute_result",
          "data": {
            "text/plain": [
              "923"
            ]
          },
          "metadata": {},
          "execution_count": 31
        }
      ],
      "source": [
        "# Store the true negatives values in a variable\n",
        "tn = (predict_negative & actual_negative).sum()\n",
        "tn"
      ]
    },
    {
      "cell_type": "code",
      "execution_count": 32,
      "metadata": {
        "colab": {
          "base_uri": "https://localhost:8080/"
        },
        "id": "de1FIV-cjVIs",
        "outputId": "32331fea-cac1-4c40-d153-a9b5a6b746e4"
      },
      "outputs": [
        {
          "output_type": "execute_result",
          "data": {
            "text/plain": [
              "100"
            ]
          },
          "metadata": {},
          "execution_count": 32
        }
      ],
      "source": [
        "# Store the false positive values in a variable\n",
        "fp = (predict_positive & actual_negative).sum()\n",
        "fp"
      ]
    },
    {
      "cell_type": "code",
      "execution_count": 33,
      "metadata": {
        "colab": {
          "base_uri": "https://localhost:8080/"
        },
        "id": "ULH5zeD7j_To",
        "outputId": "e58c5d9d-166e-4835-9919-c5838887ed2d"
      },
      "outputs": [
        {
          "output_type": "execute_result",
          "data": {
            "text/plain": [
              "174"
            ]
          },
          "metadata": {},
          "execution_count": 33
        }
      ],
      "source": [
        "# Store the false negatives values in a variable\n",
        "fn = (predict_negative & actual_positive).sum()\n",
        "fn"
      ]
    },
    {
      "cell_type": "code",
      "execution_count": 34,
      "metadata": {
        "id": "msBRvCNkkbo3"
      },
      "outputs": [],
      "source": [
        "# Create array with the confusion matrix\n",
        "confusion_matrix = np.array([\n",
        "    [tn, fp],\n",
        "    [fn, tp]\n",
        "])"
      ]
    },
    {
      "cell_type": "code",
      "execution_count": 35,
      "metadata": {
        "colab": {
          "base_uri": "https://localhost:8080/"
        },
        "id": "3V2OYxWylYsV",
        "outputId": "39625bcb-0cf5-4ab5-d804-e7ab17135499"
      },
      "outputs": [
        {
          "output_type": "execute_result",
          "data": {
            "text/plain": [
              "array([[923, 100],\n",
              "       [174, 212]])"
            ]
          },
          "metadata": {},
          "execution_count": 35
        }
      ],
      "source": [
        "# Print the array with the confusion matrix\n",
        "confusion_matrix\n",
        "\n",
        "# below we can see the have more false negatives then false positives\n",
        "# false positives are the customers get a promotional email\n",
        "# even though they are not going to churn, so we actually lose some money\n",
        "# by giving them the discount so they are not going to churn but we given them discount\n",
        "\n",
        "# the false negative we don't send to the customers the email because they will leave\n",
        "# where are losing profit because we do not mange to retain these customers and they leave\n",
        "\n",
        "# we have different types of errors and the false negatives are more difficult to catch so\n",
        "# we have a lot more false negatives than false positives so have this situation now we know\n",
        "# what kind of errors the model makes"
      ]
    },
    {
      "cell_type": "code",
      "execution_count": 36,
      "metadata": {
        "colab": {
          "base_uri": "https://localhost:8080/"
        },
        "id": "li5cnQCxlfOe",
        "outputId": "ebc4fef6-bd04-4486-bf4f-2f7eb43046ec"
      },
      "outputs": [
        {
          "output_type": "execute_result",
          "data": {
            "text/plain": [
              "array([[0.66, 0.07],\n",
              "       [0.12, 0.15]])"
            ]
          },
          "metadata": {},
          "execution_count": 36
        }
      ],
      "source": [
        "# to normalize the confusion matrix above instead of having absolute numbers we can have relative \n",
        "# numbers, so we can have percents\n",
        "\n",
        "# Normalize the confusion matrix with percents\n",
        "(confusion_matrix / confusion_matrix.sum()).round(2)\n",
        "\n",
        "# 65% and 16% are correct predictions\n",
        "# 9% and 11% are incorrect predictions\n",
        "\n",
        "# we can conclude with our accuracy = 80% is 65% + 15% (not 16% because of the rouding)\n",
        "# this is how we get our accuracy of 80%"
      ]
    },
    {
      "cell_type": "code",
      "execution_count": 37,
      "metadata": {
        "colab": {
          "base_uri": "https://localhost:8080/"
        },
        "id": "F7WfLtBRoLKR",
        "outputId": "af7b2713-32a0-4b15-9f2a-168cc68cce3e"
      },
      "outputs": [
        {
          "output_type": "execute_result",
          "data": {
            "text/plain": [
              "0.8055358410220014"
            ]
          },
          "metadata": {},
          "execution_count": 37
        }
      ],
      "source": [
        "# Precision and Recall:\n",
        "\n",
        "# Precision and recall are metrics for evaluating binary classification models\n",
        "\n",
        "# We can express accurcy as sum of true positive TP plus true negative TN\n",
        "# and we divide that by the total number of all the observations which is:\n",
        "# TP + TN + FP + FN\n",
        "\n",
        "# Express accuracy of our model\n",
        "(tp + tn) / (tp + tn + fp + fn)"
      ]
    },
    {
      "cell_type": "code",
      "execution_count": 38,
      "metadata": {
        "colab": {
          "base_uri": "https://localhost:8080/"
        },
        "id": "uYvuDn3qrySY",
        "outputId": "aa54fc43-9331-4c64-df5f-ac7f8fb5c8c5"
      },
      "outputs": [
        {
          "output_type": "execute_result",
          "data": {
            "text/plain": [
              "0.6794871794871795"
            ]
          },
          "metadata": {},
          "execution_count": 38
        }
      ],
      "source": [
        "# Precision:\n",
        "\n",
        "# Precision tell us how many positive predictions turned out to be correct\n",
        "# or more like not how many but fraction of correct positive predictions \n",
        "# so it means that we predict some customers as churning and then out of those\n",
        "# how many are identified correctly\n",
        "\n",
        "# Precision tell us among those customers that we predicted as churning what is\n",
        "# the fraction of correct predictions \n",
        "\n",
        "# Calculate the precision of our model\n",
        "p = tp / (tp + fp)\n",
        "p"
      ]
    },
    {
      "cell_type": "code",
      "execution_count": 39,
      "metadata": {
        "colab": {
          "base_uri": "https://localhost:8080/"
        },
        "id": "3OyU70kjyRkJ",
        "outputId": "ccdfcc85-d390-4953-8636-945d5843e9d2"
      },
      "outputs": [
        {
          "output_type": "execute_result",
          "data": {
            "text/plain": [
              "312"
            ]
          },
          "metadata": {},
          "execution_count": 39
        }
      ],
      "source": [
        "# the value above the 62% means we going to send a promotional email to 461 customers\n",
        "\n",
        "# Print total of customers are true positive and false positive\n",
        "tp + fp"
      ]
    },
    {
      "cell_type": "code",
      "execution_count": 40,
      "metadata": {
        "colab": {
          "base_uri": "https://localhost:8080/"
        },
        "id": "QpGg83W6zHu5",
        "outputId": "47d896eb-48fe-40f3-9b99-2bde1371f629"
      },
      "outputs": [
        {
          "output_type": "execute_result",
          "data": {
            "text/plain": [
              "212"
            ]
          },
          "metadata": {},
          "execution_count": 40
        }
      ],
      "source": [
        "# Print total of customers are going to churn\n",
        "tp"
      ]
    },
    {
      "cell_type": "code",
      "execution_count": 41,
      "metadata": {
        "colab": {
          "base_uri": "https://localhost:8080/"
        },
        "id": "hN4Z7WR75-F6",
        "outputId": "1c801cc3-73ca-409c-c81f-b5a8904bbfcd"
      },
      "outputs": [
        {
          "output_type": "execute_result",
          "data": {
            "text/plain": [
              "0.5492227979274611"
            ]
          },
          "metadata": {},
          "execution_count": 41
        }
      ],
      "source": [
        "# If precision is 62% it means that approximately 38% are mistakes\n",
        "# so people who are not supposed to get this promotional email but \n",
        "# they get it anyway this is what precision can tell us\n",
        "\n",
        "# Now lets see Recall Precision:\n",
        "# Recall we look at fraction of churning customers that we identified correctly\n",
        "# or positive examples\n",
        "\n",
        "# Calculate the Recall Precision of our model\n",
        "r = tp / (tp + fn)\n",
        "r"
      ]
    },
    {
      "cell_type": "code",
      "execution_count": 42,
      "metadata": {
        "colab": {
          "base_uri": "https://localhost:8080/"
        },
        "id": "b4aKQlVK8NV8",
        "outputId": "00695a43-3796-4948-e8e6-40da09955bec"
      },
      "outputs": [
        {
          "output_type": "execute_result",
          "data": {
            "text/plain": [
              "386"
            ]
          },
          "metadata": {},
          "execution_count": 42
        }
      ],
      "source": [
        "# Print total of customers are true positive and false negative\n",
        "tp + fn"
      ]
    },
    {
      "cell_type": "code",
      "execution_count": 43,
      "metadata": {
        "id": "imUjg_j-8fYf"
      },
      "outputs": [],
      "source": [
        "# The recall precision is 59% and 41% means customers that are churning we\n",
        "# fail to identfy them\n",
        "\n",
        "# Conclusion:\n",
        "# Accuracy  = 80% \n",
        "# Precision = 62%  \n",
        "# Recall    = 59% \n",
        "\n",
        "# Accuracy of 80% is pretty high number it feels our model must be very accurate\n",
        "# but when we look at Precision and Recall we see that our model is not thaat good\n",
        "# so for the purpose we want to use so we want to identify churning users so for\n",
        "# this purpose accuracy is not the best metric because when we look at this we think\n",
        "# okay model is doing pretty well but when look at precision and recall we see we\n",
        "# failed to identify this customers and we actually sent a promotional email\n",
        "\n",
        "# Accuracy can be misleading and that's why it's useful to look at metrics like precision and recall"
      ]
    },
    {
      "cell_type": "code",
      "execution_count": 44,
      "metadata": {
        "colab": {
          "base_uri": "https://localhost:8080/"
        },
        "id": "wMO-GGfcAWUQ",
        "outputId": "dbfd995a-0521-4aa3-aae4-146ffc0b3409"
      },
      "outputs": [
        {
          "output_type": "execute_result",
          "data": {
            "text/plain": [
              "0.5492227979274611"
            ]
          },
          "metadata": {},
          "execution_count": 44
        }
      ],
      "source": [
        "# ROC Curves:\n",
        "\n",
        "# ROC stands for receiver operating characteristics\n",
        "# is a way of describing the performance of a binary classification model\n",
        "# with ROCs we are interrested in two things or in two numbers:\n",
        "# first number is FPR false positive rate\n",
        "# second number is TPR true positive rate\n",
        "# both these metrics are computed from the values of the confusion matrix\n",
        "\n",
        "# Calculate the TPR true positive rate\n",
        "tpr = tp / (tp + fn)\n",
        "tpr"
      ]
    },
    {
      "cell_type": "code",
      "execution_count": 45,
      "metadata": {
        "colab": {
          "base_uri": "https://localhost:8080/"
        },
        "id": "dxRCWA4eH_PP",
        "outputId": "c50aff8c-476a-4442-b2f8-110de1e08396"
      },
      "outputs": [
        {
          "output_type": "execute_result",
          "data": {
            "text/plain": [
              "0.5492227979274611"
            ]
          },
          "metadata": {},
          "execution_count": 45
        }
      ],
      "source": [
        "# Print the recall we can see its same as TPR\n",
        "r"
      ]
    },
    {
      "cell_type": "code",
      "execution_count": 46,
      "metadata": {
        "colab": {
          "base_uri": "https://localhost:8080/"
        },
        "id": "xDPzKW1QHs39",
        "outputId": "87ba7878-7282-45ef-c262-df287c8a59e0"
      },
      "outputs": [
        {
          "output_type": "execute_result",
          "data": {
            "text/plain": [
              "0.09775171065493646"
            ]
          },
          "metadata": {},
          "execution_count": 46
        }
      ],
      "source": [
        "# Calculate the FPR false positive rate\n",
        "fpr = fp / (fp + tn)\n",
        "fpr\n",
        "\n",
        "# the value below the 12% means that for all negative examples\n",
        "# 12% are still predicted incorrectly"
      ]
    },
    {
      "cell_type": "code",
      "execution_count": 47,
      "metadata": {
        "id": "rSlC3I14I-Cg"
      },
      "outputs": [],
      "source": [
        "# ROC is good because it looks at all the possible thresholds\n",
        "\n",
        "# Create a list called scores\n",
        "scores = []\n",
        "\n",
        "# Compute the ROC for all possible thresholds using the function linspace\n",
        "thresholds = np.linspace(0,1, 101)\n",
        "\n",
        "# Create for loop using the thresholds list\n",
        "for t in thresholds:\n",
        "\n",
        "  # Create an array for customers are really churn and this is for case validations are 1\n",
        "  actual_positive = (y_val == 1)\n",
        "\n",
        "  # Create an array for customers are not going to churn and this is for case validations are 0\n",
        "  actual_negative = (y_val == 0)\n",
        "\n",
        "  # Store the positive predictions\n",
        "  predict_positive = (y_pred >= t)\n",
        "\n",
        "  # Store the negative predictions\n",
        "  predict_negative = (y_pred < t)\n",
        "\n",
        "  # Store the true positive values in a variable\n",
        "  tp = (predict_positive & actual_positive).sum()\n",
        "\n",
        "  # Store the true negatives values in a variable\n",
        "  tn = (predict_negative & actual_negative).sum()\n",
        "\n",
        "  # Store the false positive values in a variable\n",
        "  fp = (predict_positive & actual_negative).sum()\n",
        "\n",
        "  # Store the false negatives values in a variable\n",
        "  fn = (predict_negative & actual_positive).sum()\n",
        "\n",
        "  # Append a list called scores\n",
        "  scores.append((t, tp, fp, fn, tn))"
      ]
    },
    {
      "cell_type": "code",
      "execution_count": 48,
      "metadata": {
        "colab": {
          "base_uri": "https://localhost:8080/"
        },
        "id": "QPdttK1cMnqR",
        "outputId": "a44ef67c-da28-4b93-ac03-8bfc4e64dba9"
      },
      "outputs": [
        {
          "output_type": "execute_result",
          "data": {
            "text/plain": [
              "[(0.0, 386, 1023, 0, 0),\n",
              " (0.01, 385, 901, 1, 122),\n",
              " (0.02, 383, 808, 3, 215),\n",
              " (0.03, 382, 753, 4, 270),\n",
              " (0.04, 382, 714, 4, 309),\n",
              " (0.05, 379, 686, 7, 337),\n",
              " (0.06, 377, 656, 9, 367),\n",
              " (0.07, 375, 629, 11, 394),\n",
              " (0.08, 370, 596, 16, 427),\n",
              " (0.09, 370, 566, 16, 457),\n",
              " (0.1, 367, 537, 19, 486),\n",
              " (0.11, 364, 518, 22, 505),\n",
              " (0.12, 363, 496, 23, 527),\n",
              " (0.13, 361, 486, 25, 537),\n",
              " (0.14, 358, 461, 28, 562),\n",
              " (0.15, 353, 441, 33, 582),\n",
              " (0.16, 349, 429, 37, 594),\n",
              " (0.17, 347, 411, 39, 612),\n",
              " (0.18, 347, 398, 39, 625),\n",
              " (0.19, 342, 380, 44, 643),\n",
              " (0.2, 337, 367, 49, 656),\n",
              " (0.21, 332, 351, 54, 672),\n",
              " (0.22, 328, 337, 58, 686),\n",
              " (0.23, 322, 316, 64, 707),\n",
              " (0.24, 319, 307, 67, 716),\n",
              " (0.25, 314, 297, 72, 726),\n",
              " (0.26, 312, 287, 74, 736),\n",
              " (0.27, 310, 274, 76, 749),\n",
              " (0.28, 302, 261, 84, 762),\n",
              " (0.29, 299, 257, 87, 766),\n",
              " (0.3, 292, 245, 94, 778),\n",
              " (0.31, 289, 237, 97, 786),\n",
              " (0.32, 282, 235, 104, 788),\n",
              " (0.33, 279, 229, 107, 794),\n",
              " (0.34, 273, 220, 113, 803),\n",
              " (0.35000000000000003, 271, 214, 115, 809),\n",
              " (0.36, 269, 204, 117, 819),\n",
              " (0.37, 265, 197, 121, 826),\n",
              " (0.38, 260, 188, 126, 835),\n",
              " (0.39, 255, 180, 131, 843),\n",
              " (0.4, 252, 175, 134, 848),\n",
              " (0.41000000000000003, 251, 161, 135, 862),\n",
              " (0.42, 248, 155, 138, 868),\n",
              " (0.43, 241, 149, 145, 874),\n",
              " (0.44, 235, 141, 151, 882),\n",
              " (0.45, 231, 137, 155, 886),\n",
              " (0.46, 230, 129, 156, 894),\n",
              " (0.47000000000000003, 222, 123, 164, 900),\n",
              " (0.48, 216, 116, 170, 907),\n",
              " (0.49, 214, 108, 172, 915),\n",
              " (0.5, 212, 100, 174, 923),\n",
              " (0.51, 208, 97, 178, 926),\n",
              " (0.52, 205, 94, 181, 929),\n",
              " (0.53, 202, 89, 184, 934),\n",
              " (0.54, 195, 85, 191, 938),\n",
              " (0.55, 188, 78, 198, 945),\n",
              " (0.56, 181, 71, 205, 952),\n",
              " (0.5700000000000001, 176, 66, 210, 957),\n",
              " (0.58, 168, 60, 218, 963),\n",
              " (0.59, 162, 57, 224, 966),\n",
              " (0.6, 155, 51, 231, 972),\n",
              " (0.61, 140, 46, 246, 977),\n",
              " (0.62, 132, 41, 254, 982),\n",
              " (0.63, 126, 37, 260, 986),\n",
              " (0.64, 123, 34, 263, 989),\n",
              " (0.65, 119, 33, 267, 990),\n",
              " (0.66, 110, 27, 276, 996),\n",
              " (0.67, 101, 26, 285, 997),\n",
              " (0.68, 94, 22, 292, 1001),\n",
              " (0.6900000000000001, 80, 18, 306, 1005),\n",
              " (0.7000000000000001, 69, 13, 317, 1010),\n",
              " (0.71, 60, 12, 326, 1011),\n",
              " (0.72, 50, 9, 336, 1014),\n",
              " (0.73, 41, 9, 345, 1014),\n",
              " (0.74, 35, 8, 351, 1015),\n",
              " (0.75, 29, 6, 357, 1017),\n",
              " (0.76, 24, 4, 362, 1019),\n",
              " (0.77, 19, 2, 367, 1021),\n",
              " (0.78, 12, 0, 374, 1023),\n",
              " (0.79, 10, 0, 376, 1023),\n",
              " (0.8, 4, 0, 382, 1023),\n",
              " (0.81, 3, 0, 383, 1023),\n",
              " (0.8200000000000001, 2, 0, 384, 1023),\n",
              " (0.8300000000000001, 0, 0, 386, 1023),\n",
              " (0.84, 0, 0, 386, 1023),\n",
              " (0.85, 0, 0, 386, 1023),\n",
              " (0.86, 0, 0, 386, 1023),\n",
              " (0.87, 0, 0, 386, 1023),\n",
              " (0.88, 0, 0, 386, 1023),\n",
              " (0.89, 0, 0, 386, 1023),\n",
              " (0.9, 0, 0, 386, 1023),\n",
              " (0.91, 0, 0, 386, 1023),\n",
              " (0.92, 0, 0, 386, 1023),\n",
              " (0.93, 0, 0, 386, 1023),\n",
              " (0.9400000000000001, 0, 0, 386, 1023),\n",
              " (0.9500000000000001, 0, 0, 386, 1023),\n",
              " (0.96, 0, 0, 386, 1023),\n",
              " (0.97, 0, 0, 386, 1023),\n",
              " (0.98, 0, 0, 386, 1023),\n",
              " (0.99, 0, 0, 386, 1023),\n",
              " (1.0, 0, 0, 386, 1023)]"
            ]
          },
          "metadata": {},
          "execution_count": 48
        }
      ],
      "source": [
        "# Print the scores list with results from the ROC\n",
        "scores"
      ]
    },
    {
      "cell_type": "code",
      "execution_count": 49,
      "metadata": {
        "colab": {
          "base_uri": "https://localhost:8080/",
          "height": 424
        },
        "id": "dBFbtf8VMsCO",
        "outputId": "fe757539-9766-4a2c-ef3d-d17c17f16796"
      },
      "outputs": [
        {
          "output_type": "execute_result",
          "data": {
            "text/plain": [
              "        0    1     2    3     4\n",
              "0    0.00  386  1023    0     0\n",
              "1    0.01  385   901    1   122\n",
              "2    0.02  383   808    3   215\n",
              "3    0.03  382   753    4   270\n",
              "4    0.04  382   714    4   309\n",
              "..    ...  ...   ...  ...   ...\n",
              "96   0.96    0     0  386  1023\n",
              "97   0.97    0     0  386  1023\n",
              "98   0.98    0     0  386  1023\n",
              "99   0.99    0     0  386  1023\n",
              "100  1.00    0     0  386  1023\n",
              "\n",
              "[101 rows x 5 columns]"
            ],
            "text/html": [
              "\n",
              "  <div id=\"df-19fbfd5d-6963-4d89-b9e4-4f55aabd0333\">\n",
              "    <div class=\"colab-df-container\">\n",
              "      <div>\n",
              "<style scoped>\n",
              "    .dataframe tbody tr th:only-of-type {\n",
              "        vertical-align: middle;\n",
              "    }\n",
              "\n",
              "    .dataframe tbody tr th {\n",
              "        vertical-align: top;\n",
              "    }\n",
              "\n",
              "    .dataframe thead th {\n",
              "        text-align: right;\n",
              "    }\n",
              "</style>\n",
              "<table border=\"1\" class=\"dataframe\">\n",
              "  <thead>\n",
              "    <tr style=\"text-align: right;\">\n",
              "      <th></th>\n",
              "      <th>0</th>\n",
              "      <th>1</th>\n",
              "      <th>2</th>\n",
              "      <th>3</th>\n",
              "      <th>4</th>\n",
              "    </tr>\n",
              "  </thead>\n",
              "  <tbody>\n",
              "    <tr>\n",
              "      <th>0</th>\n",
              "      <td>0.00</td>\n",
              "      <td>386</td>\n",
              "      <td>1023</td>\n",
              "      <td>0</td>\n",
              "      <td>0</td>\n",
              "    </tr>\n",
              "    <tr>\n",
              "      <th>1</th>\n",
              "      <td>0.01</td>\n",
              "      <td>385</td>\n",
              "      <td>901</td>\n",
              "      <td>1</td>\n",
              "      <td>122</td>\n",
              "    </tr>\n",
              "    <tr>\n",
              "      <th>2</th>\n",
              "      <td>0.02</td>\n",
              "      <td>383</td>\n",
              "      <td>808</td>\n",
              "      <td>3</td>\n",
              "      <td>215</td>\n",
              "    </tr>\n",
              "    <tr>\n",
              "      <th>3</th>\n",
              "      <td>0.03</td>\n",
              "      <td>382</td>\n",
              "      <td>753</td>\n",
              "      <td>4</td>\n",
              "      <td>270</td>\n",
              "    </tr>\n",
              "    <tr>\n",
              "      <th>4</th>\n",
              "      <td>0.04</td>\n",
              "      <td>382</td>\n",
              "      <td>714</td>\n",
              "      <td>4</td>\n",
              "      <td>309</td>\n",
              "    </tr>\n",
              "    <tr>\n",
              "      <th>...</th>\n",
              "      <td>...</td>\n",
              "      <td>...</td>\n",
              "      <td>...</td>\n",
              "      <td>...</td>\n",
              "      <td>...</td>\n",
              "    </tr>\n",
              "    <tr>\n",
              "      <th>96</th>\n",
              "      <td>0.96</td>\n",
              "      <td>0</td>\n",
              "      <td>0</td>\n",
              "      <td>386</td>\n",
              "      <td>1023</td>\n",
              "    </tr>\n",
              "    <tr>\n",
              "      <th>97</th>\n",
              "      <td>0.97</td>\n",
              "      <td>0</td>\n",
              "      <td>0</td>\n",
              "      <td>386</td>\n",
              "      <td>1023</td>\n",
              "    </tr>\n",
              "    <tr>\n",
              "      <th>98</th>\n",
              "      <td>0.98</td>\n",
              "      <td>0</td>\n",
              "      <td>0</td>\n",
              "      <td>386</td>\n",
              "      <td>1023</td>\n",
              "    </tr>\n",
              "    <tr>\n",
              "      <th>99</th>\n",
              "      <td>0.99</td>\n",
              "      <td>0</td>\n",
              "      <td>0</td>\n",
              "      <td>386</td>\n",
              "      <td>1023</td>\n",
              "    </tr>\n",
              "    <tr>\n",
              "      <th>100</th>\n",
              "      <td>1.00</td>\n",
              "      <td>0</td>\n",
              "      <td>0</td>\n",
              "      <td>386</td>\n",
              "      <td>1023</td>\n",
              "    </tr>\n",
              "  </tbody>\n",
              "</table>\n",
              "<p>101 rows × 5 columns</p>\n",
              "</div>\n",
              "      <button class=\"colab-df-convert\" onclick=\"convertToInteractive('df-19fbfd5d-6963-4d89-b9e4-4f55aabd0333')\"\n",
              "              title=\"Convert this dataframe to an interactive table.\"\n",
              "              style=\"display:none;\">\n",
              "        \n",
              "  <svg xmlns=\"http://www.w3.org/2000/svg\" height=\"24px\"viewBox=\"0 0 24 24\"\n",
              "       width=\"24px\">\n",
              "    <path d=\"M0 0h24v24H0V0z\" fill=\"none\"/>\n",
              "    <path d=\"M18.56 5.44l.94 2.06.94-2.06 2.06-.94-2.06-.94-.94-2.06-.94 2.06-2.06.94zm-11 1L8.5 8.5l.94-2.06 2.06-.94-2.06-.94L8.5 2.5l-.94 2.06-2.06.94zm10 10l.94 2.06.94-2.06 2.06-.94-2.06-.94-.94-2.06-.94 2.06-2.06.94z\"/><path d=\"M17.41 7.96l-1.37-1.37c-.4-.4-.92-.59-1.43-.59-.52 0-1.04.2-1.43.59L10.3 9.45l-7.72 7.72c-.78.78-.78 2.05 0 2.83L4 21.41c.39.39.9.59 1.41.59.51 0 1.02-.2 1.41-.59l7.78-7.78 2.81-2.81c.8-.78.8-2.07 0-2.86zM5.41 20L4 18.59l7.72-7.72 1.47 1.35L5.41 20z\"/>\n",
              "  </svg>\n",
              "      </button>\n",
              "      \n",
              "  <style>\n",
              "    .colab-df-container {\n",
              "      display:flex;\n",
              "      flex-wrap:wrap;\n",
              "      gap: 12px;\n",
              "    }\n",
              "\n",
              "    .colab-df-convert {\n",
              "      background-color: #E8F0FE;\n",
              "      border: none;\n",
              "      border-radius: 50%;\n",
              "      cursor: pointer;\n",
              "      display: none;\n",
              "      fill: #1967D2;\n",
              "      height: 32px;\n",
              "      padding: 0 0 0 0;\n",
              "      width: 32px;\n",
              "    }\n",
              "\n",
              "    .colab-df-convert:hover {\n",
              "      background-color: #E2EBFA;\n",
              "      box-shadow: 0px 1px 2px rgba(60, 64, 67, 0.3), 0px 1px 3px 1px rgba(60, 64, 67, 0.15);\n",
              "      fill: #174EA6;\n",
              "    }\n",
              "\n",
              "    [theme=dark] .colab-df-convert {\n",
              "      background-color: #3B4455;\n",
              "      fill: #D2E3FC;\n",
              "    }\n",
              "\n",
              "    [theme=dark] .colab-df-convert:hover {\n",
              "      background-color: #434B5C;\n",
              "      box-shadow: 0px 1px 3px 1px rgba(0, 0, 0, 0.15);\n",
              "      filter: drop-shadow(0px 1px 2px rgba(0, 0, 0, 0.3));\n",
              "      fill: #FFFFFF;\n",
              "    }\n",
              "  </style>\n",
              "\n",
              "      <script>\n",
              "        const buttonEl =\n",
              "          document.querySelector('#df-19fbfd5d-6963-4d89-b9e4-4f55aabd0333 button.colab-df-convert');\n",
              "        buttonEl.style.display =\n",
              "          google.colab.kernel.accessAllowed ? 'block' : 'none';\n",
              "\n",
              "        async function convertToInteractive(key) {\n",
              "          const element = document.querySelector('#df-19fbfd5d-6963-4d89-b9e4-4f55aabd0333');\n",
              "          const dataTable =\n",
              "            await google.colab.kernel.invokeFunction('convertToInteractive',\n",
              "                                                     [key], {});\n",
              "          if (!dataTable) return;\n",
              "\n",
              "          const docLinkHtml = 'Like what you see? Visit the ' +\n",
              "            '<a target=\"_blank\" href=https://colab.research.google.com/notebooks/data_table.ipynb>data table notebook</a>'\n",
              "            + ' to learn more about interactive tables.';\n",
              "          element.innerHTML = '';\n",
              "          dataTable['output_type'] = 'display_data';\n",
              "          await google.colab.output.renderOutput(dataTable, element);\n",
              "          const docLink = document.createElement('div');\n",
              "          docLink.innerHTML = docLinkHtml;\n",
              "          element.appendChild(docLink);\n",
              "        }\n",
              "      </script>\n",
              "    </div>\n",
              "  </div>\n",
              "  "
            ]
          },
          "metadata": {},
          "execution_count": 49
        }
      ],
      "source": [
        "# Turn the scores list with results from the ROC into a dataframe\n",
        "pd.DataFrame(scores)"
      ]
    },
    {
      "cell_type": "code",
      "execution_count": 50,
      "metadata": {
        "colab": {
          "base_uri": "https://localhost:8080/",
          "height": 424
        },
        "id": "sJ02XvyQNqc7",
        "outputId": "25f60251-f946-450a-a28f-1feb67afd59d"
      },
      "outputs": [
        {
          "output_type": "execute_result",
          "data": {
            "text/plain": [
              "     threshold   tp    fp   fn    tn\n",
              "0         0.00  386  1023    0     0\n",
              "1         0.01  385   901    1   122\n",
              "2         0.02  383   808    3   215\n",
              "3         0.03  382   753    4   270\n",
              "4         0.04  382   714    4   309\n",
              "..         ...  ...   ...  ...   ...\n",
              "96        0.96    0     0  386  1023\n",
              "97        0.97    0     0  386  1023\n",
              "98        0.98    0     0  386  1023\n",
              "99        0.99    0     0  386  1023\n",
              "100       1.00    0     0  386  1023\n",
              "\n",
              "[101 rows x 5 columns]"
            ],
            "text/html": [
              "\n",
              "  <div id=\"df-39f67b75-9d0a-448d-8848-63bb43d53262\">\n",
              "    <div class=\"colab-df-container\">\n",
              "      <div>\n",
              "<style scoped>\n",
              "    .dataframe tbody tr th:only-of-type {\n",
              "        vertical-align: middle;\n",
              "    }\n",
              "\n",
              "    .dataframe tbody tr th {\n",
              "        vertical-align: top;\n",
              "    }\n",
              "\n",
              "    .dataframe thead th {\n",
              "        text-align: right;\n",
              "    }\n",
              "</style>\n",
              "<table border=\"1\" class=\"dataframe\">\n",
              "  <thead>\n",
              "    <tr style=\"text-align: right;\">\n",
              "      <th></th>\n",
              "      <th>threshold</th>\n",
              "      <th>tp</th>\n",
              "      <th>fp</th>\n",
              "      <th>fn</th>\n",
              "      <th>tn</th>\n",
              "    </tr>\n",
              "  </thead>\n",
              "  <tbody>\n",
              "    <tr>\n",
              "      <th>0</th>\n",
              "      <td>0.00</td>\n",
              "      <td>386</td>\n",
              "      <td>1023</td>\n",
              "      <td>0</td>\n",
              "      <td>0</td>\n",
              "    </tr>\n",
              "    <tr>\n",
              "      <th>1</th>\n",
              "      <td>0.01</td>\n",
              "      <td>385</td>\n",
              "      <td>901</td>\n",
              "      <td>1</td>\n",
              "      <td>122</td>\n",
              "    </tr>\n",
              "    <tr>\n",
              "      <th>2</th>\n",
              "      <td>0.02</td>\n",
              "      <td>383</td>\n",
              "      <td>808</td>\n",
              "      <td>3</td>\n",
              "      <td>215</td>\n",
              "    </tr>\n",
              "    <tr>\n",
              "      <th>3</th>\n",
              "      <td>0.03</td>\n",
              "      <td>382</td>\n",
              "      <td>753</td>\n",
              "      <td>4</td>\n",
              "      <td>270</td>\n",
              "    </tr>\n",
              "    <tr>\n",
              "      <th>4</th>\n",
              "      <td>0.04</td>\n",
              "      <td>382</td>\n",
              "      <td>714</td>\n",
              "      <td>4</td>\n",
              "      <td>309</td>\n",
              "    </tr>\n",
              "    <tr>\n",
              "      <th>...</th>\n",
              "      <td>...</td>\n",
              "      <td>...</td>\n",
              "      <td>...</td>\n",
              "      <td>...</td>\n",
              "      <td>...</td>\n",
              "    </tr>\n",
              "    <tr>\n",
              "      <th>96</th>\n",
              "      <td>0.96</td>\n",
              "      <td>0</td>\n",
              "      <td>0</td>\n",
              "      <td>386</td>\n",
              "      <td>1023</td>\n",
              "    </tr>\n",
              "    <tr>\n",
              "      <th>97</th>\n",
              "      <td>0.97</td>\n",
              "      <td>0</td>\n",
              "      <td>0</td>\n",
              "      <td>386</td>\n",
              "      <td>1023</td>\n",
              "    </tr>\n",
              "    <tr>\n",
              "      <th>98</th>\n",
              "      <td>0.98</td>\n",
              "      <td>0</td>\n",
              "      <td>0</td>\n",
              "      <td>386</td>\n",
              "      <td>1023</td>\n",
              "    </tr>\n",
              "    <tr>\n",
              "      <th>99</th>\n",
              "      <td>0.99</td>\n",
              "      <td>0</td>\n",
              "      <td>0</td>\n",
              "      <td>386</td>\n",
              "      <td>1023</td>\n",
              "    </tr>\n",
              "    <tr>\n",
              "      <th>100</th>\n",
              "      <td>1.00</td>\n",
              "      <td>0</td>\n",
              "      <td>0</td>\n",
              "      <td>386</td>\n",
              "      <td>1023</td>\n",
              "    </tr>\n",
              "  </tbody>\n",
              "</table>\n",
              "<p>101 rows × 5 columns</p>\n",
              "</div>\n",
              "      <button class=\"colab-df-convert\" onclick=\"convertToInteractive('df-39f67b75-9d0a-448d-8848-63bb43d53262')\"\n",
              "              title=\"Convert this dataframe to an interactive table.\"\n",
              "              style=\"display:none;\">\n",
              "        \n",
              "  <svg xmlns=\"http://www.w3.org/2000/svg\" height=\"24px\"viewBox=\"0 0 24 24\"\n",
              "       width=\"24px\">\n",
              "    <path d=\"M0 0h24v24H0V0z\" fill=\"none\"/>\n",
              "    <path d=\"M18.56 5.44l.94 2.06.94-2.06 2.06-.94-2.06-.94-.94-2.06-.94 2.06-2.06.94zm-11 1L8.5 8.5l.94-2.06 2.06-.94-2.06-.94L8.5 2.5l-.94 2.06-2.06.94zm10 10l.94 2.06.94-2.06 2.06-.94-2.06-.94-.94-2.06-.94 2.06-2.06.94z\"/><path d=\"M17.41 7.96l-1.37-1.37c-.4-.4-.92-.59-1.43-.59-.52 0-1.04.2-1.43.59L10.3 9.45l-7.72 7.72c-.78.78-.78 2.05 0 2.83L4 21.41c.39.39.9.59 1.41.59.51 0 1.02-.2 1.41-.59l7.78-7.78 2.81-2.81c.8-.78.8-2.07 0-2.86zM5.41 20L4 18.59l7.72-7.72 1.47 1.35L5.41 20z\"/>\n",
              "  </svg>\n",
              "      </button>\n",
              "      \n",
              "  <style>\n",
              "    .colab-df-container {\n",
              "      display:flex;\n",
              "      flex-wrap:wrap;\n",
              "      gap: 12px;\n",
              "    }\n",
              "\n",
              "    .colab-df-convert {\n",
              "      background-color: #E8F0FE;\n",
              "      border: none;\n",
              "      border-radius: 50%;\n",
              "      cursor: pointer;\n",
              "      display: none;\n",
              "      fill: #1967D2;\n",
              "      height: 32px;\n",
              "      padding: 0 0 0 0;\n",
              "      width: 32px;\n",
              "    }\n",
              "\n",
              "    .colab-df-convert:hover {\n",
              "      background-color: #E2EBFA;\n",
              "      box-shadow: 0px 1px 2px rgba(60, 64, 67, 0.3), 0px 1px 3px 1px rgba(60, 64, 67, 0.15);\n",
              "      fill: #174EA6;\n",
              "    }\n",
              "\n",
              "    [theme=dark] .colab-df-convert {\n",
              "      background-color: #3B4455;\n",
              "      fill: #D2E3FC;\n",
              "    }\n",
              "\n",
              "    [theme=dark] .colab-df-convert:hover {\n",
              "      background-color: #434B5C;\n",
              "      box-shadow: 0px 1px 3px 1px rgba(0, 0, 0, 0.15);\n",
              "      filter: drop-shadow(0px 1px 2px rgba(0, 0, 0, 0.3));\n",
              "      fill: #FFFFFF;\n",
              "    }\n",
              "  </style>\n",
              "\n",
              "      <script>\n",
              "        const buttonEl =\n",
              "          document.querySelector('#df-39f67b75-9d0a-448d-8848-63bb43d53262 button.colab-df-convert');\n",
              "        buttonEl.style.display =\n",
              "          google.colab.kernel.accessAllowed ? 'block' : 'none';\n",
              "\n",
              "        async function convertToInteractive(key) {\n",
              "          const element = document.querySelector('#df-39f67b75-9d0a-448d-8848-63bb43d53262');\n",
              "          const dataTable =\n",
              "            await google.colab.kernel.invokeFunction('convertToInteractive',\n",
              "                                                     [key], {});\n",
              "          if (!dataTable) return;\n",
              "\n",
              "          const docLinkHtml = 'Like what you see? Visit the ' +\n",
              "            '<a target=\"_blank\" href=https://colab.research.google.com/notebooks/data_table.ipynb>data table notebook</a>'\n",
              "            + ' to learn more about interactive tables.';\n",
              "          element.innerHTML = '';\n",
              "          dataTable['output_type'] = 'display_data';\n",
              "          await google.colab.output.renderOutput(dataTable, element);\n",
              "          const docLink = document.createElement('div');\n",
              "          docLink.innerHTML = docLinkHtml;\n",
              "          element.appendChild(docLink);\n",
              "        }\n",
              "      </script>\n",
              "    </div>\n",
              "  </div>\n",
              "  "
            ]
          },
          "metadata": {},
          "execution_count": 50
        }
      ],
      "source": [
        "# Specify the columns names of the dataframe scores\n",
        "columns = ['threshold','tp','fp','fn','tn']\n",
        "df_scores = pd.DataFrame(scores, columns=columns)\n",
        "df_scores"
      ]
    },
    {
      "cell_type": "code",
      "execution_count": 51,
      "metadata": {
        "colab": {
          "base_uri": "https://localhost:8080/",
          "height": 394
        },
        "id": "hvBEMX-jOF9J",
        "outputId": "228d376f-b62c-4f5a-e89a-1c36136098a5"
      },
      "outputs": [
        {
          "output_type": "execute_result",
          "data": {
            "text/plain": [
              "     threshold   tp    fp   fn    tn\n",
              "0          0.0  386  1023    0     0\n",
              "10         0.1  367   537   19   486\n",
              "20         0.2  337   367   49   656\n",
              "30         0.3  292   245   94   778\n",
              "40         0.4  252   175  134   848\n",
              "50         0.5  212   100  174   923\n",
              "60         0.6  155    51  231   972\n",
              "70         0.7   69    13  317  1010\n",
              "80         0.8    4     0  382  1023\n",
              "90         0.9    0     0  386  1023\n",
              "100        1.0    0     0  386  1023"
            ],
            "text/html": [
              "\n",
              "  <div id=\"df-fac34488-00b9-4797-bd66-0aba0d6effe4\">\n",
              "    <div class=\"colab-df-container\">\n",
              "      <div>\n",
              "<style scoped>\n",
              "    .dataframe tbody tr th:only-of-type {\n",
              "        vertical-align: middle;\n",
              "    }\n",
              "\n",
              "    .dataframe tbody tr th {\n",
              "        vertical-align: top;\n",
              "    }\n",
              "\n",
              "    .dataframe thead th {\n",
              "        text-align: right;\n",
              "    }\n",
              "</style>\n",
              "<table border=\"1\" class=\"dataframe\">\n",
              "  <thead>\n",
              "    <tr style=\"text-align: right;\">\n",
              "      <th></th>\n",
              "      <th>threshold</th>\n",
              "      <th>tp</th>\n",
              "      <th>fp</th>\n",
              "      <th>fn</th>\n",
              "      <th>tn</th>\n",
              "    </tr>\n",
              "  </thead>\n",
              "  <tbody>\n",
              "    <tr>\n",
              "      <th>0</th>\n",
              "      <td>0.0</td>\n",
              "      <td>386</td>\n",
              "      <td>1023</td>\n",
              "      <td>0</td>\n",
              "      <td>0</td>\n",
              "    </tr>\n",
              "    <tr>\n",
              "      <th>10</th>\n",
              "      <td>0.1</td>\n",
              "      <td>367</td>\n",
              "      <td>537</td>\n",
              "      <td>19</td>\n",
              "      <td>486</td>\n",
              "    </tr>\n",
              "    <tr>\n",
              "      <th>20</th>\n",
              "      <td>0.2</td>\n",
              "      <td>337</td>\n",
              "      <td>367</td>\n",
              "      <td>49</td>\n",
              "      <td>656</td>\n",
              "    </tr>\n",
              "    <tr>\n",
              "      <th>30</th>\n",
              "      <td>0.3</td>\n",
              "      <td>292</td>\n",
              "      <td>245</td>\n",
              "      <td>94</td>\n",
              "      <td>778</td>\n",
              "    </tr>\n",
              "    <tr>\n",
              "      <th>40</th>\n",
              "      <td>0.4</td>\n",
              "      <td>252</td>\n",
              "      <td>175</td>\n",
              "      <td>134</td>\n",
              "      <td>848</td>\n",
              "    </tr>\n",
              "    <tr>\n",
              "      <th>50</th>\n",
              "      <td>0.5</td>\n",
              "      <td>212</td>\n",
              "      <td>100</td>\n",
              "      <td>174</td>\n",
              "      <td>923</td>\n",
              "    </tr>\n",
              "    <tr>\n",
              "      <th>60</th>\n",
              "      <td>0.6</td>\n",
              "      <td>155</td>\n",
              "      <td>51</td>\n",
              "      <td>231</td>\n",
              "      <td>972</td>\n",
              "    </tr>\n",
              "    <tr>\n",
              "      <th>70</th>\n",
              "      <td>0.7</td>\n",
              "      <td>69</td>\n",
              "      <td>13</td>\n",
              "      <td>317</td>\n",
              "      <td>1010</td>\n",
              "    </tr>\n",
              "    <tr>\n",
              "      <th>80</th>\n",
              "      <td>0.8</td>\n",
              "      <td>4</td>\n",
              "      <td>0</td>\n",
              "      <td>382</td>\n",
              "      <td>1023</td>\n",
              "    </tr>\n",
              "    <tr>\n",
              "      <th>90</th>\n",
              "      <td>0.9</td>\n",
              "      <td>0</td>\n",
              "      <td>0</td>\n",
              "      <td>386</td>\n",
              "      <td>1023</td>\n",
              "    </tr>\n",
              "    <tr>\n",
              "      <th>100</th>\n",
              "      <td>1.0</td>\n",
              "      <td>0</td>\n",
              "      <td>0</td>\n",
              "      <td>386</td>\n",
              "      <td>1023</td>\n",
              "    </tr>\n",
              "  </tbody>\n",
              "</table>\n",
              "</div>\n",
              "      <button class=\"colab-df-convert\" onclick=\"convertToInteractive('df-fac34488-00b9-4797-bd66-0aba0d6effe4')\"\n",
              "              title=\"Convert this dataframe to an interactive table.\"\n",
              "              style=\"display:none;\">\n",
              "        \n",
              "  <svg xmlns=\"http://www.w3.org/2000/svg\" height=\"24px\"viewBox=\"0 0 24 24\"\n",
              "       width=\"24px\">\n",
              "    <path d=\"M0 0h24v24H0V0z\" fill=\"none\"/>\n",
              "    <path d=\"M18.56 5.44l.94 2.06.94-2.06 2.06-.94-2.06-.94-.94-2.06-.94 2.06-2.06.94zm-11 1L8.5 8.5l.94-2.06 2.06-.94-2.06-.94L8.5 2.5l-.94 2.06-2.06.94zm10 10l.94 2.06.94-2.06 2.06-.94-2.06-.94-.94-2.06-.94 2.06-2.06.94z\"/><path d=\"M17.41 7.96l-1.37-1.37c-.4-.4-.92-.59-1.43-.59-.52 0-1.04.2-1.43.59L10.3 9.45l-7.72 7.72c-.78.78-.78 2.05 0 2.83L4 21.41c.39.39.9.59 1.41.59.51 0 1.02-.2 1.41-.59l7.78-7.78 2.81-2.81c.8-.78.8-2.07 0-2.86zM5.41 20L4 18.59l7.72-7.72 1.47 1.35L5.41 20z\"/>\n",
              "  </svg>\n",
              "      </button>\n",
              "      \n",
              "  <style>\n",
              "    .colab-df-container {\n",
              "      display:flex;\n",
              "      flex-wrap:wrap;\n",
              "      gap: 12px;\n",
              "    }\n",
              "\n",
              "    .colab-df-convert {\n",
              "      background-color: #E8F0FE;\n",
              "      border: none;\n",
              "      border-radius: 50%;\n",
              "      cursor: pointer;\n",
              "      display: none;\n",
              "      fill: #1967D2;\n",
              "      height: 32px;\n",
              "      padding: 0 0 0 0;\n",
              "      width: 32px;\n",
              "    }\n",
              "\n",
              "    .colab-df-convert:hover {\n",
              "      background-color: #E2EBFA;\n",
              "      box-shadow: 0px 1px 2px rgba(60, 64, 67, 0.3), 0px 1px 3px 1px rgba(60, 64, 67, 0.15);\n",
              "      fill: #174EA6;\n",
              "    }\n",
              "\n",
              "    [theme=dark] .colab-df-convert {\n",
              "      background-color: #3B4455;\n",
              "      fill: #D2E3FC;\n",
              "    }\n",
              "\n",
              "    [theme=dark] .colab-df-convert:hover {\n",
              "      background-color: #434B5C;\n",
              "      box-shadow: 0px 1px 3px 1px rgba(0, 0, 0, 0.15);\n",
              "      filter: drop-shadow(0px 1px 2px rgba(0, 0, 0, 0.3));\n",
              "      fill: #FFFFFF;\n",
              "    }\n",
              "  </style>\n",
              "\n",
              "      <script>\n",
              "        const buttonEl =\n",
              "          document.querySelector('#df-fac34488-00b9-4797-bd66-0aba0d6effe4 button.colab-df-convert');\n",
              "        buttonEl.style.display =\n",
              "          google.colab.kernel.accessAllowed ? 'block' : 'none';\n",
              "\n",
              "        async function convertToInteractive(key) {\n",
              "          const element = document.querySelector('#df-fac34488-00b9-4797-bd66-0aba0d6effe4');\n",
              "          const dataTable =\n",
              "            await google.colab.kernel.invokeFunction('convertToInteractive',\n",
              "                                                     [key], {});\n",
              "          if (!dataTable) return;\n",
              "\n",
              "          const docLinkHtml = 'Like what you see? Visit the ' +\n",
              "            '<a target=\"_blank\" href=https://colab.research.google.com/notebooks/data_table.ipynb>data table notebook</a>'\n",
              "            + ' to learn more about interactive tables.';\n",
              "          element.innerHTML = '';\n",
              "          dataTable['output_type'] = 'display_data';\n",
              "          await google.colab.output.renderOutput(dataTable, element);\n",
              "          const docLink = document.createElement('div');\n",
              "          docLink.innerHTML = docLinkHtml;\n",
              "          element.appendChild(docLink);\n",
              "        }\n",
              "      </script>\n",
              "    </div>\n",
              "  </div>\n",
              "  "
            ]
          },
          "metadata": {},
          "execution_count": 51
        }
      ],
      "source": [
        "# Print the each tenth record of the scores dataframe\n",
        "df_scores[::10]"
      ]
    },
    {
      "cell_type": "code",
      "execution_count": 52,
      "metadata": {
        "id": "bxat4NoqOlzs"
      },
      "outputs": [],
      "source": [
        "# Compute the true positive rates of the dataframe scores\n",
        "df_scores['tpr'] = df_scores.tp / (df_scores.tp + df_scores.fn)\n",
        "\n",
        "# Compute the false positive rates of the dataframe scores\n",
        "df_scores['fpr'] = df_scores.fp / (df_scores.fp + df_scores.tn)"
      ]
    },
    {
      "cell_type": "code",
      "execution_count": 53,
      "metadata": {
        "colab": {
          "base_uri": "https://localhost:8080/",
          "height": 394
        },
        "id": "VU0vz1CCPhBb",
        "outputId": "b1576eb9-6cd2-42d6-bbca-7b9352eff29f"
      },
      "outputs": [
        {
          "output_type": "execute_result",
          "data": {
            "text/plain": [
              "     threshold   tp    fp   fn    tn       tpr       fpr\n",
              "0          0.0  386  1023    0     0  1.000000  1.000000\n",
              "10         0.1  367   537   19   486  0.950777  0.524927\n",
              "20         0.2  337   367   49   656  0.873057  0.358749\n",
              "30         0.3  292   245   94   778  0.756477  0.239492\n",
              "40         0.4  252   175  134   848  0.652850  0.171065\n",
              "50         0.5  212   100  174   923  0.549223  0.097752\n",
              "60         0.6  155    51  231   972  0.401554  0.049853\n",
              "70         0.7   69    13  317  1010  0.178756  0.012708\n",
              "80         0.8    4     0  382  1023  0.010363  0.000000\n",
              "90         0.9    0     0  386  1023  0.000000  0.000000\n",
              "100        1.0    0     0  386  1023  0.000000  0.000000"
            ],
            "text/html": [
              "\n",
              "  <div id=\"df-8cd598ce-2de9-4ca5-a992-430fd2ce00f2\">\n",
              "    <div class=\"colab-df-container\">\n",
              "      <div>\n",
              "<style scoped>\n",
              "    .dataframe tbody tr th:only-of-type {\n",
              "        vertical-align: middle;\n",
              "    }\n",
              "\n",
              "    .dataframe tbody tr th {\n",
              "        vertical-align: top;\n",
              "    }\n",
              "\n",
              "    .dataframe thead th {\n",
              "        text-align: right;\n",
              "    }\n",
              "</style>\n",
              "<table border=\"1\" class=\"dataframe\">\n",
              "  <thead>\n",
              "    <tr style=\"text-align: right;\">\n",
              "      <th></th>\n",
              "      <th>threshold</th>\n",
              "      <th>tp</th>\n",
              "      <th>fp</th>\n",
              "      <th>fn</th>\n",
              "      <th>tn</th>\n",
              "      <th>tpr</th>\n",
              "      <th>fpr</th>\n",
              "    </tr>\n",
              "  </thead>\n",
              "  <tbody>\n",
              "    <tr>\n",
              "      <th>0</th>\n",
              "      <td>0.0</td>\n",
              "      <td>386</td>\n",
              "      <td>1023</td>\n",
              "      <td>0</td>\n",
              "      <td>0</td>\n",
              "      <td>1.000000</td>\n",
              "      <td>1.000000</td>\n",
              "    </tr>\n",
              "    <tr>\n",
              "      <th>10</th>\n",
              "      <td>0.1</td>\n",
              "      <td>367</td>\n",
              "      <td>537</td>\n",
              "      <td>19</td>\n",
              "      <td>486</td>\n",
              "      <td>0.950777</td>\n",
              "      <td>0.524927</td>\n",
              "    </tr>\n",
              "    <tr>\n",
              "      <th>20</th>\n",
              "      <td>0.2</td>\n",
              "      <td>337</td>\n",
              "      <td>367</td>\n",
              "      <td>49</td>\n",
              "      <td>656</td>\n",
              "      <td>0.873057</td>\n",
              "      <td>0.358749</td>\n",
              "    </tr>\n",
              "    <tr>\n",
              "      <th>30</th>\n",
              "      <td>0.3</td>\n",
              "      <td>292</td>\n",
              "      <td>245</td>\n",
              "      <td>94</td>\n",
              "      <td>778</td>\n",
              "      <td>0.756477</td>\n",
              "      <td>0.239492</td>\n",
              "    </tr>\n",
              "    <tr>\n",
              "      <th>40</th>\n",
              "      <td>0.4</td>\n",
              "      <td>252</td>\n",
              "      <td>175</td>\n",
              "      <td>134</td>\n",
              "      <td>848</td>\n",
              "      <td>0.652850</td>\n",
              "      <td>0.171065</td>\n",
              "    </tr>\n",
              "    <tr>\n",
              "      <th>50</th>\n",
              "      <td>0.5</td>\n",
              "      <td>212</td>\n",
              "      <td>100</td>\n",
              "      <td>174</td>\n",
              "      <td>923</td>\n",
              "      <td>0.549223</td>\n",
              "      <td>0.097752</td>\n",
              "    </tr>\n",
              "    <tr>\n",
              "      <th>60</th>\n",
              "      <td>0.6</td>\n",
              "      <td>155</td>\n",
              "      <td>51</td>\n",
              "      <td>231</td>\n",
              "      <td>972</td>\n",
              "      <td>0.401554</td>\n",
              "      <td>0.049853</td>\n",
              "    </tr>\n",
              "    <tr>\n",
              "      <th>70</th>\n",
              "      <td>0.7</td>\n",
              "      <td>69</td>\n",
              "      <td>13</td>\n",
              "      <td>317</td>\n",
              "      <td>1010</td>\n",
              "      <td>0.178756</td>\n",
              "      <td>0.012708</td>\n",
              "    </tr>\n",
              "    <tr>\n",
              "      <th>80</th>\n",
              "      <td>0.8</td>\n",
              "      <td>4</td>\n",
              "      <td>0</td>\n",
              "      <td>382</td>\n",
              "      <td>1023</td>\n",
              "      <td>0.010363</td>\n",
              "      <td>0.000000</td>\n",
              "    </tr>\n",
              "    <tr>\n",
              "      <th>90</th>\n",
              "      <td>0.9</td>\n",
              "      <td>0</td>\n",
              "      <td>0</td>\n",
              "      <td>386</td>\n",
              "      <td>1023</td>\n",
              "      <td>0.000000</td>\n",
              "      <td>0.000000</td>\n",
              "    </tr>\n",
              "    <tr>\n",
              "      <th>100</th>\n",
              "      <td>1.0</td>\n",
              "      <td>0</td>\n",
              "      <td>0</td>\n",
              "      <td>386</td>\n",
              "      <td>1023</td>\n",
              "      <td>0.000000</td>\n",
              "      <td>0.000000</td>\n",
              "    </tr>\n",
              "  </tbody>\n",
              "</table>\n",
              "</div>\n",
              "      <button class=\"colab-df-convert\" onclick=\"convertToInteractive('df-8cd598ce-2de9-4ca5-a992-430fd2ce00f2')\"\n",
              "              title=\"Convert this dataframe to an interactive table.\"\n",
              "              style=\"display:none;\">\n",
              "        \n",
              "  <svg xmlns=\"http://www.w3.org/2000/svg\" height=\"24px\"viewBox=\"0 0 24 24\"\n",
              "       width=\"24px\">\n",
              "    <path d=\"M0 0h24v24H0V0z\" fill=\"none\"/>\n",
              "    <path d=\"M18.56 5.44l.94 2.06.94-2.06 2.06-.94-2.06-.94-.94-2.06-.94 2.06-2.06.94zm-11 1L8.5 8.5l.94-2.06 2.06-.94-2.06-.94L8.5 2.5l-.94 2.06-2.06.94zm10 10l.94 2.06.94-2.06 2.06-.94-2.06-.94-.94-2.06-.94 2.06-2.06.94z\"/><path d=\"M17.41 7.96l-1.37-1.37c-.4-.4-.92-.59-1.43-.59-.52 0-1.04.2-1.43.59L10.3 9.45l-7.72 7.72c-.78.78-.78 2.05 0 2.83L4 21.41c.39.39.9.59 1.41.59.51 0 1.02-.2 1.41-.59l7.78-7.78 2.81-2.81c.8-.78.8-2.07 0-2.86zM5.41 20L4 18.59l7.72-7.72 1.47 1.35L5.41 20z\"/>\n",
              "  </svg>\n",
              "      </button>\n",
              "      \n",
              "  <style>\n",
              "    .colab-df-container {\n",
              "      display:flex;\n",
              "      flex-wrap:wrap;\n",
              "      gap: 12px;\n",
              "    }\n",
              "\n",
              "    .colab-df-convert {\n",
              "      background-color: #E8F0FE;\n",
              "      border: none;\n",
              "      border-radius: 50%;\n",
              "      cursor: pointer;\n",
              "      display: none;\n",
              "      fill: #1967D2;\n",
              "      height: 32px;\n",
              "      padding: 0 0 0 0;\n",
              "      width: 32px;\n",
              "    }\n",
              "\n",
              "    .colab-df-convert:hover {\n",
              "      background-color: #E2EBFA;\n",
              "      box-shadow: 0px 1px 2px rgba(60, 64, 67, 0.3), 0px 1px 3px 1px rgba(60, 64, 67, 0.15);\n",
              "      fill: #174EA6;\n",
              "    }\n",
              "\n",
              "    [theme=dark] .colab-df-convert {\n",
              "      background-color: #3B4455;\n",
              "      fill: #D2E3FC;\n",
              "    }\n",
              "\n",
              "    [theme=dark] .colab-df-convert:hover {\n",
              "      background-color: #434B5C;\n",
              "      box-shadow: 0px 1px 3px 1px rgba(0, 0, 0, 0.15);\n",
              "      filter: drop-shadow(0px 1px 2px rgba(0, 0, 0, 0.3));\n",
              "      fill: #FFFFFF;\n",
              "    }\n",
              "  </style>\n",
              "\n",
              "      <script>\n",
              "        const buttonEl =\n",
              "          document.querySelector('#df-8cd598ce-2de9-4ca5-a992-430fd2ce00f2 button.colab-df-convert');\n",
              "        buttonEl.style.display =\n",
              "          google.colab.kernel.accessAllowed ? 'block' : 'none';\n",
              "\n",
              "        async function convertToInteractive(key) {\n",
              "          const element = document.querySelector('#df-8cd598ce-2de9-4ca5-a992-430fd2ce00f2');\n",
              "          const dataTable =\n",
              "            await google.colab.kernel.invokeFunction('convertToInteractive',\n",
              "                                                     [key], {});\n",
              "          if (!dataTable) return;\n",
              "\n",
              "          const docLinkHtml = 'Like what you see? Visit the ' +\n",
              "            '<a target=\"_blank\" href=https://colab.research.google.com/notebooks/data_table.ipynb>data table notebook</a>'\n",
              "            + ' to learn more about interactive tables.';\n",
              "          element.innerHTML = '';\n",
              "          dataTable['output_type'] = 'display_data';\n",
              "          await google.colab.output.renderOutput(dataTable, element);\n",
              "          const docLink = document.createElement('div');\n",
              "          docLink.innerHTML = docLinkHtml;\n",
              "          element.appendChild(docLink);\n",
              "        }\n",
              "      </script>\n",
              "    </div>\n",
              "  </div>\n",
              "  "
            ]
          },
          "metadata": {},
          "execution_count": 53
        }
      ],
      "source": [
        "# Print the scores dataframe now with TPR and FPR each tenth record\n",
        "df_scores[::10]"
      ]
    },
    {
      "cell_type": "code",
      "execution_count": 54,
      "metadata": {
        "colab": {
          "base_uri": "https://localhost:8080/",
          "height": 283
        },
        "id": "Qh14QdopP1MB",
        "outputId": "901f813b-be57-42d3-9a15-0d2d63ca3cf0"
      },
      "outputs": [
        {
          "output_type": "execute_result",
          "data": {
            "text/plain": [
              "[<matplotlib.lines.Line2D at 0x7f0b0878a510>]"
            ]
          },
          "metadata": {},
          "execution_count": 54
        },
        {
          "output_type": "display_data",
          "data": {
            "text/plain": [
              "<Figure size 432x288 with 1 Axes>"
            ],
            "image/png": "[encoded data removed]"
          },
          "metadata": {
            "needs_background": "light"
          }
        }
      ],
      "source": [
        "# Plot the scores of TPR and FPR\n",
        "plt.plot(df_scores.threshold, df_scores['tpr'])\n",
        "plt.plot(df_scores.threshold, df_scores['fpr'])"
      ]
    },
    {
      "cell_type": "code",
      "execution_count": 55,
      "metadata": {
        "colab": {
          "base_uri": "https://localhost:8080/",
          "height": 283
        },
        "id": "HngVJDIbQb0E",
        "outputId": "1c0105bb-fdf0-476b-b4c1-b9084cf62859"
      },
      "outputs": [
        {
          "output_type": "execute_result",
          "data": {
            "text/plain": [
              "<matplotlib.legend.Legend at 0x7f0b08779610>"
            ]
          },
          "metadata": {},
          "execution_count": 55
        },
        {
          "output_type": "display_data",
          "data": {
            "text/plain": [
              "<Figure size 432x288 with 1 Axes>"
            ],
            "image/png": "[encoded data removed]"
          },
          "metadata": {
            "needs_background": "light"
          }
        }
      ],
      "source": [
        "# Plot the scores of TPR and FPR with legends\n",
        "plt.plot(df_scores.threshold, df_scores['tpr'], label='TPR')\n",
        "plt.plot(df_scores.threshold, df_scores['fpr'], label='FPR')\n",
        "plt.legend()\n",
        "\n",
        "# Interpretation of the plot below:\n",
        "# at x-axis we have threshold\n",
        "# for threshold of zero we see that both true positive rate and false positive rate are one\n",
        "# so it means this is a diamond model that predicts everyone as churning so for them true positive rate\n",
        "# is 100% because for all positive customers for all the churning customers all of them are identified correctly\n",
        "# and again false positive rate is 100% for non churning ones we make 100% so we predict all of them incorrectly\n",
        "# as churning\n",
        "\n",
        "# and then we see that it goes down so the TPR go down with a different rate\n",
        "# the FPR goes down faster and actually we want to go down as fast as possible because we want to minimize \n",
        "# the weight of values as low as possible\n",
        "\n",
        "# and for TPR weight we want to keep it around one as higher as possible "
      ]
    },
    {
      "cell_type": "code",
      "execution_count": 56,
      "metadata": {
        "colab": {
          "base_uri": "https://localhost:8080/"
        },
        "id": "dvGJwDgVTi3Q",
        "outputId": "7215d70c-9526-4d7f-a776-b6c002226954"
      },
      "outputs": [
        {
          "output_type": "execute_result",
          "data": {
            "text/plain": [
              "array([0.417, 0.72 , 0.   , ..., 0.774, 0.334, 0.089])"
            ]
          },
          "metadata": {},
          "execution_count": 56
        }
      ],
      "source": [
        "# Random model:\n",
        "\n",
        "# now we want to use a random model for each customer basically flips a coin an thinks okay\n",
        "# this customer is churnning this customer is not churning and make decisions whether this \n",
        "# customer is going to churn not completely randomly\n",
        "\n",
        "# Implement the random model:\n",
        "\n",
        "# Set the random seed for our Y rand variable  \n",
        "np.random.seed(1)\n",
        "\n",
        "# Assign every customer a random score between 0 and 1 usig the uniform distribution\n",
        "# note: the size if the Y rand variable should be the same size as our validation dataset\n",
        "y_rand = np.random.uniform(0, 1, size=len(y_val))\n",
        "y_rand.round(3)\n",
        "# for each customer randomly predict if they are going to churn or not going to churn"
      ]
    },
    {
      "cell_type": "code",
      "execution_count": 57,
      "metadata": {
        "colab": {
          "base_uri": "https://localhost:8080/"
        },
        "id": "mGbCV2EdWBPU",
        "outputId": "dcd2a191-c75b-4e9b-eb02-a3852b1df239"
      },
      "outputs": [
        {
          "output_type": "execute_result",
          "data": {
            "text/plain": [
              "0.5017743080198722"
            ]
          },
          "metadata": {},
          "execution_count": 57
        }
      ],
      "source": [
        "# Caculate the accuracy for this model\n",
        "((y_rand >= 0.5) == y_val).mean()\n",
        "\n",
        "# for this model our accuracy is 47% "
      ]
    },
    {
      "cell_type": "code",
      "execution_count": 58,
      "metadata": {
        "id": "WYswaCO0XESg"
      },
      "outputs": [],
      "source": [
        "# Create a function TPR and FPR dataframe\n",
        "def tpr_fpr_dataframe(y_val, y_pred):\n",
        "\n",
        "  # Create a list called scores\n",
        "  scores = []\n",
        "\n",
        "  # Compute the ROC for all possible thresholds using the function linspace\n",
        "  thresholds = np.linspace(0,1, 101)\n",
        "\n",
        "  # Create for loop using the thresholds list\n",
        "  for t in thresholds:\n",
        "\n",
        "    # Create an array for customers are really churn and this is for case validations are 1\n",
        "    actual_positive = (y_val == 1)\n",
        "\n",
        "    # Create an array for customers are not going to churn and this is for case validations are 0\n",
        "    actual_negative = (y_val == 0)\n",
        "\n",
        "    # Store the positive predictions\n",
        "    predict_positive = (y_pred >= t)\n",
        "\n",
        "    # Store the negative predictions\n",
        "    predict_negative = (y_pred < t)\n",
        "\n",
        "    # Store the true positive values in a variable\n",
        "    tp = (predict_positive & actual_positive).sum()\n",
        "\n",
        "    # Store the true negatives values in a variable\n",
        "    tn = (predict_negative & actual_negative).sum()\n",
        "\n",
        "    # Store the false positive values in a variable\n",
        "    fp = (predict_positive & actual_negative).sum()\n",
        "\n",
        "    # Store the false negatives values in a variable\n",
        "    fn = (predict_negative & actual_positive).sum()\n",
        "\n",
        "    # Append a list called scores\n",
        "    scores.append((t, tp, fp, fn, tn))\n",
        "\n",
        "  # Specify the columns names of the dataframe scores\n",
        "  columns = ['threshold','tp','fp','fn','tn']\n",
        "  df_scores = pd.DataFrame(scores, columns=columns)\n",
        "\n",
        "  # Compute the true positive rates of the dataframe scores\n",
        "  df_scores['tpr'] = df_scores.tp / (df_scores.tp + df_scores.fn)\n",
        "\n",
        "  # Compute the false positive rates of the dataframe scores\n",
        "  df_scores['fpr'] = df_scores.fp / (df_scores.fp + df_scores.tn)\n",
        "\n",
        "  # Return the scores dataframe\n",
        "  return df_scores"
      ]
    },
    {
      "cell_type": "code",
      "execution_count": 59,
      "metadata": {
        "id": "gCB_VQ83ZCkY"
      },
      "outputs": [],
      "source": [
        "# Use the function TPR and FPR dataframe with random predictions\n",
        "df_rand = tpr_fpr_dataframe(y_val, y_rand)"
      ]
    },
    {
      "cell_type": "code",
      "execution_count": 60,
      "metadata": {
        "colab": {
          "base_uri": "https://localhost:8080/",
          "height": 394
        },
        "id": "duVqV9DEZZXt",
        "outputId": "c8c11a39-77f2-4cf6-fe86-e619882d367d"
      },
      "outputs": [
        {
          "output_type": "execute_result",
          "data": {
            "text/plain": [
              "     threshold   tp    fp   fn    tn       tpr       fpr\n",
              "0          0.0  386  1023    0     0  1.000000  1.000000\n",
              "10         0.1  347   923   39   100  0.898964  0.902248\n",
              "20         0.2  307   822   79   201  0.795337  0.803519\n",
              "30         0.3  276   724  110   299  0.715026  0.707722\n",
              "40         0.4  237   624  149   399  0.613990  0.609971\n",
              "50         0.5  202   518  184   505  0.523316  0.506354\n",
              "60         0.6  161   409  225   614  0.417098  0.399804\n",
              "70         0.7  121   302  265   721  0.313472  0.295210\n",
              "80         0.8   78   206  308   817  0.202073  0.201369\n",
              "90         0.9   40   101  346   922  0.103627  0.098729\n",
              "100        1.0    0     0  386  1023  0.000000  0.000000"
            ],
            "text/html": [
              "\n",
              "  <div id=\"df-01b4396f-51a9-442e-8886-38a006a4fce1\">\n",
              "    <div class=\"colab-df-container\">\n",
              "      <div>\n",
              "<style scoped>\n",
              "    .dataframe tbody tr th:only-of-type {\n",
              "        vertical-align: middle;\n",
              "    }\n",
              "\n",
              "    .dataframe tbody tr th {\n",
              "        vertical-align: top;\n",
              "    }\n",
              "\n",
              "    .dataframe thead th {\n",
              "        text-align: right;\n",
              "    }\n",
              "</style>\n",
              "<table border=\"1\" class=\"dataframe\">\n",
              "  <thead>\n",
              "    <tr style=\"text-align: right;\">\n",
              "      <th></th>\n",
              "      <th>threshold</th>\n",
              "      <th>tp</th>\n",
              "      <th>fp</th>\n",
              "      <th>fn</th>\n",
              "      <th>tn</th>\n",
              "      <th>tpr</th>\n",
              "      <th>fpr</th>\n",
              "    </tr>\n",
              "  </thead>\n",
              "  <tbody>\n",
              "    <tr>\n",
              "      <th>0</th>\n",
              "      <td>0.0</td>\n",
              "      <td>386</td>\n",
              "      <td>1023</td>\n",
              "      <td>0</td>\n",
              "      <td>0</td>\n",
              "      <td>1.000000</td>\n",
              "      <td>1.000000</td>\n",
              "    </tr>\n",
              "    <tr>\n",
              "      <th>10</th>\n",
              "      <td>0.1</td>\n",
              "      <td>347</td>\n",
              "      <td>923</td>\n",
              "      <td>39</td>\n",
              "      <td>100</td>\n",
              "      <td>0.898964</td>\n",
              "      <td>0.902248</td>\n",
              "    </tr>\n",
              "    <tr>\n",
              "      <th>20</th>\n",
              "      <td>0.2</td>\n",
              "      <td>307</td>\n",
              "      <td>822</td>\n",
              "      <td>79</td>\n",
              "      <td>201</td>\n",
              "      <td>0.795337</td>\n",
              "      <td>0.803519</td>\n",
              "    </tr>\n",
              "    <tr>\n",
              "      <th>30</th>\n",
              "      <td>0.3</td>\n",
              "      <td>276</td>\n",
              "      <td>724</td>\n",
              "      <td>110</td>\n",
              "      <td>299</td>\n",
              "      <td>0.715026</td>\n",
              "      <td>0.707722</td>\n",
              "    </tr>\n",
              "    <tr>\n",
              "      <th>40</th>\n",
              "      <td>0.4</td>\n",
              "      <td>237</td>\n",
              "      <td>624</td>\n",
              "      <td>149</td>\n",
              "      <td>399</td>\n",
              "      <td>0.613990</td>\n",
              "      <td>0.609971</td>\n",
              "    </tr>\n",
              "    <tr>\n",
              "      <th>50</th>\n",
              "      <td>0.5</td>\n",
              "      <td>202</td>\n",
              "      <td>518</td>\n",
              "      <td>184</td>\n",
              "      <td>505</td>\n",
              "      <td>0.523316</td>\n",
              "      <td>0.506354</td>\n",
              "    </tr>\n",
              "    <tr>\n",
              "      <th>60</th>\n",
              "      <td>0.6</td>\n",
              "      <td>161</td>\n",
              "      <td>409</td>\n",
              "      <td>225</td>\n",
              "      <td>614</td>\n",
              "      <td>0.417098</td>\n",
              "      <td>0.399804</td>\n",
              "    </tr>\n",
              "    <tr>\n",
              "      <th>70</th>\n",
              "      <td>0.7</td>\n",
              "      <td>121</td>\n",
              "      <td>302</td>\n",
              "      <td>265</td>\n",
              "      <td>721</td>\n",
              "      <td>0.313472</td>\n",
              "      <td>0.295210</td>\n",
              "    </tr>\n",
              "    <tr>\n",
              "      <th>80</th>\n",
              "      <td>0.8</td>\n",
              "      <td>78</td>\n",
              "      <td>206</td>\n",
              "      <td>308</td>\n",
              "      <td>817</td>\n",
              "      <td>0.202073</td>\n",
              "      <td>0.201369</td>\n",
              "    </tr>\n",
              "    <tr>\n",
              "      <th>90</th>\n",
              "      <td>0.9</td>\n",
              "      <td>40</td>\n",
              "      <td>101</td>\n",
              "      <td>346</td>\n",
              "      <td>922</td>\n",
              "      <td>0.103627</td>\n",
              "      <td>0.098729</td>\n",
              "    </tr>\n",
              "    <tr>\n",
              "      <th>100</th>\n",
              "      <td>1.0</td>\n",
              "      <td>0</td>\n",
              "      <td>0</td>\n",
              "      <td>386</td>\n",
              "      <td>1023</td>\n",
              "      <td>0.000000</td>\n",
              "      <td>0.000000</td>\n",
              "    </tr>\n",
              "  </tbody>\n",
              "</table>\n",
              "</div>\n",
              "      <button class=\"colab-df-convert\" onclick=\"convertToInteractive('df-01b4396f-51a9-442e-8886-38a006a4fce1')\"\n",
              "              title=\"Convert this dataframe to an interactive table.\"\n",
              "              style=\"display:none;\">\n",
              "        \n",
              "  <svg xmlns=\"http://www.w3.org/2000/svg\" height=\"24px\"viewBox=\"0 0 24 24\"\n",
              "       width=\"24px\">\n",
              "    <path d=\"M0 0h24v24H0V0z\" fill=\"none\"/>\n",
              "    <path d=\"M18.56 5.44l.94 2.06.94-2.06 2.06-.94-2.06-.94-.94-2.06-.94 2.06-2.06.94zm-11 1L8.5 8.5l.94-2.06 2.06-.94-2.06-.94L8.5 2.5l-.94 2.06-2.06.94zm10 10l.94 2.06.94-2.06 2.06-.94-2.06-.94-.94-2.06-.94 2.06-2.06.94z\"/><path d=\"M17.41 7.96l-1.37-1.37c-.4-.4-.92-.59-1.43-.59-.52 0-1.04.2-1.43.59L10.3 9.45l-7.72 7.72c-.78.78-.78 2.05 0 2.83L4 21.41c.39.39.9.59 1.41.59.51 0 1.02-.2 1.41-.59l7.78-7.78 2.81-2.81c.8-.78.8-2.07 0-2.86zM5.41 20L4 18.59l7.72-7.72 1.47 1.35L5.41 20z\"/>\n",
              "  </svg>\n",
              "      </button>\n",
              "      \n",
              "  <style>\n",
              "    .colab-df-container {\n",
              "      display:flex;\n",
              "      flex-wrap:wrap;\n",
              "      gap: 12px;\n",
              "    }\n",
              "\n",
              "    .colab-df-convert {\n",
              "      background-color: #E8F0FE;\n",
              "      border: none;\n",
              "      border-radius: 50%;\n",
              "      cursor: pointer;\n",
              "      display: none;\n",
              "      fill: #1967D2;\n",
              "      height: 32px;\n",
              "      padding: 0 0 0 0;\n",
              "      width: 32px;\n",
              "    }\n",
              "\n",
              "    .colab-df-convert:hover {\n",
              "      background-color: #E2EBFA;\n",
              "      box-shadow: 0px 1px 2px rgba(60, 64, 67, 0.3), 0px 1px 3px 1px rgba(60, 64, 67, 0.15);\n",
              "      fill: #174EA6;\n",
              "    }\n",
              "\n",
              "    [theme=dark] .colab-df-convert {\n",
              "      background-color: #3B4455;\n",
              "      fill: #D2E3FC;\n",
              "    }\n",
              "\n",
              "    [theme=dark] .colab-df-convert:hover {\n",
              "      background-color: #434B5C;\n",
              "      box-shadow: 0px 1px 3px 1px rgba(0, 0, 0, 0.15);\n",
              "      filter: drop-shadow(0px 1px 2px rgba(0, 0, 0, 0.3));\n",
              "      fill: #FFFFFF;\n",
              "    }\n",
              "  </style>\n",
              "\n",
              "      <script>\n",
              "        const buttonEl =\n",
              "          document.querySelector('#df-01b4396f-51a9-442e-8886-38a006a4fce1 button.colab-df-convert');\n",
              "        buttonEl.style.display =\n",
              "          google.colab.kernel.accessAllowed ? 'block' : 'none';\n",
              "\n",
              "        async function convertToInteractive(key) {\n",
              "          const element = document.querySelector('#df-01b4396f-51a9-442e-8886-38a006a4fce1');\n",
              "          const dataTable =\n",
              "            await google.colab.kernel.invokeFunction('convertToInteractive',\n",
              "                                                     [key], {});\n",
              "          if (!dataTable) return;\n",
              "\n",
              "          const docLinkHtml = 'Like what you see? Visit the ' +\n",
              "            '<a target=\"_blank\" href=https://colab.research.google.com/notebooks/data_table.ipynb>data table notebook</a>'\n",
              "            + ' to learn more about interactive tables.';\n",
              "          element.innerHTML = '';\n",
              "          dataTable['output_type'] = 'display_data';\n",
              "          await google.colab.output.renderOutput(dataTable, element);\n",
              "          const docLink = document.createElement('div');\n",
              "          docLink.innerHTML = docLinkHtml;\n",
              "          element.appendChild(docLink);\n",
              "        }\n",
              "      </script>\n",
              "    </div>\n",
              "  </div>\n",
              "  "
            ]
          },
          "metadata": {},
          "execution_count": 60
        }
      ],
      "source": [
        "# Print the rand dataframe every tenth record\n",
        "df_rand[::10]"
      ]
    },
    {
      "cell_type": "code",
      "execution_count": 61,
      "metadata": {
        "colab": {
          "base_uri": "https://localhost:8080/",
          "height": 283
        },
        "id": "hYDFCy-bZ1mV",
        "outputId": "38961b3b-cdfa-4b66-c1f5-d2e1e50c502f"
      },
      "outputs": [
        {
          "output_type": "execute_result",
          "data": {
            "text/plain": [
              "<matplotlib.legend.Legend at 0x7f0b08b8dc10>"
            ]
          },
          "metadata": {},
          "execution_count": 61
        },
        {
          "output_type": "display_data",
          "data": {
            "text/plain": [
              "<Figure size 432x288 with 1 Axes>"
            ],
            "image/png": "[encoded data removed]"
          },
          "metadata": {
            "needs_background": "light"
          }
        }
      ],
      "source": [
        "# Plot the rand of TPR and FPR with legends\n",
        "plt.plot(df_rand.threshold, df_rand['tpr'], label='TPR')\n",
        "plt.plot(df_rand.threshold, df_rand['fpr'], label='FPR')\n",
        "plt.legend()\n",
        "\n",
        "# we can see TPR and FPR that both of them go down it's almost a straight line "
      ]
    },
    {
      "cell_type": "code",
      "execution_count": 62,
      "metadata": {
        "colab": {
          "base_uri": "https://localhost:8080/"
        },
        "id": "lMBzFHo1b_L2",
        "outputId": "ed025dff-9c56-4d32-92c0-2e55be8d8127"
      },
      "outputs": [
        {
          "output_type": "execute_result",
          "data": {
            "text/plain": [
              "(1023, 386)"
            ]
          },
          "metadata": {},
          "execution_count": 62
        }
      ],
      "source": [
        "# lets see now a different benchmark so for this one we want to talk about\n",
        "# the ideal model some model that gets outputs the correct prediction for everyone\n",
        "\n",
        "# Count and store how many customers are not churning\n",
        "# we need to count how many zeros are in the dataset\n",
        "num_neg = (y_val == 0).sum()\n",
        "\n",
        "# Count and store how many customers are churning\n",
        "# we need to count how many ones are in the dataset\n",
        "num_pos = (y_val == 1).sum()\n",
        "\n",
        "# Print the total of customer are churning and not churning\n",
        "num_neg, num_pos"
      ]
    },
    {
      "cell_type": "code",
      "execution_count": 63,
      "metadata": {
        "colab": {
          "base_uri": "https://localhost:8080/"
        },
        "id": "o6rttb8Me9uM",
        "outputId": "3c9497df-f8bb-4ad4-804b-da7055291268"
      },
      "outputs": [
        {
          "output_type": "execute_result",
          "data": {
            "text/plain": [
              "array([0, 0, 0, ..., 1, 1, 1])"
            ]
          },
          "metadata": {},
          "execution_count": 63
        }
      ],
      "source": [
        "# Create a variable to store numbers of positive and negative customers churn\n",
        "# use the function repeat zero or one according the totals of num_neg and num_pos\n",
        "y_ideal = np.repeat([0,1], [num_neg, num_pos])\n",
        "y_ideal\n",
        "# the array below has first zeros followed by ones and this is our validation datset in a way\n",
        "# we know everything is ordered"
      ]
    },
    {
      "cell_type": "code",
      "execution_count": 64,
      "metadata": {
        "colab": {
          "base_uri": "https://localhost:8080/"
        },
        "id": "M4P0ZXQbgHMr",
        "outputId": "2e3fa371-c863-4bc9-972c-3709e6ca01fc"
      },
      "outputs": [
        {
          "output_type": "execute_result",
          "data": {
            "text/plain": [
              "array([0.00000000e+00, 7.10227273e-04, 1.42045455e-03, ...,\n",
              "       9.98579545e-01, 9.99289773e-01, 1.00000000e+00])"
            ]
          },
          "metadata": {},
          "execution_count": 64
        }
      ],
      "source": [
        "# now we need to create our predictions and predictions can be just numbers between zero and one\n",
        "\n",
        "# Use the linspace function using the length of Y validation\n",
        "y_ideal_pred = np.linspace(0, 1, len(y_val))\n",
        "y_ideal_pred"
      ]
    },
    {
      "cell_type": "code",
      "execution_count": 65,
      "metadata": {
        "colab": {
          "base_uri": "https://localhost:8080/"
        },
        "id": "eigQbKMwhml0",
        "outputId": "16d14a22-8eca-47ff-ac2a-9ecf0840ec33"
      },
      "outputs": [
        {
          "output_type": "execute_result",
          "data": {
            "text/plain": [
              "0.7260468417317246"
            ]
          },
          "metadata": {},
          "execution_count": 65
        }
      ],
      "source": [
        "# Calculate the right threshold to get 100% accuracy\n",
        "1 - y_val.mean()\n",
        "# so it predicts that for customers above this threshold (number below) they are positive\n",
        "# below negative the threshold it happens to be correct for all the customers because this\n",
        "# is how we prepared our actual values and our predictions so this is how ideal our model\n",
        "# looks like and of course this model doesn't exist in reality but this will help to benchmark\n",
        "# our model that we have against this one"
      ]
    },
    {
      "cell_type": "code",
      "execution_count": 66,
      "metadata": {
        "colab": {
          "base_uri": "https://localhost:8080/"
        },
        "id": "1hpa-acEhDgU",
        "outputId": "9f14e4b7-3de5-490e-9a86-3ebbb03e9235"
      },
      "outputs": [
        {
          "output_type": "execute_result",
          "data": {
            "text/plain": [
              "0.9872249822569198"
            ]
          },
          "metadata": {},
          "execution_count": 66
        }
      ],
      "source": [
        "# Look for customers with the threshold of 73.87%\n",
        "((y_ideal_pred >= 0.7387) == y_ideal).mean()\n",
        "# for this customers the accuracy is 100%"
      ]
    },
    {
      "cell_type": "code",
      "execution_count": 67,
      "metadata": {
        "id": "huD6VacVisJF"
      },
      "outputs": [],
      "source": [
        "# lets do the same exercise for the ideal model as we did for the random model\n",
        "\n",
        "# Use the function TPR and FPR dataframe with ideal model\n",
        "df_ideal = tpr_fpr_dataframe(y_ideal, y_ideal_pred)"
      ]
    },
    {
      "cell_type": "code",
      "execution_count": 68,
      "metadata": {
        "colab": {
          "base_uri": "https://localhost:8080/",
          "height": 394
        },
        "id": "e1cLQwYUpHwP",
        "outputId": "0f9a6447-8e79-460b-9116-37ef9168d7bd"
      },
      "outputs": [
        {
          "output_type": "execute_result",
          "data": {
            "text/plain": [
              "     threshold   tp    fp   fn    tn       tpr       fpr\n",
              "0          0.0  386  1023    0     0  1.000000  1.000000\n",
              "10         0.1  386   882    0   141  1.000000  0.862170\n",
              "20         0.2  386   741    0   282  1.000000  0.724340\n",
              "30         0.3  386   600    0   423  1.000000  0.586510\n",
              "40         0.4  386   459    0   564  1.000000  0.448680\n",
              "50         0.5  386   319    0   704  1.000000  0.311828\n",
              "60         0.6  386   178    0   845  1.000000  0.173998\n",
              "70         0.7  386    37    0   986  1.000000  0.036168\n",
              "80         0.8  282     0  104  1023  0.730570  0.000000\n",
              "90         0.9  141     0  245  1023  0.365285  0.000000\n",
              "100        1.0    1     0  385  1023  0.002591  0.000000"
            ],
            "text/html": [
              "\n",
              "  <div id=\"df-bdc2eda8-f1f0-4c14-8026-0f932da971ba\">\n",
              "    <div class=\"colab-df-container\">\n",
              "      <div>\n",
              "<style scoped>\n",
              "    .dataframe tbody tr th:only-of-type {\n",
              "        vertical-align: middle;\n",
              "    }\n",
              "\n",
              "    .dataframe tbody tr th {\n",
              "        vertical-align: top;\n",
              "    }\n",
              "\n",
              "    .dataframe thead th {\n",
              "        text-align: right;\n",
              "    }\n",
              "</style>\n",
              "<table border=\"1\" class=\"dataframe\">\n",
              "  <thead>\n",
              "    <tr style=\"text-align: right;\">\n",
              "      <th></th>\n",
              "      <th>threshold</th>\n",
              "      <th>tp</th>\n",
              "      <th>fp</th>\n",
              "      <th>fn</th>\n",
              "      <th>tn</th>\n",
              "      <th>tpr</th>\n",
              "      <th>fpr</th>\n",
              "    </tr>\n",
              "  </thead>\n",
              "  <tbody>\n",
              "    <tr>\n",
              "      <th>0</th>\n",
              "      <td>0.0</td>\n",
              "      <td>386</td>\n",
              "      <td>1023</td>\n",
              "      <td>0</td>\n",
              "      <td>0</td>\n",
              "      <td>1.000000</td>\n",
              "      <td>1.000000</td>\n",
              "    </tr>\n",
              "    <tr>\n",
              "      <th>10</th>\n",
              "      <td>0.1</td>\n",
              "      <td>386</td>\n",
              "      <td>882</td>\n",
              "      <td>0</td>\n",
              "      <td>141</td>\n",
              "      <td>1.000000</td>\n",
              "      <td>0.862170</td>\n",
              "    </tr>\n",
              "    <tr>\n",
              "      <th>20</th>\n",
              "      <td>0.2</td>\n",
              "      <td>386</td>\n",
              "      <td>741</td>\n",
              "      <td>0</td>\n",
              "      <td>282</td>\n",
              "      <td>1.000000</td>\n",
              "      <td>0.724340</td>\n",
              "    </tr>\n",
              "    <tr>\n",
              "      <th>30</th>\n",
              "      <td>0.3</td>\n",
              "      <td>386</td>\n",
              "      <td>600</td>\n",
              "      <td>0</td>\n",
              "      <td>423</td>\n",
              "      <td>1.000000</td>\n",
              "      <td>0.586510</td>\n",
              "    </tr>\n",
              "    <tr>\n",
              "      <th>40</th>\n",
              "      <td>0.4</td>\n",
              "      <td>386</td>\n",
              "      <td>459</td>\n",
              "      <td>0</td>\n",
              "      <td>564</td>\n",
              "      <td>1.000000</td>\n",
              "      <td>0.448680</td>\n",
              "    </tr>\n",
              "    <tr>\n",
              "      <th>50</th>\n",
              "      <td>0.5</td>\n",
              "      <td>386</td>\n",
              "      <td>319</td>\n",
              "      <td>0</td>\n",
              "      <td>704</td>\n",
              "      <td>1.000000</td>\n",
              "      <td>0.311828</td>\n",
              "    </tr>\n",
              "    <tr>\n",
              "      <th>60</th>\n",
              "      <td>0.6</td>\n",
              "      <td>386</td>\n",
              "      <td>178</td>\n",
              "      <td>0</td>\n",
              "      <td>845</td>\n",
              "      <td>1.000000</td>\n",
              "      <td>0.173998</td>\n",
              "    </tr>\n",
              "    <tr>\n",
              "      <th>70</th>\n",
              "      <td>0.7</td>\n",
              "      <td>386</td>\n",
              "      <td>37</td>\n",
              "      <td>0</td>\n",
              "      <td>986</td>\n",
              "      <td>1.000000</td>\n",
              "      <td>0.036168</td>\n",
              "    </tr>\n",
              "    <tr>\n",
              "      <th>80</th>\n",
              "      <td>0.8</td>\n",
              "      <td>282</td>\n",
              "      <td>0</td>\n",
              "      <td>104</td>\n",
              "      <td>1023</td>\n",
              "      <td>0.730570</td>\n",
              "      <td>0.000000</td>\n",
              "    </tr>\n",
              "    <tr>\n",
              "      <th>90</th>\n",
              "      <td>0.9</td>\n",
              "      <td>141</td>\n",
              "      <td>0</td>\n",
              "      <td>245</td>\n",
              "      <td>1023</td>\n",
              "      <td>0.365285</td>\n",
              "      <td>0.000000</td>\n",
              "    </tr>\n",
              "    <tr>\n",
              "      <th>100</th>\n",
              "      <td>1.0</td>\n",
              "      <td>1</td>\n",
              "      <td>0</td>\n",
              "      <td>385</td>\n",
              "      <td>1023</td>\n",
              "      <td>0.002591</td>\n",
              "      <td>0.000000</td>\n",
              "    </tr>\n",
              "  </tbody>\n",
              "</table>\n",
              "</div>\n",
              "      <button class=\"colab-df-convert\" onclick=\"convertToInteractive('df-bdc2eda8-f1f0-4c14-8026-0f932da971ba')\"\n",
              "              title=\"Convert this dataframe to an interactive table.\"\n",
              "              style=\"display:none;\">\n",
              "        \n",
              "  <svg xmlns=\"http://www.w3.org/2000/svg\" height=\"24px\"viewBox=\"0 0 24 24\"\n",
              "       width=\"24px\">\n",
              "    <path d=\"M0 0h24v24H0V0z\" fill=\"none\"/>\n",
              "    <path d=\"M18.56 5.44l.94 2.06.94-2.06 2.06-.94-2.06-.94-.94-2.06-.94 2.06-2.06.94zm-11 1L8.5 8.5l.94-2.06 2.06-.94-2.06-.94L8.5 2.5l-.94 2.06-2.06.94zm10 10l.94 2.06.94-2.06 2.06-.94-2.06-.94-.94-2.06-.94 2.06-2.06.94z\"/><path d=\"M17.41 7.96l-1.37-1.37c-.4-.4-.92-.59-1.43-.59-.52 0-1.04.2-1.43.59L10.3 9.45l-7.72 7.72c-.78.78-.78 2.05 0 2.83L4 21.41c.39.39.9.59 1.41.59.51 0 1.02-.2 1.41-.59l7.78-7.78 2.81-2.81c.8-.78.8-2.07 0-2.86zM5.41 20L4 18.59l7.72-7.72 1.47 1.35L5.41 20z\"/>\n",
              "  </svg>\n",
              "      </button>\n",
              "      \n",
              "  <style>\n",
              "    .colab-df-container {\n",
              "      display:flex;\n",
              "      flex-wrap:wrap;\n",
              "      gap: 12px;\n",
              "    }\n",
              "\n",
              "    .colab-df-convert {\n",
              "      background-color: #E8F0FE;\n",
              "      border: none;\n",
              "      border-radius: 50%;\n",
              "      cursor: pointer;\n",
              "      display: none;\n",
              "      fill: #1967D2;\n",
              "      height: 32px;\n",
              "      padding: 0 0 0 0;\n",
              "      width: 32px;\n",
              "    }\n",
              "\n",
              "    .colab-df-convert:hover {\n",
              "      background-color: #E2EBFA;\n",
              "      box-shadow: 0px 1px 2px rgba(60, 64, 67, 0.3), 0px 1px 3px 1px rgba(60, 64, 67, 0.15);\n",
              "      fill: #174EA6;\n",
              "    }\n",
              "\n",
              "    [theme=dark] .colab-df-convert {\n",
              "      background-color: #3B4455;\n",
              "      fill: #D2E3FC;\n",
              "    }\n",
              "\n",
              "    [theme=dark] .colab-df-convert:hover {\n",
              "      background-color: #434B5C;\n",
              "      box-shadow: 0px 1px 3px 1px rgba(0, 0, 0, 0.15);\n",
              "      filter: drop-shadow(0px 1px 2px rgba(0, 0, 0, 0.3));\n",
              "      fill: #FFFFFF;\n",
              "    }\n",
              "  </style>\n",
              "\n",
              "      <script>\n",
              "        const buttonEl =\n",
              "          document.querySelector('#df-bdc2eda8-f1f0-4c14-8026-0f932da971ba button.colab-df-convert');\n",
              "        buttonEl.style.display =\n",
              "          google.colab.kernel.accessAllowed ? 'block' : 'none';\n",
              "\n",
              "        async function convertToInteractive(key) {\n",
              "          const element = document.querySelector('#df-bdc2eda8-f1f0-4c14-8026-0f932da971ba');\n",
              "          const dataTable =\n",
              "            await google.colab.kernel.invokeFunction('convertToInteractive',\n",
              "                                                     [key], {});\n",
              "          if (!dataTable) return;\n",
              "\n",
              "          const docLinkHtml = 'Like what you see? Visit the ' +\n",
              "            '<a target=\"_blank\" href=https://colab.research.google.com/notebooks/data_table.ipynb>data table notebook</a>'\n",
              "            + ' to learn more about interactive tables.';\n",
              "          element.innerHTML = '';\n",
              "          dataTable['output_type'] = 'display_data';\n",
              "          await google.colab.output.renderOutput(dataTable, element);\n",
              "          const docLink = document.createElement('div');\n",
              "          docLink.innerHTML = docLinkHtml;\n",
              "          element.appendChild(docLink);\n",
              "        }\n",
              "      </script>\n",
              "    </div>\n",
              "  </div>\n",
              "  "
            ]
          },
          "metadata": {},
          "execution_count": 68
        }
      ],
      "source": [
        "# Print the ideal dataframe every tenth record\n",
        "df_ideal[::10]"
      ]
    },
    {
      "cell_type": "code",
      "execution_count": 69,
      "metadata": {
        "colab": {
          "base_uri": "https://localhost:8080/",
          "height": 283
        },
        "id": "mzOP08R7pfiJ",
        "outputId": "ad190db4-55b2-4198-e24d-5ffe8d37ae3a"
      },
      "outputs": [
        {
          "output_type": "execute_result",
          "data": {
            "text/plain": [
              "<matplotlib.legend.Legend at 0x7f0b08be1990>"
            ]
          },
          "metadata": {},
          "execution_count": 69
        },
        {
          "output_type": "display_data",
          "data": {
            "text/plain": [
              "<Figure size 432x288 with 1 Axes>"
            ],
            "image/png": "[encoded data removed]"
          },
          "metadata": {
            "needs_background": "light"
          }
        }
      ],
      "source": [
        "# Plot the ideal of TPR and FPR with legends\n",
        "plt.plot(df_ideal.threshold, df_ideal['tpr'], label='TPR')\n",
        "plt.plot(df_ideal.threshold, df_ideal['fpr'], label='FPR')\n",
        "plt.legend()\n",
        "\n",
        "# we can see on the plot below is true positive rate all always almost always stays\n",
        "# aroud one so this is ideal scenario and then starts to go down after the threshold of 73.87%\n",
        "# so this model can identify so for true positive rate so this model can identify the churning customers\n",
        "# correctly for customers are not churning when it says they are churning it's not always true \n",
        "# it becomes true when it crosses the threshold of 73.87%"
      ]
    },
    {
      "cell_type": "code",
      "execution_count": 70,
      "metadata": {
        "colab": {
          "base_uri": "https://localhost:8080/",
          "height": 283
        },
        "id": "LFpEIuKspunf",
        "outputId": "421b970e-1570-4b47-a77f-6876d216023d"
      },
      "outputs": [
        {
          "output_type": "execute_result",
          "data": {
            "text/plain": [
              "<matplotlib.legend.Legend at 0x7f0b054a11d0>"
            ]
          },
          "metadata": {},
          "execution_count": 70
        },
        {
          "output_type": "display_data",
          "data": {
            "text/plain": [
              "<Figure size 432x288 with 1 Axes>"
            ],
            "image/png": "[encoded data removed]"
          },
          "metadata": {
            "needs_background": "light"
          }
        }
      ],
      "source": [
        "# so this is how ideal model looks like and we can try to plot all our models together so we can\n",
        "# hold the benchmarks together:\n",
        "\n",
        "# Plot the scores of TPR and FPR\n",
        "plt.plot(df_scores.threshold, df_scores['tpr'], label='TPR')\n",
        "plt.plot(df_scores.threshold, df_scores['fpr'], label='FPR')\n",
        "plt.legend()\n",
        "\n",
        "# Plot the rand of TPR and FPR\n",
        "# plt.plot(df_rand.threshold, df_rand['tpr'], label='TPR')\n",
        "# plt.plot(df_rand.threshold, df_rand['fpr'], label='FPR')\n",
        "\n",
        "# Plot the ideal of TPR and FPR\n",
        "plt.plot(df_ideal.threshold, df_ideal['tpr'], label='TPR', color='black')\n",
        "plt.plot(df_ideal.threshold, df_ideal['fpr'], label='FPR', color='black')\n",
        "\n",
        "# Plot the dataframes score, random and ideal with legends\n",
        "plt.legend()\n",
        "\n",
        "# below we can see FPR orange line and TPR the blue line both are quite far from the TPR and FPR black lines\n",
        "# so the scores model are farway from the ideal model\n",
        "# note: the threshold is not always intuitive because for example for this model we have for our model the best\n",
        "# threshold is 0.5 or 50% at least in terms of accuracy but for this model the best threshold is 73.87%\n",
        "# or 0.7378 so they have different thresholds and what we can do however is to plot false positive rate again\n",
        "# true positive rate so in a slightly different manner"
      ]
    },
    {
      "cell_type": "code",
      "execution_count": 71,
      "metadata": {
        "colab": {
          "base_uri": "https://localhost:8080/",
          "height": 283
        },
        "id": "75HqYgWbtnc-",
        "outputId": "16821849-06d6-4792-a410-1841144668da"
      },
      "outputs": [
        {
          "output_type": "execute_result",
          "data": {
            "text/plain": [
              "<matplotlib.legend.Legend at 0x7f0b08b84b90>"
            ]
          },
          "metadata": {},
          "execution_count": 71
        },
        {
          "output_type": "display_data",
          "data": {
            "text/plain": [
              "<Figure size 432x288 with 1 Axes>"
            ],
            "image/png": "[encoded data removed]"
          },
          "metadata": {
            "needs_background": "light"
          }
        }
      ],
      "source": [
        "# so we don't plot the threshold we just look at only true positive rate and false positive rate:\n",
        "\n",
        "# Plot the FPR and TPR of the scores dataframe\n",
        "plt.plot(df_scores.fpr, df_scores.tpr, label='model')\n",
        "\n",
        "# Plot the FPR and TPR of the random dataframe\n",
        "plt.plot(df_rand.fpr, df_rand.tpr, label='random')\n",
        "\n",
        "# Plot the FPR and TPR of the ideal dataframe\n",
        "plt.plot(df_ideal.fpr, df_ideal.tpr, label='ideal')\n",
        "\n",
        "# Plot the dataframes score, random and ideal with legends\n",
        "plt.legend()"
      ]
    },
    {
      "cell_type": "code",
      "execution_count": 72,
      "metadata": {
        "colab": {
          "base_uri": "https://localhost:8080/",
          "height": 352
        },
        "id": "SiA_TAltxRku",
        "outputId": "5fd12a34-bb59-41db-a2b1-8f70963ac889"
      },
      "outputs": [
        {
          "output_type": "execute_result",
          "data": {
            "text/plain": [
              "<matplotlib.legend.Legend at 0x7f0b054064d0>"
            ]
          },
          "metadata": {},
          "execution_count": 72
        },
        {
          "output_type": "display_data",
          "data": {
            "text/plain": [
              "<Figure size 360x360 with 1 Axes>"
            ],
            "image/png": "[encoded data removed]"
          },
          "metadata": {
            "needs_background": "light"
          }
        }
      ],
      "source": [
        "# usually the ROC Curves are square not like rectangular like we have above\n",
        "# and for that we need to specify the size of our plot so for that we need to specify the size \n",
        "# of our plot using the function figure\n",
        "\n",
        "# Use the function figure to have a ROC Curve square\n",
        "plt.figure(figsize=(5,5))\n",
        "\n",
        "# Plot the FPR and TPR of the scores dataframe\n",
        "plt.plot(df_scores.fpr, df_scores.tpr, label='model')\n",
        "\n",
        "# Plot the FPR and TPR of the random dataframe\n",
        "plt.plot(df_rand.fpr, df_rand.tpr, label='random')\n",
        "\n",
        "# Plot the FPR and TPR of the ideal dataframe\n",
        "plt.plot(df_ideal.fpr, df_ideal.tpr, label='ideal')\n",
        "\n",
        "# Label the plot with x-axis and y-axis\n",
        "plt.xlabel('FPR')\n",
        "plt.ylabel('TPR')\n",
        "\n",
        "# Plot the dataframes score, random and ideal with legends\n",
        "plt.legend()\n",
        "\n",
        "# now its squared and what we see below is our random model and TPR and FPR\n",
        "# they move together so that's why it's kind of a stright line between zero and one\n",
        "# we have some fluctuations simple because this is a random model sometimes it by chance\n",
        "# gets a bit more accurate sometimes it gets a bit less accurate that's wahy there are some\n",
        "# limitations and then also interested is to see the ideal model when TPR is 1.0 or 100%\n",
        "# and FPR is 0.0 or 0% and this is for a threshold of 73.87% or 0.7378 and this is like the \n",
        "# ideal spot and we can call the north star and thi is where we want to get "
      ]
    },
    {
      "cell_type": "code",
      "execution_count": 73,
      "metadata": {
        "colab": {
          "base_uri": "https://localhost:8080/",
          "height": 352
        },
        "id": "Pqw7NIjm0GiD",
        "outputId": "696b45b7-bfd1-4818-eb7d-195922ab42ba"
      },
      "outputs": [
        {
          "output_type": "execute_result",
          "data": {
            "text/plain": [
              "<matplotlib.legend.Legend at 0x7f0b08e9e910>"
            ]
          },
          "metadata": {},
          "execution_count": 73
        },
        {
          "output_type": "display_data",
          "data": {
            "text/plain": [
              "<Figure size 360x360 with 1 Axes>"
            ],
            "image/png": "[encoded data removed]"
          },
          "metadata": {
            "needs_background": "light"
          }
        }
      ],
      "source": [
        "# so we can plot a simplified version of the plot above:\n",
        "\n",
        "# Use the function figure to have a ROC Curve square\n",
        "plt.figure(figsize=(5,5))\n",
        "\n",
        "# Plot the FPR and TPR of the scores dataframe\n",
        "plt.plot(df_scores.fpr, df_scores.tpr, label='Model')\n",
        "\n",
        "# we don't need to plot the random model like we did with our previous model\n",
        "# so what we can do is just plot a line between zero and one\n",
        "# note: we dont need to plot the ideal model because we know how it looks like\n",
        "# Plot the random model a line between zero and one\n",
        "plt.plot([0,1], [0,1], label='Random', linestyle='--')\n",
        "\n",
        "# Label the plot with x-axis and y-axis\n",
        "plt.xlabel('FPR')\n",
        "plt.ylabel('TPR')\n",
        "\n",
        "# Plot the dataframes model and random with legends\n",
        "plt.legend()\n",
        "\n",
        "# Plot a simplified version of the previous plot:\n",
        "# this is how ROC Curve looks like and plot TPR against FPR and we add this random baseline with\n",
        "# color orange and we want our curve (the model) to be as close as possible to the ideal spot called \n",
        "# the north star and as far as possible from the random baseline \n",
        "# if our model is somewhere close to the random baseline then it's not a good model so we want to be\n",
        "# as close as possible to the ideal spot or the north star and here is where we don't make no mistakes\n",
        "# and of course our model makes mistakes and that's why the ROC Curve for our model looks like that"
      ]
    },
    {
      "cell_type": "code",
      "execution_count": 74,
      "metadata": {
        "id": "GYDr7SrB8lXy"
      },
      "outputs": [],
      "source": [
        "# Use sklearn instead of doing the plot above:\n",
        "\n",
        "# Import the package ROC Curve from sklearn\n",
        "from sklearn.metrics import roc_curve"
      ]
    },
    {
      "cell_type": "code",
      "execution_count": 75,
      "metadata": {
        "id": "FPCeWSG89Auj"
      },
      "outputs": [],
      "source": [
        "# Create the values FPR, TPR and use function ROC Curve with y_val and y_pred\n",
        "fpr, tpr, thresholds = roc_curve(y_val, y_pred)"
      ]
    },
    {
      "cell_type": "code",
      "execution_count": 76,
      "metadata": {
        "colab": {
          "base_uri": "https://localhost:8080/",
          "height": 352
        },
        "id": "ZrhxhoNO9kPH",
        "outputId": "178b9114-6480-4e6e-a290-29078854aa6e"
      },
      "outputs": [
        {
          "output_type": "execute_result",
          "data": {
            "text/plain": [
              "<matplotlib.legend.Legend at 0x7f0b053d4210>"
            ]
          },
          "metadata": {},
          "execution_count": 76
        },
        {
          "output_type": "display_data",
          "data": {
            "text/plain": [
              "<Figure size 360x360 with 1 Axes>"
            ],
            "image/png": "[encoded data removed]"
          },
          "metadata": {
            "needs_background": "light"
          }
        }
      ],
      "source": [
        "# so we can plot a simplified version of the plot above using sklearn:\n",
        "\n",
        "# Use the function figure to have a ROC Curve square\n",
        "plt.figure(figsize=(5,5))\n",
        "\n",
        "# Plot the FPR and TPR of the scores dataframe\n",
        "plt.plot(fpr, tpr, label='Model')\n",
        "\n",
        "# we don't need to plot the random model like we did with our previous model\n",
        "# so what we can do is just plot a line between zero and one\n",
        "# note: we dont need to plot the ideal model because we know how it looks like\n",
        "# Plot the random model a line between zero and one\n",
        "plt.plot([0,1], [0,1], label='Random', linestyle='--')\n",
        "\n",
        "# Label the plot with x-axis and y-axis\n",
        "plt.xlabel('FPR')\n",
        "plt.ylabel('TPR')\n",
        "\n",
        "# Plot the dataframes model and random with legends\n",
        "plt.legend()\n",
        "\n",
        "# Plot the same plot like before but now using sklearn library\n",
        "# we can see below it's a little bit more bumpy it's less smooth than the previous plot\n",
        "# because before we just use 101 thresholds and now with sklearn its more accurate because\n",
        "# it evaluates the model on more thresholds"
      ]
    },
    {
      "cell_type": "code",
      "execution_count": 77,
      "metadata": {
        "id": "z8yoddXsn04Y"
      },
      "outputs": [],
      "source": [
        "# ROC AUC:\n",
        "\n",
        "# . Area under the ROC Curve - Useful Metric\n",
        "# . Interpretation of AUC\n",
        "\n",
        "# Use sklearn library with the function called AUC\n",
        "from sklearn.metrics import auc"
      ]
    },
    {
      "cell_type": "code",
      "execution_count": 78,
      "metadata": {
        "colab": {
          "base_uri": "https://localhost:8080/"
        },
        "id": "qJwJxWENx8Vo",
        "outputId": "c5828c42-c97f-4e2b-80fe-fba384a56c34"
      },
      "outputs": [
        {
          "output_type": "execute_result",
          "data": {
            "text/plain": [
              "0.8465981898206534"
            ]
          },
          "metadata": {},
          "execution_count": 78
        }
      ],
      "source": [
        "# Use AUC function with FPR and TPR\n",
        "# the AUC computes the area under the curve\n",
        "auc(fpr, tpr)"
      ]
    },
    {
      "cell_type": "code",
      "execution_count": 79,
      "metadata": {
        "colab": {
          "base_uri": "https://localhost:8080/"
        },
        "id": "2iCsyiYYyHHS",
        "outputId": "3a9cc48e-895b-4cc0-9c01-257675a4d725"
      },
      "outputs": [
        {
          "output_type": "execute_result",
          "data": {
            "text/plain": [
              "0.8463208889834327"
            ]
          },
          "metadata": {},
          "execution_count": 79
        }
      ],
      "source": [
        "# Calculate the AUC for our model\n",
        "auc(df_scores.fpr, df_scores.tpr)\n",
        "# we can see our model it's pretty close it's actually almost the same value"
      ]
    },
    {
      "cell_type": "code",
      "execution_count": 80,
      "metadata": {
        "colab": {
          "base_uri": "https://localhost:8080/"
        },
        "id": "S2VOqdkiyfFY",
        "outputId": "e3993995-aa24-4227-a805-8324f91b323d"
      },
      "outputs": [
        {
          "output_type": "execute_result",
          "data": {
            "text/plain": [
              "0.9999430203759136"
            ]
          },
          "metadata": {},
          "execution_count": 80
        }
      ],
      "source": [
        "# Calculate the AUC for our ideal model\n",
        "auc(df_ideal.fpr, df_ideal.tpr)\n",
        "# we can see it's very close to one but it's not one "
      ]
    },
    {
      "cell_type": "code",
      "execution_count": 81,
      "metadata": {
        "colab": {
          "base_uri": "https://localhost:8080/"
        },
        "id": "oVOZW2xDzajs",
        "outputId": "fb5c506c-aaa4-41fe-abc0-55d1ff57b150"
      },
      "outputs": [
        {
          "output_type": "execute_result",
          "data": {
            "text/plain": [
              "0.8463208889834327"
            ]
          },
          "metadata": {},
          "execution_count": 81
        }
      ],
      "source": [
        "# Compute the area under the ROC Curve:\n",
        "\n",
        "# Create the values FPR, TPR and use function ROC Curve with y_val and y_pred\n",
        "fpr, tpr, thresholds = roc_curve(y_val, y_pred)\n",
        "\n",
        "# Calculate the AUC for our model\n",
        "auc(df_scores.fpr, df_scores.tpr)"
      ]
    },
    {
      "cell_type": "code",
      "execution_count": 82,
      "metadata": {
        "colab": {
          "base_uri": "https://localhost:8080/"
        },
        "id": "gp-hT4tu0-xn",
        "outputId": "5027e43b-95a4-4c13-943a-053771d863cb"
      },
      "outputs": [
        {
          "output_type": "execute_result",
          "data": {
            "text/plain": [
              "0.8465981898206534"
            ]
          },
          "metadata": {},
          "execution_count": 82
        }
      ],
      "source": [
        "# Short code with sklearn using the function ROC AUC Score\n",
        "from sklearn.metrics import roc_auc_score\n",
        "roc_auc_score(y_val, y_pred)"
      ]
    },
    {
      "cell_type": "code",
      "execution_count": 83,
      "metadata": {
        "id": "qtlVoMNq1kT8"
      },
      "outputs": [],
      "source": [
        "# Store all the scores from negative and positives examples\n",
        "neg = y_pred[y_val == 0]\n",
        "pos = y_pred[y_val == 1]"
      ]
    },
    {
      "cell_type": "code",
      "execution_count": 84,
      "metadata": {
        "colab": {
          "base_uri": "https://localhost:8080/"
        },
        "id": "KuPiGg2156es",
        "outputId": "5cea34a8-8ee1-4fec-bdf5-400f005ca366"
      },
      "outputs": [
        {
          "output_type": "execute_result",
          "data": {
            "text/plain": [
              "337"
            ]
          },
          "metadata": {},
          "execution_count": 84
        }
      ],
      "source": [
        "# Select randomly a positive example\n",
        "import random\n",
        "pos_ind = random.randint(0, len(pos) - 1)\n",
        "pos_ind"
      ]
    },
    {
      "cell_type": "code",
      "execution_count": 85,
      "metadata": {
        "colab": {
          "base_uri": "https://localhost:8080/"
        },
        "id": "uBOLgsOW6oer",
        "outputId": "501af064-1f3f-4367-c621-61623daf949a"
      },
      "outputs": [
        {
          "output_type": "execute_result",
          "data": {
            "text/plain": [
              "172"
            ]
          },
          "metadata": {},
          "execution_count": 85
        }
      ],
      "source": [
        "# Select randomly a negative example\n",
        "neg_ind = random.randint(0, len(neg) - 1)\n",
        "neg_ind"
      ]
    },
    {
      "cell_type": "code",
      "execution_count": 86,
      "metadata": {
        "colab": {
          "base_uri": "https://localhost:8080/"
        },
        "id": "_S9z4pTo7HAv",
        "outputId": "d1c1a060-5cbb-474d-f8f8-3c438155dc70"
      },
      "outputs": [
        {
          "output_type": "execute_result",
          "data": {
            "text/plain": [
              "True"
            ]
          },
          "metadata": {},
          "execution_count": 86
        }
      ],
      "source": [
        "# Compare the score for positive example with the score for the negative example\n",
        "pos[pos_ind] > neg[neg_ind]"
      ]
    },
    {
      "cell_type": "code",
      "execution_count": 87,
      "metadata": {
        "colab": {
          "base_uri": "https://localhost:8080/"
        },
        "id": "om-AsRb47giQ",
        "outputId": "d3657d28-452d-4f92-b229-837b093fc67d"
      },
      "outputs": [
        {
          "output_type": "execute_result",
          "data": {
            "text/plain": [
              "0.85199"
            ]
          },
          "metadata": {},
          "execution_count": 87
        }
      ],
      "source": [
        "# Repeat the same code above 100k times\n",
        "n = 100_000\n",
        "success = 0\n",
        "\n",
        "for i in range(n):\n",
        "  pos_ind = random.randint(0, len(pos) - 1)\n",
        "  neg_ind = random.randint(0, len(pos) - 1)  \n",
        "\n",
        "  # Check positive example has a higher score than negative example\n",
        "  if pos[pos_ind] > neg[neg_ind]:\n",
        "    success = success + 1\n",
        "\n",
        "# Print the ratio how many times the score for positive example was greater than negative examples\n",
        "success / n"
      ]
    },
    {
      "cell_type": "code",
      "execution_count": 88,
      "metadata": {
        "colab": {
          "base_uri": "https://localhost:8080/"
        },
        "id": "4n3_NpPN9GV3",
        "outputId": "d7dbba3f-44c7-497d-b5f4-d41a7d04d24b"
      },
      "outputs": [
        {
          "output_type": "execute_result",
          "data": {
            "text/plain": [
              "0.84892"
            ]
          },
          "metadata": {},
          "execution_count": 88
        }
      ],
      "source": [
        "# Implement the same code now with numpy\n",
        "# use the numpy we don't need the for loop\n",
        "n = 50_000\n",
        "\n",
        "np.random.seed(1)\n",
        "\n",
        "pos_ind = np.random.randint(0, len(pos), size=n)\n",
        "neg_ind = np.random.randint(0, len(neg), size=n)\n",
        "\n",
        "# Calculate the rate of positive examples\n",
        "(pos[pos_ind] > neg[neg_ind]).mean()"
      ]
    },
    {
      "cell_type": "code",
      "execution_count": 89,
      "metadata": {
        "id": "s-cHndAH-j5d"
      },
      "outputs": [],
      "source": [
        "# Cross-Validation:\n",
        "\n",
        "# . Evaluating the same model on different sbsets of data\n",
        "# . Getting the average prediction and the spread witin predictions\n",
        "\n",
        "# Create a function for training\n",
        "def train(df_train, y_train, C=1.0):\n",
        "\n",
        "  # Create dictionaries that extract from our dataframe categoricl and numerical variables\n",
        "  dicts = df_train[categorical + numerical].to_dict(orient='records')\n",
        "\n",
        "  # Create a new instance of the DictVectorizer class without sparse\n",
        "  dv = DictVectorizer(sparse=False)\n",
        "\n",
        "  # Use the function transform with our DictVectorizer\n",
        "  X_train = dv.fit_transform(dicts)\n",
        "\n",
        "  # Create a model logistic regression and define the parameter\n",
        "  # C is the parameter tuning of our model \n",
        "  # this C is equivalent to the regularization parameter\n",
        "  # the default one is one (1.0)\n",
        "  # max_iter is the maximum duration \n",
        "  model = LogisticRegression(C=C, max_iter=1000)\n",
        "\n",
        "  # For training the model we use the fit method\n",
        "  model.fit(X_train, y_train)\n",
        "   \n",
        "  # because the vectorizer knows how to transform our dictionaries into feature matrix\n",
        "  # and then the model knows what to do with them after they are transformed\n",
        "  return dv, model"
      ]
    },
    {
      "cell_type": "code",
      "execution_count": 90,
      "metadata": {
        "id": "8T-flBvDjiGb"
      },
      "outputs": [],
      "source": [
        "# Call function train and store results of dv and model\n",
        "# we set C to 0.001 if we want to train the model with a lot of regularization\n",
        "dv, model = train(df_train, y_train, C=0.001)"
      ]
    },
    {
      "cell_type": "code",
      "execution_count": 91,
      "metadata": {
        "id": "6ybN4BNQkvPZ"
      },
      "outputs": [],
      "source": [
        "# Create a function for predict\n",
        "def predict(df, dv, model):\n",
        "\n",
        "  # Convert the dataframe into a list of dictionaries\n",
        "  dicts = df[categorical + numerical].to_dict(orient='records')\n",
        "\n",
        "  # Creates the feature matrix using the vectorizer\n",
        "  X = dv.transform((dicts))\n",
        "\n",
        "  # Use the model predict proba and take the second column\n",
        "  y_pred = model.predict_proba(X)[:, 1]\n",
        "\n",
        "  # Return our prediction\n",
        "  return y_pred"
      ]
    },
    {
      "cell_type": "code",
      "execution_count": 92,
      "metadata": {
        "colab": {
          "base_uri": "https://localhost:8080/"
        },
        "id": "54RjywwemqZl",
        "outputId": "a9f52c31-2ab2-46a4-e5a2-ab2084cc1d98"
      },
      "outputs": [
        {
          "output_type": "execute_result",
          "data": {
            "text/plain": [
              "array([0.02155921, 0.33135098, 0.33602112, ..., 0.26705435, 0.71907523,\n",
              "       0.71942517])"
            ]
          },
          "metadata": {},
          "execution_count": 92
        }
      ],
      "source": [
        "# Call the function predict and use with our validation datset\n",
        "y_pred = predict(df_val, dv, model)\n",
        "y_pred\n",
        "# it returns a numpy array with predictions"
      ]
    },
    {
      "cell_type": "code",
      "execution_count": 93,
      "metadata": {
        "id": "dkt22anwnKOt"
      },
      "outputs": [],
      "source": [
        "# Use the KFold package from sklearn model selection\n",
        "from sklearn.model_selection import KFold"
      ]
    },
    {
      "cell_type": "code",
      "execution_count": 94,
      "metadata": {
        "id": "TD8PjPbsnhV2"
      },
      "outputs": [],
      "source": [
        "# Use the function KFold to split the data in 10 parts\n",
        "# note: random state is the seed\n",
        "kfold = KFold(n_splits=10, shuffle=True, random_state=1)"
      ]
    },
    {
      "cell_type": "code",
      "execution_count": 95,
      "metadata": {
        "colab": {
          "base_uri": "https://localhost:8080/"
        },
        "id": "ht5ZYAskoZ1h",
        "outputId": "8c84464a-e2b4-42d1-b880-d87b9ab3fbc8"
      },
      "outputs": [
        {
          "output_type": "execute_result",
          "data": {
            "text/plain": [
              "<generator object _BaseKFold.split at 0x7f0b0527ed50>"
            ]
          },
          "metadata": {},
          "execution_count": 95
        }
      ],
      "source": [
        "# Use the split method that takes our full train dataframe\n",
        "kfold.split(df_train)"
      ]
    },
    {
      "cell_type": "code",
      "execution_count": 96,
      "metadata": {
        "colab": {
          "base_uri": "https://localhost:8080/"
        },
        "id": "fekSLjqWo_B8",
        "outputId": "e73653c0-8b6e-4f25-d5e2-3bd424f4fbee"
      },
      "outputs": [
        {
          "output_type": "execute_result",
          "data": {
            "text/plain": [
              "(array([   0,    2,    3, ..., 4222, 4223, 4224]),\n",
              " array([   1,   13,   17,   21,   40,   44,   58,   62,   93,   94,   98,\n",
              "          99,  102,  108,  111,  115,  123,  136,  161,  181,  200,  210,\n",
              "         219,  230,  280,  292,  299,  306,  330,  331,  345,  359,  366,\n",
              "         368,  385,  407,  438,  443,  453,  486,  494,  495,  518,  534,\n",
              "         544,  555,  557,  560,  577,  592,  605,  608,  632,  636,  644,\n",
              "         645,  661,  662,  664,  671,  678,  695,  709,  710,  718,  745,\n",
              "         748,  756,  761,  763,  769,  771,  772,  773,  778,  779,  784,\n",
              "         799,  804,  823,  834,  846,  857,  881,  891,  893,  906,  921,\n",
              "         929,  936,  941,  945,  955,  957,  960,  968,  986,  988,  993,\n",
              "         994,  996, 1004, 1006, 1012, 1020, 1030, 1034, 1060, 1064, 1073,\n",
              "        1078, 1087, 1089, 1104, 1122, 1126, 1140, 1164, 1167, 1173, 1179,\n",
              "        1189, 1217, 1227, 1247, 1248, 1255, 1291, 1322, 1330, 1373, 1375,\n",
              "        1379, 1380, 1381, 1400, 1406, 1410, 1417, 1419, 1435, 1456, 1488,\n",
              "        1503, 1519, 1520, 1524, 1526, 1540, 1542, 1548, 1556, 1559, 1562,\n",
              "        1563, 1566, 1586, 1596, 1607, 1610, 1636, 1637, 1652, 1657, 1672,\n",
              "        1677, 1684, 1688, 1690, 1708, 1710, 1717, 1725, 1742, 1749, 1758,\n",
              "        1759, 1760, 1767, 1768, 1773, 1783, 1784, 1794, 1815, 1833, 1859,\n",
              "        1895, 1928, 1945, 1959, 1960, 1961, 1962, 1977, 1987, 1990, 1993,\n",
              "        2000, 2008, 2017, 2027, 2028, 2038, 2040, 2045, 2088, 2095, 2098,\n",
              "        2129, 2136, 2161, 2168, 2174, 2193, 2201, 2204, 2226, 2234, 2245,\n",
              "        2253, 2270, 2279, 2294, 2311, 2318, 2326, 2329, 2349, 2352, 2360,\n",
              "        2377, 2389, 2402, 2403, 2404, 2415, 2420, 2425, 2430, 2456, 2457,\n",
              "        2458, 2466, 2472, 2473, 2487, 2491, 2501, 2567, 2579, 2605, 2611,\n",
              "        2624, 2639, 2644, 2660, 2668, 2670, 2680, 2703, 2708, 2713, 2728,\n",
              "        2734, 2738, 2741, 2749, 2753, 2754, 2755, 2756, 2777, 2794, 2796,\n",
              "        2815, 2830, 2849, 2855, 2864, 2871, 2883, 2887, 2894, 2902, 2913,\n",
              "        2917, 2922, 2932, 2948, 2960, 2967, 2987, 2991, 2996, 2999, 3008,\n",
              "        3028, 3043, 3052, 3056, 3066, 3074, 3093, 3105, 3141, 3176, 3195,\n",
              "        3197, 3198, 3202, 3207, 3214, 3227, 3249, 3274, 3286, 3307, 3309,\n",
              "        3314, 3317, 3323, 3324, 3327, 3337, 3359, 3363, 3369, 3370, 3380,\n",
              "        3384, 3427, 3430, 3441, 3444, 3447, 3458, 3460, 3463, 3467, 3471,\n",
              "        3472, 3476, 3525, 3531, 3544, 3545, 3546, 3559, 3560, 3563, 3567,\n",
              "        3610, 3623, 3625, 3643, 3649, 3655, 3659, 3671, 3678, 3691, 3693,\n",
              "        3703, 3704, 3705, 3713, 3733, 3740, 3741, 3747, 3749, 3831, 3847,\n",
              "        3858, 3886, 3897, 3901, 3903, 3907, 3918, 3923, 3925, 3927, 3932,\n",
              "        3943, 3946, 3947, 3954, 3959, 3977, 3992, 3993, 4004, 4010, 4012,\n",
              "        4020, 4021, 4023, 4032, 4033, 4043, 4045, 4051, 4054, 4070, 4076,\n",
              "        4097, 4100, 4106, 4128, 4149, 4155, 4159, 4160, 4172, 4173, 4178,\n",
              "        4191, 4197, 4204, 4216, 4217]))"
            ]
          },
          "metadata": {},
          "execution_count": 96
        }
      ],
      "source": [
        "# Use the method next to see what's inside\n",
        "train_idx, val_idx = next(kfold.split(df_train))\n",
        "train_idx, val_idx\n",
        "# it returns two arrays the first one is the indexes for the train part\n",
        "# and then indexes for the validation part "
      ]
    },
    {
      "cell_type": "code",
      "execution_count": 97,
      "metadata": {
        "colab": {
          "base_uri": "https://localhost:8080/"
        },
        "id": "2cIYtNnOpOMB",
        "outputId": "8bfc9f53-a4c5-4850-c85e-f5f85a6310cc"
      },
      "outputs": [
        {
          "output_type": "execute_result",
          "data": {
            "text/plain": [
              "(3802, 423)"
            ]
          },
          "metadata": {},
          "execution_count": 97
        }
      ],
      "source": [
        "# Check the lenght of both indexes created\n",
        "len(train_idx), len(val_idx)"
      ]
    },
    {
      "cell_type": "code",
      "execution_count": 98,
      "metadata": {
        "colab": {
          "base_uri": "https://localhost:8080/"
        },
        "id": "1WO39FXBqGCK",
        "outputId": "d41488ce-9aae-44dc-d4c7-3fc0f96982b0"
      },
      "outputs": [
        {
          "output_type": "execute_result",
          "data": {
            "text/plain": [
              "4225"
            ]
          },
          "metadata": {},
          "execution_count": 98
        }
      ],
      "source": [
        "# Check the lenght of our full train dataframe\n",
        "len(df_train)\n",
        "# note: the lenght below is the total of the above arrays of indexes"
      ]
    },
    {
      "cell_type": "code",
      "execution_count": 99,
      "metadata": {
        "colab": {
          "base_uri": "https://localhost:8080/"
        },
        "id": "m35FCjwjgCin",
        "outputId": "2e75df2a-5fe1-48f3-9f9a-cfe86eb74d3d"
      },
      "outputs": [
        {
          "output_type": "stream",
          "name": "stdout",
          "text": [
            "Looking in indexes: https://pypi.org/simple, https://us-python.pkg.dev/colab-wheels/public/simple/\n",
            "Requirement already satisfied: tqdm in /usr/local/lib/python3.7/dist-packages (4.64.1)\n"
          ]
        }
      ],
      "source": [
        "# Install TQDM to see progress of each iterations of a loop\n",
        "!pip install tqdm"
      ]
    },
    {
      "cell_type": "code",
      "execution_count": 100,
      "metadata": {
        "id": "RNbjbMztgJSF"
      },
      "outputs": [],
      "source": [
        "# Import the library of TQDM\n",
        "from tqdm.auto import tqdm"
      ]
    },
    {
      "cell_type": "code",
      "execution_count": 101,
      "metadata": {
        "colab": {
          "base_uri": "https://localhost:8080/",
          "height": 177,
          "referenced_widgets": [
            "2320890556bc417383226d3b1e30009e",
            "b63b75c55eb642539a7864b4d244964a",
            "7b567daa31e543fca7a5e4ee1fe6fdf7",
            "65544a4a5d84496f8b27628789fd83e5",
            "18a6f2e432a4428a92a0d0a07977d26e",
            "6479293c9eb3484cb835026b4abaa6c4",
            "cbd330e7f0444d3cbf16a87dcd00ba01",
            "cd5d64aa26234c4b8143177b9f38a956",
            "710959ad4c3b45538fbf93c67e2abf68",
            "96597350ff154273b24c13c859af1879",
            "7c9d961f7655408abdfb9454a1ed41a0"
          ]
        },
        "id": "vN9XFHdluT_4",
        "outputId": "d64bbec6-1073-428a-a5fe-4ea0c020f65f"
      },
      "outputs": [
        {
          "output_type": "display_data",
          "data": {
            "text/plain": [
              "  0%|          | 0/7 [00:00<?, ?it/s]"
            ],
            "application/vnd.jupyter.widget-view+json": {
              "version_major": 2,
              "version_minor": 0,
              "model_id": "2320890556bc417383226d3b1e30009e"
            }
          },
          "metadata": {}
        },
        {
          "output_type": "stream",
          "name": "stdout",
          "text": [
            "C=0.001 0.843 +- 0.008\n",
            "C=0.01 0.843 +- 0.008\n",
            "C=0.1 0.843 +- 0.008\n",
            "C=0.5 0.843 +- 0.008\n",
            "C=1 0.843 +- 0.008\n",
            "C=5 0.843 +- 0.008\n",
            "C=10 0.843 +- 0.008\n"
          ]
        }
      ],
      "source": [
        "# Declare how many splits we will do with dataframe\n",
        "n_splits = 5\n",
        "\n",
        "# Create for loop that save the results after each iteraction we evaluate the model\n",
        "# use c to iterate over different values of C \n",
        "for C in tqdm([0.001, 0.01, 0.1, 0.5, 1, 5, 10]):\n",
        "\n",
        "  # Use the function KFold to split the data in 5 parts\n",
        "  kfold = KFold(n_splits=n_splits, shuffle=True, random_state=1)\n",
        "\n",
        "  # Create a list with scores\n",
        "  scores = []\n",
        "\n",
        "  # Iterate over the full train dataframe using the function split together with train and val indexes\n",
        "  for train_idx, val_idx in kfold.split(df_full_train):\n",
        "\n",
        "    # Use iloc to select a part of the full train dataframe for train\n",
        "    df_train = df_full_train.iloc[train_idx]\n",
        "\n",
        "    # Use iloc to select a part of the full train dataframe for validation\n",
        "    df_val = df_full_train.iloc[val_idx]\n",
        "\n",
        "    # Store the churn values with y train and validation\n",
        "    y_train = df_full_train.churn.values\n",
        "    y_val = df_val.churn.values\n",
        "\n",
        "    # Call function train and store results of dv and model\n",
        "    dv, model = train(df_full_train, y_train)\n",
        "\n",
        "    # Call the function predict and use with our validation datset\n",
        "    y_pred = predict(df_val, dv, model)\n",
        "\n",
        "    # Compute and store the ROC AUC score\n",
        "    auc = roc_auc_score(y_val, y_pred)\n",
        "\n",
        "    # After evaluate the model we store the results\n",
        "    scores.append(auc)\n",
        "\n",
        "  # Print the mean score and standard deviation\n",
        "  print('C=%s %.3f +- %.3f' % (C, np.mean(scores), np.std(scores)))\n",
        "\n",
        "  # below we can see the average score across all splits and its 84.3% \n",
        "  # and then the spead standard deviation is 0.008% "
      ]
    },
    {
      "cell_type": "code",
      "source": [
        "# Print the scores we got by evaluating our model\n",
        "scores"
      ],
      "metadata": {
        "colab": {
          "base_uri": "https://localhost:8080/"
        },
        "id": "ndo6genRQlhv",
        "outputId": "c6a85416-e6f6-44e7-ae83-804b0e18912e"
      },
      "execution_count": 102,
      "outputs": [
        {
          "output_type": "execute_result",
          "data": {
            "text/plain": [
              "[0.8474970759315806,\n",
              " 0.847960948880943,\n",
              " 0.8337788480834838,\n",
              " 0.8329183187312144,\n",
              " 0.8539071569765617]"
            ]
          },
          "metadata": {},
          "execution_count": 102
        }
      ]
    },
    {
      "cell_type": "code",
      "source": [
        "# Compute the mean score and standard deviation\n",
        "np.mean(scores), np.std(scores)\n",
        "# below we can see the average score across all splits and its 84.3% \n",
        "# and then the spead standard deviation is 0.008% "
      ],
      "metadata": {
        "colab": {
          "base_uri": "https://localhost:8080/"
        },
        "id": "ZDVprv-5Qwr_",
        "outputId": "5976d3a7-8524-4926-ca62-98d3f9b685aa"
      },
      "execution_count": 105,
      "outputs": [
        {
          "output_type": "execute_result",
          "data": {
            "text/plain": [
              "(0.8432124697207566, 0.00836952808713552)"
            ]
          },
          "metadata": {},
          "execution_count": 105
        }
      ]
    },
    {
      "cell_type": "code",
      "source": [
        "# Train our final model on the full train dataset and validate on the test dataset\n",
        "\n",
        "# Call function train and store results of dv and model\n",
        "dv, model = train(df_full_train, df_full_train.churn.values, C=C)\n",
        "\n",
        "# Call the function predict and use with our validation datset\n",
        "y_pred = predict(df_test, dv, model)\n",
        "\n",
        "# Compute and store the ROC AUC score\n",
        "auc = roc_auc_score(y_test, y_pred)\n",
        "auc\n",
        "# we can see the AUC 85.8% is a litte bit better than what we before with 84.3% \n",
        "# the AUC below if it was a bit lower it also be good as long it's not that drastic change\n",
        "# one or two percent it's okay  "
      ],
      "metadata": {
        "colab": {
          "base_uri": "https://localhost:8080/"
        },
        "id": "lD3oAyAbRKXe",
        "outputId": "0c5ccd0e-e5c0-4b0f-a2bc-f9753ae475fd"
      },
      "execution_count": 107,
      "outputs": [
        {
          "output_type": "execute_result",
          "data": {
            "text/plain": [
              "0.858934046172013"
            ]
          },
          "metadata": {},
          "execution_count": 107
        }
      ]
    },
    {
      "cell_type": "code",
      "source": [],
      "metadata": {
        "id": "UODEgLURW30V"
      },
      "execution_count": null,
      "outputs": []
    }
  ],
  "metadata": {
    "colab": {
      "collapsed_sections": [],
      "provenance": [],
      "authorship_tag": "ABX9TyO0kdnx0hJnsyo6hUrwylN1",
      "include_colab_link": true
    },
    "kernelspec": {
      "display_name": "Python 3",
      "name": "python3"
    },
    "language_info": {
      "name": "python"
    },
    "widgets": {
      "application/vnd.jupyter.widget-state+json": {
        "2320890556bc417383226d3b1e30009e": {
          "model_module": "@jupyter-widgets/controls",
          "model_name": "HBoxModel",
          "model_module_version": "1.5.0",
          "state": {
            "_dom_classes": [],
            "_model_module": "@jupyter-widgets/controls",
            "_model_module_version": "1.5.0",
            "_model_name": "HBoxModel",
            "_view_count": null,
            "_view_module": "@jupyter-widgets/controls",
            "_view_module_version": "1.5.0",
            "_view_name": "HBoxView",
            "box_style": "",
            "children": [
              "IPY_MODEL_b63b75c55eb642539a7864b4d244964a",
              "IPY_MODEL_7b567daa31e543fca7a5e4ee1fe6fdf7",
              "IPY_MODEL_65544a4a5d84496f8b27628789fd83e5"
            ],
            "layout": "IPY_MODEL_18a6f2e432a4428a92a0d0a07977d26e"
          }
        },
        "b63b75c55eb642539a7864b4d244964a": {
          "model_module": "@jupyter-widgets/controls",
          "model_name": "HTMLModel",
          "model_module_version": "1.5.0",
          "state": {
            "_dom_classes": [],
            "_model_module": "@jupyter-widgets/controls",
            "_model_module_version": "1.5.0",
            "_model_name": "HTMLModel",
            "_view_count": null,
            "_view_module": "@jupyter-widgets/controls",
            "_view_module_version": "1.5.0",
            "_view_name": "HTMLView",
            "description": "",
            "description_tooltip": null,
            "layout": "IPY_MODEL_6479293c9eb3484cb835026b4abaa6c4",
            "placeholder": "​",
            "style": "IPY_MODEL_cbd330e7f0444d3cbf16a87dcd00ba01",
            "value": "100%"
          }
        },
        "7b567daa31e543fca7a5e4ee1fe6fdf7": {
          "model_module": "@jupyter-widgets/controls",
          "model_name": "FloatProgressModel",
          "model_module_version": "1.5.0",
          "state": {
            "_dom_classes": [],
            "_model_module": "@jupyter-widgets/controls",
            "_model_module_version": "1.5.0",
            "_model_name": "FloatProgressModel",
            "_view_count": null,
            "_view_module": "@jupyter-widgets/controls",
            "_view_module_version": "1.5.0",
            "_view_name": "ProgressView",
            "bar_style": "success",
            "description": "",
            "description_tooltip": null,
            "layout": "IPY_MODEL_cd5d64aa26234c4b8143177b9f38a956",
            "max": 7,
            "min": 0,
            "orientation": "horizontal",
            "style": "IPY_MODEL_710959ad4c3b45538fbf93c67e2abf68",
            "value": 7
          }
        },
        "65544a4a5d84496f8b27628789fd83e5": {
          "model_module": "@jupyter-widgets/controls",
          "model_name": "HTMLModel",
          "model_module_version": "1.5.0",
          "state": {
            "_dom_classes": [],
            "_model_module": "@jupyter-widgets/controls",
            "_model_module_version": "1.5.0",
            "_model_name": "HTMLModel",
            "_view_count": null,
            "_view_module": "@jupyter-widgets/controls",
            "_view_module_version": "1.5.0",
            "_view_name": "HTMLView",
            "description": "",
            "description_tooltip": null,
            "layout": "IPY_MODEL_96597350ff154273b24c13c859af1879",
            "placeholder": "​",
            "style": "IPY_MODEL_7c9d961f7655408abdfb9454a1ed41a0",
            "value": " 7/7 [00:28&lt;00:00,  4.87s/it]"
          }
        },
        "18a6f2e432a4428a92a0d0a07977d26e": {
          "model_module": "@jupyter-widgets/base",
          "model_name": "LayoutModel",
          "model_module_version": "1.2.0",
          "state": {
            "_model_module": "@jupyter-widgets/base",
            "_model_module_version": "1.2.0",
            "_model_name": "LayoutModel",
            "_view_count": null,
            "_view_module": "@jupyter-widgets/base",
            "_view_module_version": "1.2.0",
            "_view_name": "LayoutView",
            "align_content": null,
            "align_items": null,
            "align_self": null,
            "border": null,
            "bottom": null,
            "display": null,
            "flex": null,
            "flex_flow": null,
            "grid_area": null,
            "grid_auto_columns": null,
            "grid_auto_flow": null,
            "grid_auto_rows": null,
            "grid_column": null,
            "grid_gap": null,
            "grid_row": null,
            "grid_template_areas": null,
            "grid_template_columns": null,
            "grid_template_rows": null,
            "height": null,
            "justify_content": null,
            "justify_items": null,
            "left": null,
            "margin": null,
            "max_height": null,
            "max_width": null,
            "min_height": null,
            "min_width": null,
            "object_fit": null,
            "object_position": null,
            "order": null,
            "overflow": null,
            "overflow_x": null,
            "overflow_y": null,
            "padding": null,
            "right": null,
            "top": null,
            "visibility": null,
            "width": null
          }
        },
        "6479293c9eb3484cb835026b4abaa6c4": {
          "model_module": "@jupyter-widgets/base",
          "model_name": "LayoutModel",
          "model_module_version": "1.2.0",
          "state": {
            "_model_module": "@jupyter-widgets/base",
            "_model_module_version": "1.2.0",
            "_model_name": "LayoutModel",
            "_view_count": null,
            "_view_module": "@jupyter-widgets/base",
            "_view_module_version": "1.2.0",
            "_view_name": "LayoutView",
            "align_content": null,
            "align_items": null,
            "align_self": null,
            "border": null,
            "bottom": null,
            "display": null,
            "flex": null,
            "flex_flow": null,
            "grid_area": null,
            "grid_auto_columns": null,
            "grid_auto_flow": null,
            "grid_auto_rows": null,
            "grid_column": null,
            "grid_gap": null,
            "grid_row": null,
            "grid_template_areas": null,
            "grid_template_columns": null,
            "grid_template_rows": null,
            "height": null,
            "justify_content": null,
            "justify_items": null,
            "left": null,
            "margin": null,
            "max_height": null,
            "max_width": null,
            "min_height": null,
            "min_width": null,
            "object_fit": null,
            "object_position": null,
            "order": null,
            "overflow": null,
            "overflow_x": null,
            "overflow_y": null,
            "padding": null,
            "right": null,
            "top": null,
            "visibility": null,
            "width": null
          }
        },
        "cbd330e7f0444d3cbf16a87dcd00ba01": {
          "model_module": "@jupyter-widgets/controls",
          "model_name": "DescriptionStyleModel",
          "model_module_version": "1.5.0",
          "state": {
            "_model_module": "@jupyter-widgets/controls",
            "_model_module_version": "1.5.0",
            "_model_name": "DescriptionStyleModel",
            "_view_count": null,
            "_view_module": "@jupyter-widgets/base",
            "_view_module_version": "1.2.0",
            "_view_name": "StyleView",
            "description_width": ""
          }
        },
        "cd5d64aa26234c4b8143177b9f38a956": {
          "model_module": "@jupyter-widgets/base",
          "model_name": "LayoutModel",
          "model_module_version": "1.2.0",
          "state": {
            "_model_module": "@jupyter-widgets/base",
            "_model_module_version": "1.2.0",
            "_model_name": "LayoutModel",
            "_view_count": null,
            "_view_module": "@jupyter-widgets/base",
            "_view_module_version": "1.2.0",
            "_view_name": "LayoutView",
            "align_content": null,
            "align_items": null,
            "align_self": null,
            "border": null,
            "bottom": null,
            "display": null,
            "flex": null,
            "flex_flow": null,
            "grid_area": null,
            "grid_auto_columns": null,
            "grid_auto_flow": null,
            "grid_auto_rows": null,
            "grid_column": null,
            "grid_gap": null,
            "grid_row": null,
            "grid_template_areas": null,
            "grid_template_columns": null,
            "grid_template_rows": null,
            "height": null,
            "justify_content": null,
            "justify_items": null,
            "left": null,
            "margin": null,
            "max_height": null,
            "max_width": null,
            "min_height": null,
            "min_width": null,
            "object_fit": null,
            "object_position": null,
            "order": null,
            "overflow": null,
            "overflow_x": null,
            "overflow_y": null,
            "padding": null,
            "right": null,
            "top": null,
            "visibility": null,
            "width": null
          }
        },
        "710959ad4c3b45538fbf93c67e2abf68": {
          "model_module": "@jupyter-widgets/controls",
          "model_name": "ProgressStyleModel",
          "model_module_version": "1.5.0",
          "state": {
            "_model_module": "@jupyter-widgets/controls",
            "_model_module_version": "1.5.0",
            "_model_name": "ProgressStyleModel",
            "_view_count": null,
            "_view_module": "@jupyter-widgets/base",
            "_view_module_version": "1.2.0",
            "_view_name": "StyleView",
            "bar_color": null,
            "description_width": ""
          }
        },
        "96597350ff154273b24c13c859af1879": {
          "model_module": "@jupyter-widgets/base",
          "model_name": "LayoutModel",
          "model_module_version": "1.2.0",
          "state": {
            "_model_module": "@jupyter-widgets/base",
            "_model_module_version": "1.2.0",
            "_model_name": "LayoutModel",
            "_view_count": null,
            "_view_module": "@jupyter-widgets/base",
            "_view_module_version": "1.2.0",
            "_view_name": "LayoutView",
            "align_content": null,
            "align_items": null,
            "align_self": null,
            "border": null,
            "bottom": null,
            "display": null,
            "flex": null,
            "flex_flow": null,
            "grid_area": null,
            "grid_auto_columns": null,
            "grid_auto_flow": null,
            "grid_auto_rows": null,
            "grid_column": null,
            "grid_gap": null,
            "grid_row": null,
            "grid_template_areas": null,
            "grid_template_columns": null,
            "grid_template_rows": null,
            "height": null,
            "justify_content": null,
            "justify_items": null,
            "left": null,
            "margin": null,
            "max_height": null,
            "max_width": null,
            "min_height": null,
            "min_width": null,
            "object_fit": null,
            "object_position": null,
            "order": null,
            "overflow": null,
            "overflow_x": null,
            "overflow_y": null,
            "padding": null,
            "right": null,
            "top": null,
            "visibility": null,
            "width": null
          }
        },
        "7c9d961f7655408abdfb9454a1ed41a0": {
          "model_module": "@jupyter-widgets/controls",
          "model_name": "DescriptionStyleModel",
          "model_module_version": "1.5.0",
          "state": {
            "_model_module": "@jupyter-widgets/controls",
            "_model_module_version": "1.5.0",
            "_model_name": "DescriptionStyleModel",
            "_view_count": null,
            "_view_module": "@jupyter-widgets/base",
            "_view_module_version": "1.2.0",
            "_view_name": "StyleView",
            "description_width": ""
          }
        }
      }
    }
  },
  "nbformat": 4,
  "nbformat_minor": 0
}