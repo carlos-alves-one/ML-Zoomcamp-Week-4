{
  "nbformat": 4,
  "nbformat_minor": 0,
  "metadata": {
    "colab": {
      "provenance": [],
      "collapsed_sections": [],
      "authorship_tag": "ABX9TyPGB/oI+pI8j6eZvY9ABnez",
      "include_colab_link": true
    },
    "kernelspec": {
      "name": "python3",
      "display_name": "Python 3"
    },
    "language_info": {
      "name": "python"
    }
  },
  "cells": [
    {
      "cell_type": "markdown",
      "metadata": {
        "id": "view-in-github",
        "colab_type": "text"
      },
      "source": [
        "<a href=\"https://colab.research.google.com/github/carlos-alves-one/-ML-Zoomcamp-Week-4/blob/main/ML_Zoomcamp_Week_4.ipynb\" target=\"_parent\"><img src=\"https://colab.research.google.com/assets/colab-badge.svg\" alt=\"Open In Colab\"/></a>"
      ]
    },
    {
      "cell_type": "markdown",
      "source": [
        "## Goldsmiths University of London\n",
        "**Author....: Carlos Manuel de Oliveira Alves**<br>\n",
        "**Student..: cdeol003**<br>\n",
        "**Created..: 27/09/2022**"
      ],
      "metadata": {
        "id": "6gEcamMvoqD_"
      }
    },
    {
      "cell_type": "code",
      "execution_count": 91,
      "metadata": {
        "id": "sERKxvvdomPg"
      },
      "outputs": [],
      "source": [
        "# Import libraries for the project\n",
        "import pandas as pd\n",
        "import numpy as np\n",
        "\n",
        "import seaborn as sns\n",
        "import matplotlib.pyplot as plt\n",
        "%matplotlib inline\n",
        "\n",
        "# Import the library warnings to ignore the warnings\n",
        "import warnings\n",
        "warnings.filterwarnings(\"ignore\")"
      ]
    },
    {
      "cell_type": "code",
      "source": [
        "# Lets train the model again first - to use its results later in this notebook\n",
        "\n",
        "# Import packages from Sklearn for the project\n",
        "from sklearn.model_selection import train_test_split\n",
        "from sklearn.feature_extraction import DictVectorizer\n",
        "from sklearn.linear_model import LogisticRegression"
      ],
      "metadata": {
        "id": "NU5InPEkuw-d"
      },
      "execution_count": 92,
      "outputs": []
    },
    {
      "cell_type": "code",
      "source": [
        "# Data import and preparation\n",
        "\n",
        "df = pd.read_csv('WA_Fn-UseC_-Telco-Customer-Churn.csv')\n",
        "\n",
        "df['TotalCharges'] = pd.to_numeric(df['TotalCharges'], errors='coerce')\n",
        "df['TotalCharges'] = df['TotalCharges'].fillna(0)\n",
        "\n",
        "df.columns = df.columns.str.lower().str.replace(' ', '_')\n",
        "\n",
        "string_columns = list(df.dtypes[df.dtypes == 'object'].index)\n",
        "\n",
        "for col in string_columns:\n",
        "    df[col] = df[col].str.lower().str.replace(' ', '_')\n",
        "\n",
        "df.churn = (df.churn == 'yes').astype(int)"
      ],
      "metadata": {
        "id": "DwZLJNAjvYjo"
      },
      "execution_count": 93,
      "outputs": []
    },
    {
      "cell_type": "code",
      "source": [
        "# Setting up the validation framework\n",
        "\n",
        "df_train_full, df_test = train_test_split(df, test_size=0.2, random_state=1)\n",
        "df_train, df_val = train_test_split(df_train_full, test_size=0.33, random_state=11)\n",
        "\n",
        "y_train = df_train.churn.values\n",
        "y_val = df_val.churn.values\n",
        "\n",
        "del df_train['churn']\n",
        "del df_val['churn']"
      ],
      "metadata": {
        "id": "_QfstrMiwCsY"
      },
      "execution_count": 94,
      "outputs": []
    },
    {
      "cell_type": "code",
      "source": [
        "# Define the list of categorical and numerical variables\n",
        "\n",
        "categorical = ['gender', 'seniorcitizen', 'partner', 'dependents',\n",
        "               'phoneservice', 'multiplelines', 'internetservice',\n",
        "               'onlinesecurity', 'onlinebackup', 'deviceprotection',\n",
        "               'techsupport', 'streamingtv', 'streamingmovies',\n",
        "               'contract', 'paperlessbilling', 'paymentmethod']\n",
        "\n",
        "numerical = ['tenure', 'monthlycharges', 'totalcharges']"
      ],
      "metadata": {
        "id": "Jhf2i3E5wTeO"
      },
      "execution_count": 95,
      "outputs": []
    },
    {
      "cell_type": "code",
      "source": [
        "# Turn the data into a dictionary and we want each row to turn into a dictionary \n",
        "train_dict = df_train[categorical + numerical].to_dict(orient='records')\n",
        "\n",
        "# Create a new instance of the DictVectorizer class without sparse\n",
        "dv = DictVectorizer(sparse=False)\n",
        "\n",
        "# Use the method fit and first we train our DictVectorizer\n",
        "dv.fit(train_dict)\n",
        "\n",
        "# Use the function transform with our DictVectorizer\n",
        "X_train = dv.transform(train_dict)"
      ],
      "metadata": {
        "id": "s_T7YeKBwiPO"
      },
      "execution_count": 96,
      "outputs": []
    },
    {
      "cell_type": "code",
      "source": [
        "# Create a model logistic regression\n",
        "model = LogisticRegression(solver='liblinear', random_state=1)\n",
        "\n",
        "# For training the model we use the fit method\n",
        "model.fit(X_train, y_train)"
      ],
      "metadata": {
        "colab": {
          "base_uri": "https://localhost:8080/"
        },
        "id": "-hfgdUOuxggk",
        "outputId": "68e6ff53-4aba-48b4-9a95-59fc796355aa"
      },
      "execution_count": 97,
      "outputs": [
        {
          "output_type": "execute_result",
          "data": {
            "text/plain": [
              "LogisticRegression(random_state=1, solver='liblinear')"
            ]
          },
          "metadata": {},
          "execution_count": 97
        }
      ]
    },
    {
      "cell_type": "code",
      "source": [
        "# Create validation dictionary with categorical and numerical variables\n",
        "val_dict = df_val[categorical + numerical].to_dict(orient='records')\n",
        "\n",
        "# Use the function transform with our validation dictionary\n",
        "X_val = dv.transform(val_dict)\n",
        "\n",
        "# Apply our model on X validation and use the first column\n",
        "y_pred = model.predict_proba(X_val)[:, 1]"
      ],
      "metadata": {
        "id": "n_VWjZV4yTkK"
      },
      "execution_count": 98,
      "outputs": []
    },
    {
      "cell_type": "code",
      "source": [
        "# Create a small subset from the dataframe\n",
        "small_subset = ['contract', 'tenure', 'totalcharges']\n",
        "\n",
        "# Turn the data into a dictionary and we want each row to turn into a dictionary \n",
        "train_dict_small = df_train[small_subset].to_dict(orient='records')\n",
        "\n",
        "# Create a new instance of the DictVectorizer class without sparse\n",
        "dv_small = DictVectorizer(sparse=False)\n",
        "\n",
        "# Use the method fit and first we train our DictVectorizer\n",
        "dv_small.fit(train_dict_small)\n",
        "\n",
        "# Use the function transform with our DictVectorizer\n",
        "X_small_train = dv_small.transform(train_dict_small)\n",
        "\n",
        "# Create a model logistic regression\n",
        "model_small = LogisticRegression(solver='liblinear', random_state=1)\n",
        "\n",
        "# Use the method fit and first we train our DictVectorizer\n",
        "model_small.fit(X_small_train, y_train)"
      ],
      "metadata": {
        "colab": {
          "base_uri": "https://localhost:8080/"
        },
        "id": "zJQPuMETzwkJ",
        "outputId": "b094b397-6262-49db-c768-f19d4f352df3"
      },
      "execution_count": 99,
      "outputs": [
        {
          "output_type": "execute_result",
          "data": {
            "text/plain": [
              "LogisticRegression(random_state=1, solver='liblinear')"
            ]
          },
          "metadata": {},
          "execution_count": 99
        }
      ]
    },
    {
      "cell_type": "code",
      "source": [
        "# Turn the data into a dictionary and we want each row to turn into a dictionary \n",
        "val_dict_small = df_val[small_subset].to_dict(orient='records')\n",
        "\n",
        "# Use the function transform with our DictVectorizer\n",
        "X_small_val = dv_small.transform(val_dict_small)\n",
        "\n",
        "# Apply our model on Y predition and use the first column\n",
        "y_pred_small = model_small.predict_proba(X_small_val)[:, 1]"
      ],
      "metadata": {
        "id": "eDPSjIaXH7NA"
      },
      "execution_count": 100,
      "outputs": []
    },
    {
      "cell_type": "code",
      "source": [
        "# Accuracy:\n",
        "\n",
        "# Apply our model on Y predition and use the first column\n",
        "y_pred = model.predict_proba(X_val)[:, 1]\n",
        "\n",
        "# Store the Y prediction has 50% or more\n",
        "churn = y_pred >= 0.5\n",
        "\n",
        "# Calculate the percentange of the churn using the mean function\n",
        "(churn == y_val).mean()"
      ],
      "metadata": {
        "colab": {
          "base_uri": "https://localhost:8080/"
        },
        "id": "EtUr8FW8IqD2",
        "outputId": "eabf3084-74c9-4d19-eb65-bf5757fa9cc4"
      },
      "execution_count": 101,
      "outputs": [
        {
          "output_type": "execute_result",
          "data": {
            "text/plain": [
              "0.8016129032258065"
            ]
          },
          "metadata": {},
          "execution_count": 101
        }
      ]
    },
    {
      "cell_type": "code",
      "source": [
        "# Accuracy and dummy model:\n",
        "\n",
        "# . Evaluate the model on different thresholds\n",
        "# . Check the accuracy of dummy baselines\n",
        "\n",
        "# Check how many customers we have with Y validation dataset\n",
        "len(y_val)"
      ],
      "metadata": {
        "colab": {
          "base_uri": "https://localhost:8080/"
        },
        "id": "KJzIUEz6JuGw",
        "outputId": "a6c2a310-d60d-4608-b70d-8f329bf10b19"
      },
      "execution_count": 102,
      "outputs": [
        {
          "output_type": "execute_result",
          "data": {
            "text/plain": [
              "1860"
            ]
          },
          "metadata": {},
          "execution_count": 102
        }
      ]
    },
    {
      "cell_type": "code",
      "source": [
        "# we have 1.860 customers and for all this customers we will make a prediction\n",
        "# each customer we assign a score and then we make a decision\n",
        "# some of this decisions are correct and some of this decisions are incorrect\n",
        "\n",
        "# Check how many decisions are correct\n",
        "(y_val == churn).sum()"
      ],
      "metadata": {
        "colab": {
          "base_uri": "https://localhost:8080/"
        },
        "id": "Cl5KmgmmKk70",
        "outputId": "1f6978bc-2cd6-4aaa-8fc2-9e4948c3310b"
      },
      "execution_count": 103,
      "outputs": [
        {
          "output_type": "execute_result",
          "data": {
            "text/plain": [
              "1491"
            ]
          },
          "metadata": {},
          "execution_count": 103
        }
      ]
    },
    {
      "cell_type": "code",
      "source": [
        "# so have 1.491 customers with the correct decision\n",
        "\n",
        "# some of our decisions are not correct and we calculate doing:\n",
        "# total of correct decisions or predictions divide by the total of customers\n",
        "# in our case is 80%"
      ],
      "metadata": {
        "id": "6BDALL1AL9oT"
      },
      "execution_count": 104,
      "outputs": []
    },
    {
      "cell_type": "code",
      "source": [
        "print(str(round((1491 / 1860) * 100)) + '%')"
      ],
      "metadata": {
        "colab": {
          "base_uri": "https://localhost:8080/"
        },
        "id": "I9YU7rHhM7jL",
        "outputId": "907a663f-6e35-4200-eca5-f7b1c34e28d4"
      },
      "execution_count": 105,
      "outputs": [
        {
          "output_type": "stream",
          "name": "stdout",
          "text": [
            "80%\n"
          ]
        }
      ]
    },
    {
      "cell_type": "code",
      "source": [
        "# Use the function linspace to generate numbers from 0 to 1 with size of the array 21 elements\n",
        "thresholds = np.linspace(0, 1, 21)\n",
        "thresholds"
      ],
      "metadata": {
        "colab": {
          "base_uri": "https://localhost:8080/"
        },
        "id": "1zG7UbDJNM4d",
        "outputId": "a5304435-c76a-4750-f573-3ac2b45f679b"
      },
      "execution_count": 106,
      "outputs": [
        {
          "output_type": "execute_result",
          "data": {
            "text/plain": [
              "array([0.  , 0.05, 0.1 , 0.15, 0.2 , 0.25, 0.3 , 0.35, 0.4 , 0.45, 0.5 ,\n",
              "       0.55, 0.6 , 0.65, 0.7 , 0.75, 0.8 , 0.85, 0.9 , 0.95, 1.  ])"
            ]
          },
          "metadata": {},
          "execution_count": 106
        }
      ]
    },
    {
      "cell_type": "code",
      "source": [
        "# Create a list to store all the accuracies\n",
        "scores = []\n",
        "\n",
        "# For eah of the values above we can treat as a threshold\n",
        "for t in thresholds:\n",
        "\n",
        "  # Store the Y prediction we use t threshold list intead of has 50% or more\n",
        "  # churn = y_pred >= 0.5 <-- THIS LINE OF CODE IT WAS BEFORE\n",
        "  # NEW LINE OF CODE:\n",
        "  churn_decision = (y_pred >= t)\n",
        "\n",
        "  # Check how many decisions are correct\n",
        "  score = (y_val == churn_decision).mean()\n",
        "\n",
        "  # Print the score with some formatation\n",
        "  print('%.2f %.3f' % (t,score))\n",
        "\n",
        "  # Append the list scores with accuracy\n",
        "  scores.append(score)\n",
        "\n",
        "  # below the 0.50 its the best threshold for this specif problem"
      ],
      "metadata": {
        "colab": {
          "base_uri": "https://localhost:8080/"
        },
        "id": "eIUJj47VNzAZ",
        "outputId": "7ba76a57-8f17-4100-9f90-1c5872fd250f"
      },
      "execution_count": 107,
      "outputs": [
        {
          "output_type": "stream",
          "name": "stdout",
          "text": [
            "0.00 0.261\n",
            "0.05 0.501\n",
            "0.10 0.595\n",
            "0.15 0.640\n",
            "0.20 0.690\n",
            "0.25 0.730\n",
            "0.30 0.755\n",
            "0.35 0.767\n",
            "0.40 0.782\n",
            "0.45 0.795\n",
            "0.50 0.802\n",
            "0.55 0.790\n",
            "0.60 0.790\n",
            "0.65 0.788\n",
            "0.70 0.774\n",
            "0.75 0.752\n",
            "0.80 0.742\n",
            "0.85 0.739\n",
            "0.90 0.739\n",
            "0.95 0.739\n",
            "1.00 0.739\n"
          ]
        }
      ]
    },
    {
      "cell_type": "code",
      "source": [
        "# Print the list scores with accuracies\n",
        "scores"
      ],
      "metadata": {
        "colab": {
          "base_uri": "https://localhost:8080/"
        },
        "id": "k0iq-FlDQXhX",
        "outputId": "5b56e404-400c-40b9-f5d5-86ea2dee72c1"
      },
      "execution_count": 108,
      "outputs": [
        {
          "output_type": "execute_result",
          "data": {
            "text/plain": [
              "[0.26129032258064516,\n",
              " 0.5010752688172043,\n",
              " 0.5946236559139785,\n",
              " 0.6403225806451613,\n",
              " 0.6897849462365592,\n",
              " 0.7295698924731183,\n",
              " 0.7548387096774194,\n",
              " 0.7672043010752688,\n",
              " 0.7817204301075269,\n",
              " 0.7951612903225806,\n",
              " 0.8016129032258065,\n",
              " 0.7903225806451613,\n",
              " 0.7897849462365591,\n",
              " 0.7881720430107527,\n",
              " 0.7736559139784946,\n",
              " 0.7521505376344086,\n",
              " 0.7419354838709677,\n",
              " 0.7387096774193549,\n",
              " 0.7387096774193549,\n",
              " 0.7387096774193549,\n",
              " 0.7387096774193549]"
            ]
          },
          "metadata": {},
          "execution_count": 108
        }
      ]
    },
    {
      "cell_type": "code",
      "source": [
        "# Plot the list scores with accuracies\n",
        "plt.plot(thresholds, scores) \n",
        "# x-axis is the thresholds\n",
        "# y-axis is the scores"
      ],
      "metadata": {
        "colab": {
          "base_uri": "https://localhost:8080/",
          "height": 283
        },
        "id": "hwbPmLeLQwa-",
        "outputId": "6f7b4a56-9f2b-4130-d4c6-b21b14e2fd16"
      },
      "execution_count": 109,
      "outputs": [
        {
          "output_type": "execute_result",
          "data": {
            "text/plain": [
              "[<matplotlib.lines.Line2D at 0x7f24adfa0410>]"
            ]
          },
          "metadata": {},
          "execution_count": 109
        },
        {
          "output_type": "display_data",
          "data": {
            "text/plain": [
              "<Figure size 432x288 with 1 Axes>"
            ],
            "image/png": "[encoded data removed]"
          },
          "metadata": {
            "needs_background": "light"
          }
        }
      ]
    },
    {
      "cell_type": "code",
      "source": [
        "# doing the same above but now with sklearn:\n",
        "\n",
        "# Import the package accuracy score from sklearn\n",
        "from sklearn.metrics import accuracy_score"
      ],
      "metadata": {
        "id": "Q4vFDX2nRKLG"
      },
      "execution_count": 110,
      "outputs": []
    },
    {
      "cell_type": "code",
      "source": [
        "# Use the function accuracy score from sklearn\n",
        "accuracy_score(y_val, churn_decision)"
      ],
      "metadata": {
        "colab": {
          "base_uri": "https://localhost:8080/"
        },
        "id": "iQtOxGngSneL",
        "outputId": "a0f7c297-258d-4b74-c6d0-55dfe27a6543"
      },
      "execution_count": 111,
      "outputs": [
        {
          "output_type": "execute_result",
          "data": {
            "text/plain": [
              "0.7387096774193549"
            ]
          },
          "metadata": {},
          "execution_count": 111
        }
      ]
    },
    {
      "cell_type": "code",
      "source": [
        "# Use the function accuracy score from sklearn with the threshold list\n",
        "\n",
        "# Use the function linspace to generate numbers from 0 to 1 with size of the array 21 elements\n",
        "thresholds = np.linspace(0, 1, 21)\n",
        "\n",
        "# Create a list to store all the accuracies\n",
        "scores = []\n",
        "\n",
        "# For eah of the values above we can treat as a threshold\n",
        "for t in thresholds:\n",
        "\n",
        "  # Store the result of the functin accuracy score\n",
        "  score = accuracy_score(y_val, y_pred >= t)\n",
        "\n",
        "  # Print the score with some formatation\n",
        "  print('%.2f %.3f' % (t,score))\n",
        "\n",
        "  # Append the list scores with accuracy\n",
        "  scores.append(score)\n",
        "\n",
        "# we can see below the values are exactly the same"
      ],
      "metadata": {
        "colab": {
          "base_uri": "https://localhost:8080/"
        },
        "id": "ICL2pEHwS2sV",
        "outputId": "362f317c-6e41-447f-b6bb-f12734c32102"
      },
      "execution_count": 112,
      "outputs": [
        {
          "output_type": "stream",
          "name": "stdout",
          "text": [
            "0.00 0.261\n",
            "0.05 0.501\n",
            "0.10 0.595\n",
            "0.15 0.640\n",
            "0.20 0.690\n",
            "0.25 0.730\n",
            "0.30 0.755\n",
            "0.35 0.767\n",
            "0.40 0.782\n",
            "0.45 0.795\n",
            "0.50 0.802\n",
            "0.55 0.790\n",
            "0.60 0.790\n",
            "0.65 0.788\n",
            "0.70 0.774\n",
            "0.75 0.752\n",
            "0.80 0.742\n",
            "0.85 0.739\n",
            "0.90 0.739\n",
            "0.95 0.739\n",
            "1.00 0.739\n"
          ]
        }
      ]
    },
    {
      "cell_type": "code",
      "source": [
        "# from the plot above we can see for the threshold above of 1.0\n",
        "# we don't have more values the last score is 0.739 or 73.9% this accuracy its pretty decent\n",
        "# remember our model was 80% accurate  \n",
        "# but now with our dummy model is 73.9% where predicts how many customers are not churning\n",
        "\n",
        "# Use a special package collections from Python to count things\n",
        "from collections import Counter\n",
        "\n",
        "# Use the function counter from collections to count how many are true or false\n",
        "# the line below it predicts how many customers are not churning\n",
        "Counter(y_pred >= 1.0)\n",
        "\n",
        "# below we can see the counter only count false values"
      ],
      "metadata": {
        "colab": {
          "base_uri": "https://localhost:8080/"
        },
        "id": "dY4JcwQzX-5G",
        "outputId": "deee5dfd-f331-4f71-91db-463e2549974a"
      },
      "execution_count": 113,
      "outputs": [
        {
          "output_type": "execute_result",
          "data": {
            "text/plain": [
              "Counter({False: 1860})"
            ]
          },
          "metadata": {},
          "execution_count": 113
        }
      ]
    },
    {
      "cell_type": "code",
      "source": [
        "# Confusion table:\n",
        "\n",
        "# . Different types of errors and correct decisions\n",
        "# . Arranging them in a table\n",
        "\n",
        "# Create an array for customers are really churn and this is for case validations are 1\n",
        "actual_positive = (y_val == 1)\n",
        "\n",
        "# Create an array for customers are not going to churn and this is for case validations are 0\n",
        "actual_negative = (y_val == 0)\n",
        "\n",
        "# the arrays above they will store true's and falses values\n",
        "actual_positive"
      ],
      "metadata": {
        "colab": {
          "base_uri": "https://localhost:8080/"
        },
        "id": "EPSo2Ok3ZBgB",
        "outputId": "784a6e6d-082a-46ea-ea13-a610eee7ad42"
      },
      "execution_count": 114,
      "outputs": [
        {
          "output_type": "execute_result",
          "data": {
            "text/plain": [
              "array([False,  True, False, ..., False, False, False])"
            ]
          },
          "metadata": {},
          "execution_count": 114
        }
      ]
    },
    {
      "cell_type": "code",
      "source": [
        "# Define the threshold for positive and negative scores\n",
        "t = 0.5\n",
        "\n",
        "# Store the positive predictions\n",
        "predict_positive = (y_pred >= t)\n",
        "\n",
        "# Store the negative predictions\n",
        "predict_negative = (y_pred < t)\n",
        "\n",
        "# Combine in one the predictions and actual positives values\n",
        "predict_positive & actual_positive\n",
        "# note: the way it combines the trues and falses is:\n",
        "# true and true is equal to true\n",
        "# false and true is equal to false\n",
        "# false and false is equal to false\n",
        "\n",
        "# note: the & operator it computes the element wise logical end"
      ],
      "metadata": {
        "colab": {
          "base_uri": "https://localhost:8080/"
        },
        "id": "xnBlUuuJfzo3",
        "outputId": "6d88236c-c430-4168-9b5a-4268dbb1bdea"
      },
      "execution_count": 115,
      "outputs": [
        {
          "output_type": "execute_result",
          "data": {
            "text/plain": [
              "array([False, False, False, ..., False, False, False])"
            ]
          },
          "metadata": {},
          "execution_count": 115
        }
      ]
    },
    {
      "cell_type": "code",
      "source": [
        "# Check how many predictions and actual positives are\n",
        "(predict_positive & actual_positive).sum()"
      ],
      "metadata": {
        "colab": {
          "base_uri": "https://localhost:8080/"
        },
        "id": "5WlhLpvEgWAo",
        "outputId": "6be60a7b-6246-49db-f37c-d3efbcfffc5f"
      },
      "execution_count": 116,
      "outputs": [
        {
          "output_type": "execute_result",
          "data": {
            "text/plain": [
              "289"
            ]
          },
          "metadata": {},
          "execution_count": 116
        }
      ]
    },
    {
      "cell_type": "code",
      "source": [
        "# Store the true positive values in a variable\n",
        "tp = (predict_positive & actual_positive).sum()\n",
        "tp"
      ],
      "metadata": {
        "colab": {
          "base_uri": "https://localhost:8080/"
        },
        "id": "LgL9fF8diS9u",
        "outputId": "7c87e1e7-5ac8-4fe1-aab5-46838bb053f8"
      },
      "execution_count": 117,
      "outputs": [
        {
          "output_type": "execute_result",
          "data": {
            "text/plain": [
              "289"
            ]
          },
          "metadata": {},
          "execution_count": 117
        }
      ]
    },
    {
      "cell_type": "code",
      "source": [
        "# Store the true negatives values in a variable\n",
        "tn = (predict_negative & actual_negative).sum()\n",
        "tn"
      ],
      "metadata": {
        "colab": {
          "base_uri": "https://localhost:8080/"
        },
        "id": "u0scjpMaiqtq",
        "outputId": "dc05ed64-71cb-4632-c548-dc9e8dd22b8e"
      },
      "execution_count": 118,
      "outputs": [
        {
          "output_type": "execute_result",
          "data": {
            "text/plain": [
              "1202"
            ]
          },
          "metadata": {},
          "execution_count": 118
        }
      ]
    },
    {
      "cell_type": "code",
      "source": [
        "# Store the false positive values in a variable\n",
        "fp = (predict_positive & actual_negative).sum()\n",
        "fp"
      ],
      "metadata": {
        "colab": {
          "base_uri": "https://localhost:8080/"
        },
        "id": "de1FIV-cjVIs",
        "outputId": "b7b6b327-96ff-460e-cc79-227a98cd637c"
      },
      "execution_count": 119,
      "outputs": [
        {
          "output_type": "execute_result",
          "data": {
            "text/plain": [
              "172"
            ]
          },
          "metadata": {},
          "execution_count": 119
        }
      ]
    },
    {
      "cell_type": "code",
      "source": [
        "# Store the false negatives values in a variable\n",
        "fn = (predict_negative & actual_positive).sum()\n",
        "fn"
      ],
      "metadata": {
        "colab": {
          "base_uri": "https://localhost:8080/"
        },
        "id": "ULH5zeD7j_To",
        "outputId": "667091f7-4c51-41bc-c4cd-2b1733cc7fa5"
      },
      "execution_count": 120,
      "outputs": [
        {
          "output_type": "execute_result",
          "data": {
            "text/plain": [
              "197"
            ]
          },
          "metadata": {},
          "execution_count": 120
        }
      ]
    },
    {
      "cell_type": "code",
      "source": [
        "# Create array with the confusion matrix\n",
        "confusion_matrix = np.array([\n",
        "    [tn, fp],\n",
        "    [fn, tp]\n",
        "])"
      ],
      "metadata": {
        "id": "msBRvCNkkbo3"
      },
      "execution_count": 121,
      "outputs": []
    },
    {
      "cell_type": "code",
      "source": [
        "# Print the array with the confusion matrix\n",
        "confusion_matrix\n",
        "\n",
        "# below we can see the have more false negatives then false positives\n",
        "# false positives are the customers get a promotional email\n",
        "# even though they are not going to churn, so we actually lose some money\n",
        "# by giving them the discount so they are not going to churn but we given them discount\n",
        "\n",
        "# the false negative we don't send to the customers the email because they will leave\n",
        "# where are losing profit because we do not mange to retain these customers and they leave\n",
        "\n",
        "# we have different types of errors and the false negatives are more difficult to catch so\n",
        "# we have a lot more false negatives than false positives so have this situation now we know\n",
        "# what kind of errors the model makes"
      ],
      "metadata": {
        "colab": {
          "base_uri": "https://localhost:8080/"
        },
        "id": "3V2OYxWylYsV",
        "outputId": "ca3d57e9-03a6-479d-ba5a-e3a0ac6b2eaf"
      },
      "execution_count": 122,
      "outputs": [
        {
          "output_type": "execute_result",
          "data": {
            "text/plain": [
              "array([[1202,  172],\n",
              "       [ 197,  289]])"
            ]
          },
          "metadata": {},
          "execution_count": 122
        }
      ]
    },
    {
      "cell_type": "code",
      "source": [
        "# to normalize the confusion matrix above instead of having absolute numbers we can have relative \n",
        "# numbers, so we can have percents\n",
        "\n",
        "# Normalize the confusion matrix with percents\n",
        "(confusion_matrix / confusion_matrix.sum()).round(2)\n",
        "\n",
        "# 65% and 16% are correct predictions\n",
        "# 9% and 11% are incorrect predictions\n",
        "\n",
        "# we can conclude with our accuracy = 80% is 65% + 15% (not 16% because of the rouding)\n",
        "# this is how we get our accuracy of 80%"
      ],
      "metadata": {
        "colab": {
          "base_uri": "https://localhost:8080/"
        },
        "id": "li5cnQCxlfOe",
        "outputId": "bf21df85-3dc2-49fe-eeb0-28e14ffe7bb7"
      },
      "execution_count": 123,
      "outputs": [
        {
          "output_type": "execute_result",
          "data": {
            "text/plain": [
              "array([[0.65, 0.09],\n",
              "       [0.11, 0.16]])"
            ]
          },
          "metadata": {},
          "execution_count": 123
        }
      ]
    },
    {
      "cell_type": "code",
      "source": [
        "# Precision and Recall:\n",
        "\n",
        "# Precision and recall are metrics for evaluating binary classification models\n",
        "\n",
        "# We can express accurcy as sum of true positive TP plus true negative TN\n",
        "# and we divide that by the total number of all the observations which is:\n",
        "# TP + TN + FP + FN\n",
        "\n",
        "# Express accuracy of our model\n",
        "(tp + tn) / (tp + tn + fp + fn)"
      ],
      "metadata": {
        "id": "F7WfLtBRoLKR",
        "colab": {
          "base_uri": "https://localhost:8080/"
        },
        "outputId": "177c34e7-8aad-4f9c-9002-95980941e214"
      },
      "execution_count": 124,
      "outputs": [
        {
          "output_type": "execute_result",
          "data": {
            "text/plain": [
              "0.8016129032258065"
            ]
          },
          "metadata": {},
          "execution_count": 124
        }
      ]
    },
    {
      "cell_type": "code",
      "source": [
        "# Precision:\n",
        "\n",
        "# Precision tell us how many positive predictions turned out to be correct\n",
        "# or more like not how many but fraction of correct positive predictions \n",
        "# so it means that we predict some customers as churning and then out of those\n",
        "# how many are identified correctly\n",
        "\n",
        "# Precision tell us among those customers that we predicted as churning what is\n",
        "# the fraction of correct predictions \n",
        "\n",
        "# Calculate the precision of our model\n",
        "p = tp / (tp + fp)\n",
        "p"
      ],
      "metadata": {
        "colab": {
          "base_uri": "https://localhost:8080/"
        },
        "id": "uYvuDn3qrySY",
        "outputId": "41349bcd-046c-4eea-8810-965ba8bab002"
      },
      "execution_count": 125,
      "outputs": [
        {
          "output_type": "execute_result",
          "data": {
            "text/plain": [
              "0.6268980477223427"
            ]
          },
          "metadata": {},
          "execution_count": 125
        }
      ]
    },
    {
      "cell_type": "code",
      "source": [
        "# the value above the 62% means we going to send a promotional email to 461 customers\n",
        "\n",
        "# Print total of customers are true positive and false positive\n",
        "tp + fp"
      ],
      "metadata": {
        "colab": {
          "base_uri": "https://localhost:8080/"
        },
        "id": "3OyU70kjyRkJ",
        "outputId": "8d6cc84e-f5bf-4e9b-f460-744b55451e12"
      },
      "execution_count": 126,
      "outputs": [
        {
          "output_type": "execute_result",
          "data": {
            "text/plain": [
              "461"
            ]
          },
          "metadata": {},
          "execution_count": 126
        }
      ]
    },
    {
      "cell_type": "code",
      "source": [
        "# Print total of customers are going to churn\n",
        "tp"
      ],
      "metadata": {
        "colab": {
          "base_uri": "https://localhost:8080/"
        },
        "id": "QpGg83W6zHu5",
        "outputId": "ee0ccb3b-af06-42e8-f053-06c3ec03658b"
      },
      "execution_count": 127,
      "outputs": [
        {
          "output_type": "execute_result",
          "data": {
            "text/plain": [
              "289"
            ]
          },
          "metadata": {},
          "execution_count": 127
        }
      ]
    },
    {
      "cell_type": "code",
      "source": [
        "# If precision is 62% it means that approximately 38% are mistakes\n",
        "# so people who are not supposed to get this promotional email but \n",
        "# they get it anyway this is what precision can tell us\n",
        "\n",
        "# Now lets see Recall Precision:\n",
        "# Recall we look at fraction of churning customers that we identified correctly\n",
        "# or positive examples\n",
        "\n",
        "# Calculate the Recall Precision of our model\n",
        "r = tp / (tp + fn)\n",
        "r"
      ],
      "metadata": {
        "colab": {
          "base_uri": "https://localhost:8080/"
        },
        "id": "hN4Z7WR75-F6",
        "outputId": "c49648c8-b161-49ff-cb10-abc898a51ac2"
      },
      "execution_count": 128,
      "outputs": [
        {
          "output_type": "execute_result",
          "data": {
            "text/plain": [
              "0.5946502057613169"
            ]
          },
          "metadata": {},
          "execution_count": 128
        }
      ]
    },
    {
      "cell_type": "code",
      "source": [
        "# Print total of customers are true positive and false negative\n",
        "tp + fn"
      ],
      "metadata": {
        "colab": {
          "base_uri": "https://localhost:8080/"
        },
        "id": "b4aKQlVK8NV8",
        "outputId": "2568d341-c65f-4657-ac8e-27ac6989290b"
      },
      "execution_count": 129,
      "outputs": [
        {
          "output_type": "execute_result",
          "data": {
            "text/plain": [
              "486"
            ]
          },
          "metadata": {},
          "execution_count": 129
        }
      ]
    },
    {
      "cell_type": "code",
      "source": [
        "# The recall precision is 59% and 41% means customers that are churning we\n",
        "# fail to identfy them\n",
        "\n",
        "# Conclusion:\n",
        "# Accuracy  = 80% \n",
        "# Precision = 62%  \n",
        "# Recall    = 59% \n",
        "\n",
        "# Accuracy of 80% is pretty high number it feels our model must be very accurate\n",
        "# but when we look at Precision and Recall we see that our model is not thaat good\n",
        "# so for the purpose we want to use so we want to identify churning users so for\n",
        "# this purpose accuracy is not the best metric because when we look at this we think\n",
        "# okay model is doing pretty well but when look at precision and recall we see we\n",
        "# failed to identify this customers and we actually sent a promotional email\n",
        "\n",
        "# Accuracy can be misleading and that's why it's useful to look at metrics like precision and recall"
      ],
      "metadata": {
        "id": "imUjg_j-8fYf"
      },
      "execution_count": 130,
      "outputs": []
    },
    {
      "cell_type": "code",
      "source": [
        "# ROC Curves:\n",
        "\n",
        "# ROC stands for receiver operating characteristics\n",
        "# is a way of describing the performance of a binary classification model\n",
        "# with ROCs we are interrested in two things or in two numbers:\n",
        "# first number is FPR false positive rate\n",
        "# second number is TPR true positive rate\n",
        "# both these metrics are computed from the values of the confusion matrix\n",
        "\n",
        "# Calculate the TPR true positive rate\n",
        "tpr = tp / (tp + fn)\n",
        "tpr"
      ],
      "metadata": {
        "colab": {
          "base_uri": "https://localhost:8080/"
        },
        "id": "wMO-GGfcAWUQ",
        "outputId": "07d106fb-0f22-4969-bbb1-9df1a2bed5fd"
      },
      "execution_count": 131,
      "outputs": [
        {
          "output_type": "execute_result",
          "data": {
            "text/plain": [
              "0.5946502057613169"
            ]
          },
          "metadata": {},
          "execution_count": 131
        }
      ]
    },
    {
      "cell_type": "code",
      "source": [
        "# Print the recall we can see its same as TPR\n",
        "r"
      ],
      "metadata": {
        "colab": {
          "base_uri": "https://localhost:8080/"
        },
        "id": "dxRCWA4eH_PP",
        "outputId": "e26cfd33-e301-4bd7-876c-1d1eb62fabdc"
      },
      "execution_count": 132,
      "outputs": [
        {
          "output_type": "execute_result",
          "data": {
            "text/plain": [
              "0.5946502057613169"
            ]
          },
          "metadata": {},
          "execution_count": 132
        }
      ]
    },
    {
      "cell_type": "code",
      "source": [
        "# Calculate the FPR false positive rate\n",
        "fpr = fp / (fp + tn)\n",
        "fpr\n",
        "\n",
        "# the value below the 12% means that for all negative examples\n",
        "# 12% are still predicted incorrectly"
      ],
      "metadata": {
        "colab": {
          "base_uri": "https://localhost:8080/"
        },
        "id": "xDPzKW1QHs39",
        "outputId": "3b09b67f-4fb6-400d-c690-e5e20c925003"
      },
      "execution_count": 133,
      "outputs": [
        {
          "output_type": "execute_result",
          "data": {
            "text/plain": [
              "0.12518195050946143"
            ]
          },
          "metadata": {},
          "execution_count": 133
        }
      ]
    },
    {
      "cell_type": "code",
      "source": [
        "# ROC is good because it looks at all the possible thresholds\n",
        "\n",
        "# Create a list called scores\n",
        "scores = []\n",
        "\n",
        "# Compute the ROC for all possible thresholds using the function linspace\n",
        "thresholds = np.linspace(0,1, 101)\n",
        "\n",
        "# Create for loop using the thresholds list\n",
        "for t in thresholds:\n",
        "\n",
        "  # Create an array for customers are really churn and this is for case validations are 1\n",
        "  actual_positive = (y_val == 1)\n",
        "\n",
        "  # Create an array for customers are not going to churn and this is for case validations are 0\n",
        "  actual_negative = (y_val == 0)\n",
        "\n",
        "  # Store the positive predictions\n",
        "  predict_positive = (y_pred >= t)\n",
        "\n",
        "  # Store the negative predictions\n",
        "  predict_negative = (y_pred < t)\n",
        "\n",
        "  # Store the true positive values in a variable\n",
        "  tp = (predict_positive & actual_positive).sum()\n",
        "\n",
        "  # Store the true negatives values in a variable\n",
        "  tn = (predict_negative & actual_negative).sum()\n",
        "\n",
        "  # Store the false positive values in a variable\n",
        "  fp = (predict_positive & actual_negative).sum()\n",
        "\n",
        "  # Store the false negatives values in a variable\n",
        "  fn = (predict_negative & actual_positive).sum()\n",
        "\n",
        "  # Append a list called scores\n",
        "  scores.append((t, tp, fp, fn, tn))"
      ],
      "metadata": {
        "id": "rSlC3I14I-Cg"
      },
      "execution_count": 134,
      "outputs": []
    },
    {
      "cell_type": "code",
      "source": [
        "# Print the scores list with results from the ROC\n",
        "scores"
      ],
      "metadata": {
        "colab": {
          "base_uri": "https://localhost:8080/"
        },
        "id": "QPdttK1cMnqR",
        "outputId": "c11921a3-b889-47ed-ef51-cadb20c13aff"
      },
      "execution_count": 135,
      "outputs": [
        {
          "output_type": "execute_result",
          "data": {
            "text/plain": [
              "[(0.0, 486, 1374, 0, 0),\n",
              " (0.01, 483, 1190, 3, 184),\n",
              " (0.02, 481, 1074, 5, 300),\n",
              " (0.03, 478, 1011, 8, 363),\n",
              " (0.04, 478, 970, 8, 404),\n",
              " (0.05, 475, 917, 11, 457),\n",
              " (0.06, 474, 879, 12, 495),\n",
              " (0.07, 469, 837, 17, 537),\n",
              " (0.08, 469, 799, 17, 575),\n",
              " (0.09, 462, 764, 24, 610),\n",
              " (0.1, 458, 726, 28, 648),\n",
              " (0.11, 454, 709, 32, 665),\n",
              " (0.12, 452, 673, 34, 701),\n",
              " (0.13, 449, 654, 37, 720),\n",
              " (0.14, 446, 641, 40, 733),\n",
              " (0.15, 445, 628, 41, 746),\n",
              " (0.16, 443, 595, 43, 779),\n",
              " (0.17, 439, 580, 47, 794),\n",
              " (0.18, 432, 554, 54, 820),\n",
              " (0.19, 427, 535, 59, 839),\n",
              " (0.2, 421, 512, 65, 862),\n",
              " (0.21, 414, 488, 72, 886),\n",
              " (0.22, 413, 470, 73, 904),\n",
              " (0.23, 413, 452, 73, 922),\n",
              " (0.24, 411, 442, 75, 932),\n",
              " (0.25, 409, 426, 77, 948),\n",
              " (0.26, 401, 412, 85, 962),\n",
              " (0.27, 393, 397, 93, 977),\n",
              " (0.28, 386, 382, 100, 992),\n",
              " (0.29, 383, 369, 103, 1005),\n",
              " (0.3, 380, 350, 106, 1024),\n",
              " (0.31, 375, 341, 111, 1033),\n",
              " (0.32, 368, 330, 118, 1044),\n",
              " (0.33, 366, 323, 120, 1051),\n",
              " (0.34, 359, 314, 127, 1060),\n",
              " (0.35000000000000003, 358, 305, 128, 1069),\n",
              " (0.36, 353, 293, 133, 1081),\n",
              " (0.37, 349, 286, 137, 1088),\n",
              " (0.38, 346, 279, 140, 1095),\n",
              " (0.39, 340, 268, 146, 1106),\n",
              " (0.4, 337, 257, 149, 1117),\n",
              " (0.41000000000000003, 335, 250, 151, 1124),\n",
              " (0.42, 331, 242, 155, 1132),\n",
              " (0.43, 326, 235, 160, 1139),\n",
              " (0.44, 321, 224, 165, 1150),\n",
              " (0.45, 318, 213, 168, 1161),\n",
              " (0.46, 309, 199, 177, 1175),\n",
              " (0.47000000000000003, 301, 193, 185, 1181),\n",
              " (0.48, 298, 189, 188, 1185),\n",
              " (0.49, 293, 181, 193, 1193),\n",
              " (0.5, 289, 172, 197, 1202),\n",
              " (0.51, 277, 164, 209, 1210),\n",
              " (0.52, 272, 154, 214, 1220),\n",
              " (0.53, 263, 151, 223, 1223),\n",
              " (0.54, 252, 144, 234, 1230),\n",
              " (0.55, 239, 143, 247, 1231),\n",
              " (0.56, 229, 132, 257, 1242),\n",
              " (0.5700000000000001, 221, 125, 265, 1249),\n",
              " (0.58, 215, 120, 271, 1254),\n",
              " (0.59, 206, 114, 280, 1260),\n",
              " (0.6, 200, 105, 286, 1269),\n",
              " (0.61, 183, 94, 303, 1280),\n",
              " (0.62, 175, 83, 311, 1291),\n",
              " (0.63, 168, 75, 318, 1299),\n",
              " (0.64, 159, 70, 327, 1304),\n",
              " (0.65, 153, 61, 333, 1313),\n",
              " (0.66, 147, 58, 339, 1316),\n",
              " (0.67, 132, 52, 354, 1322),\n",
              " (0.68, 124, 45, 362, 1329),\n",
              " (0.6900000000000001, 108, 40, 378, 1334),\n",
              " (0.7000000000000001, 99, 34, 387, 1340),\n",
              " (0.71, 81, 32, 405, 1342),\n",
              " (0.72, 68, 31, 418, 1343),\n",
              " (0.73, 60, 22, 426, 1352),\n",
              " (0.74, 49, 21, 437, 1353),\n",
              " (0.75, 44, 19, 442, 1355),\n",
              " (0.76, 34, 15, 452, 1359),\n",
              " (0.77, 30, 15, 456, 1359),\n",
              " (0.78, 21, 10, 465, 1364),\n",
              " (0.79, 13, 5, 473, 1369),\n",
              " (0.8, 7, 1, 479, 1373),\n",
              " (0.81, 5, 1, 481, 1373),\n",
              " (0.8200000000000001, 2, 1, 484, 1373),\n",
              " (0.8300000000000001, 1, 0, 485, 1374),\n",
              " (0.84, 0, 0, 486, 1374),\n",
              " (0.85, 0, 0, 486, 1374),\n",
              " (0.86, 0, 0, 486, 1374),\n",
              " (0.87, 0, 0, 486, 1374),\n",
              " (0.88, 0, 0, 486, 1374),\n",
              " (0.89, 0, 0, 486, 1374),\n",
              " (0.9, 0, 0, 486, 1374),\n",
              " (0.91, 0, 0, 486, 1374),\n",
              " (0.92, 0, 0, 486, 1374),\n",
              " (0.93, 0, 0, 486, 1374),\n",
              " (0.9400000000000001, 0, 0, 486, 1374),\n",
              " (0.9500000000000001, 0, 0, 486, 1374),\n",
              " (0.96, 0, 0, 486, 1374),\n",
              " (0.97, 0, 0, 486, 1374),\n",
              " (0.98, 0, 0, 486, 1374),\n",
              " (0.99, 0, 0, 486, 1374),\n",
              " (1.0, 0, 0, 486, 1374)]"
            ]
          },
          "metadata": {},
          "execution_count": 135
        }
      ]
    },
    {
      "cell_type": "code",
      "source": [
        "# Turn the scores list with results from the ROC into a dataframe\n",
        "pd.DataFrame(scores)"
      ],
      "metadata": {
        "colab": {
          "base_uri": "https://localhost:8080/",
          "height": 424
        },
        "id": "dBFbtf8VMsCO",
        "outputId": "105cc02f-e83d-4d30-9e99-662a48841e8b"
      },
      "execution_count": 136,
      "outputs": [
        {
          "output_type": "execute_result",
          "data": {
            "text/plain": [
              "        0    1     2    3     4\n",
              "0    0.00  486  1374    0     0\n",
              "1    0.01  483  1190    3   184\n",
              "2    0.02  481  1074    5   300\n",
              "3    0.03  478  1011    8   363\n",
              "4    0.04  478   970    8   404\n",
              "..    ...  ...   ...  ...   ...\n",
              "96   0.96    0     0  486  1374\n",
              "97   0.97    0     0  486  1374\n",
              "98   0.98    0     0  486  1374\n",
              "99   0.99    0     0  486  1374\n",
              "100  1.00    0     0  486  1374\n",
              "\n",
              "[101 rows x 5 columns]"
            ],
            "text/html": [
              "\n",
              "  <div id=\"df-dcad044e-393f-4bd6-a68a-69170a46e470\">\n",
              "    <div class=\"colab-df-container\">\n",
              "      <div>\n",
              "<style scoped>\n",
              "    .dataframe tbody tr th:only-of-type {\n",
              "        vertical-align: middle;\n",
              "    }\n",
              "\n",
              "    .dataframe tbody tr th {\n",
              "        vertical-align: top;\n",
              "    }\n",
              "\n",
              "    .dataframe thead th {\n",
              "        text-align: right;\n",
              "    }\n",
              "</style>\n",
              "<table border=\"1\" class=\"dataframe\">\n",
              "  <thead>\n",
              "    <tr style=\"text-align: right;\">\n",
              "      <th></th>\n",
              "      <th>0</th>\n",
              "      <th>1</th>\n",
              "      <th>2</th>\n",
              "      <th>3</th>\n",
              "      <th>4</th>\n",
              "    </tr>\n",
              "  </thead>\n",
              "  <tbody>\n",
              "    <tr>\n",
              "      <th>0</th>\n",
              "      <td>0.00</td>\n",
              "      <td>486</td>\n",
              "      <td>1374</td>\n",
              "      <td>0</td>\n",
              "      <td>0</td>\n",
              "    </tr>\n",
              "    <tr>\n",
              "      <th>1</th>\n",
              "      <td>0.01</td>\n",
              "      <td>483</td>\n",
              "      <td>1190</td>\n",
              "      <td>3</td>\n",
              "      <td>184</td>\n",
              "    </tr>\n",
              "    <tr>\n",
              "      <th>2</th>\n",
              "      <td>0.02</td>\n",
              "      <td>481</td>\n",
              "      <td>1074</td>\n",
              "      <td>5</td>\n",
              "      <td>300</td>\n",
              "    </tr>\n",
              "    <tr>\n",
              "      <th>3</th>\n",
              "      <td>0.03</td>\n",
              "      <td>478</td>\n",
              "      <td>1011</td>\n",
              "      <td>8</td>\n",
              "      <td>363</td>\n",
              "    </tr>\n",
              "    <tr>\n",
              "      <th>4</th>\n",
              "      <td>0.04</td>\n",
              "      <td>478</td>\n",
              "      <td>970</td>\n",
              "      <td>8</td>\n",
              "      <td>404</td>\n",
              "    </tr>\n",
              "    <tr>\n",
              "      <th>...</th>\n",
              "      <td>...</td>\n",
              "      <td>...</td>\n",
              "      <td>...</td>\n",
              "      <td>...</td>\n",
              "      <td>...</td>\n",
              "    </tr>\n",
              "    <tr>\n",
              "      <th>96</th>\n",
              "      <td>0.96</td>\n",
              "      <td>0</td>\n",
              "      <td>0</td>\n",
              "      <td>486</td>\n",
              "      <td>1374</td>\n",
              "    </tr>\n",
              "    <tr>\n",
              "      <th>97</th>\n",
              "      <td>0.97</td>\n",
              "      <td>0</td>\n",
              "      <td>0</td>\n",
              "      <td>486</td>\n",
              "      <td>1374</td>\n",
              "    </tr>\n",
              "    <tr>\n",
              "      <th>98</th>\n",
              "      <td>0.98</td>\n",
              "      <td>0</td>\n",
              "      <td>0</td>\n",
              "      <td>486</td>\n",
              "      <td>1374</td>\n",
              "    </tr>\n",
              "    <tr>\n",
              "      <th>99</th>\n",
              "      <td>0.99</td>\n",
              "      <td>0</td>\n",
              "      <td>0</td>\n",
              "      <td>486</td>\n",
              "      <td>1374</td>\n",
              "    </tr>\n",
              "    <tr>\n",
              "      <th>100</th>\n",
              "      <td>1.00</td>\n",
              "      <td>0</td>\n",
              "      <td>0</td>\n",
              "      <td>486</td>\n",
              "      <td>1374</td>\n",
              "    </tr>\n",
              "  </tbody>\n",
              "</table>\n",
              "<p>101 rows × 5 columns</p>\n",
              "</div>\n",
              "      <button class=\"colab-df-convert\" onclick=\"convertToInteractive('df-dcad044e-393f-4bd6-a68a-69170a46e470')\"\n",
              "              title=\"Convert this dataframe to an interactive table.\"\n",
              "              style=\"display:none;\">\n",
              "        \n",
              "  <svg xmlns=\"http://www.w3.org/2000/svg\" height=\"24px\"viewBox=\"0 0 24 24\"\n",
              "       width=\"24px\">\n",
              "    <path d=\"M0 0h24v24H0V0z\" fill=\"none\"/>\n",
              "    <path d=\"M18.56 5.44l.94 2.06.94-2.06 2.06-.94-2.06-.94-.94-2.06-.94 2.06-2.06.94zm-11 1L8.5 8.5l.94-2.06 2.06-.94-2.06-.94L8.5 2.5l-.94 2.06-2.06.94zm10 10l.94 2.06.94-2.06 2.06-.94-2.06-.94-.94-2.06-.94 2.06-2.06.94z\"/><path d=\"M17.41 7.96l-1.37-1.37c-.4-.4-.92-.59-1.43-.59-.52 0-1.04.2-1.43.59L10.3 9.45l-7.72 7.72c-.78.78-.78 2.05 0 2.83L4 21.41c.39.39.9.59 1.41.59.51 0 1.02-.2 1.41-.59l7.78-7.78 2.81-2.81c.8-.78.8-2.07 0-2.86zM5.41 20L4 18.59l7.72-7.72 1.47 1.35L5.41 20z\"/>\n",
              "  </svg>\n",
              "      </button>\n",
              "      \n",
              "  <style>\n",
              "    .colab-df-container {\n",
              "      display:flex;\n",
              "      flex-wrap:wrap;\n",
              "      gap: 12px;\n",
              "    }\n",
              "\n",
              "    .colab-df-convert {\n",
              "      background-color: #E8F0FE;\n",
              "      border: none;\n",
              "      border-radius: 50%;\n",
              "      cursor: pointer;\n",
              "      display: none;\n",
              "      fill: #1967D2;\n",
              "      height: 32px;\n",
              "      padding: 0 0 0 0;\n",
              "      width: 32px;\n",
              "    }\n",
              "\n",
              "    .colab-df-convert:hover {\n",
              "      background-color: #E2EBFA;\n",
              "      box-shadow: 0px 1px 2px rgba(60, 64, 67, 0.3), 0px 1px 3px 1px rgba(60, 64, 67, 0.15);\n",
              "      fill: #174EA6;\n",
              "    }\n",
              "\n",
              "    [theme=dark] .colab-df-convert {\n",
              "      background-color: #3B4455;\n",
              "      fill: #D2E3FC;\n",
              "    }\n",
              "\n",
              "    [theme=dark] .colab-df-convert:hover {\n",
              "      background-color: #434B5C;\n",
              "      box-shadow: 0px 1px 3px 1px rgba(0, 0, 0, 0.15);\n",
              "      filter: drop-shadow(0px 1px 2px rgba(0, 0, 0, 0.3));\n",
              "      fill: #FFFFFF;\n",
              "    }\n",
              "  </style>\n",
              "\n",
              "      <script>\n",
              "        const buttonEl =\n",
              "          document.querySelector('#df-dcad044e-393f-4bd6-a68a-69170a46e470 button.colab-df-convert');\n",
              "        buttonEl.style.display =\n",
              "          google.colab.kernel.accessAllowed ? 'block' : 'none';\n",
              "\n",
              "        async function convertToInteractive(key) {\n",
              "          const element = document.querySelector('#df-dcad044e-393f-4bd6-a68a-69170a46e470');\n",
              "          const dataTable =\n",
              "            await google.colab.kernel.invokeFunction('convertToInteractive',\n",
              "                                                     [key], {});\n",
              "          if (!dataTable) return;\n",
              "\n",
              "          const docLinkHtml = 'Like what you see? Visit the ' +\n",
              "            '<a target=\"_blank\" href=https://colab.research.google.com/notebooks/data_table.ipynb>data table notebook</a>'\n",
              "            + ' to learn more about interactive tables.';\n",
              "          element.innerHTML = '';\n",
              "          dataTable['output_type'] = 'display_data';\n",
              "          await google.colab.output.renderOutput(dataTable, element);\n",
              "          const docLink = document.createElement('div');\n",
              "          docLink.innerHTML = docLinkHtml;\n",
              "          element.appendChild(docLink);\n",
              "        }\n",
              "      </script>\n",
              "    </div>\n",
              "  </div>\n",
              "  "
            ]
          },
          "metadata": {},
          "execution_count": 136
        }
      ]
    },
    {
      "cell_type": "code",
      "source": [
        "# Specify the columns names of the dataframe scores\n",
        "columns = ['threshold','tp','fp','fn','tn']\n",
        "df_scores = pd.DataFrame(scores, columns=columns)\n",
        "df_scores"
      ],
      "metadata": {
        "colab": {
          "base_uri": "https://localhost:8080/",
          "height": 424
        },
        "id": "sJ02XvyQNqc7",
        "outputId": "f0da73a2-4c31-427a-9593-6ca160ab4341"
      },
      "execution_count": 137,
      "outputs": [
        {
          "output_type": "execute_result",
          "data": {
            "text/plain": [
              "     threshold   tp    fp   fn    tn\n",
              "0         0.00  486  1374    0     0\n",
              "1         0.01  483  1190    3   184\n",
              "2         0.02  481  1074    5   300\n",
              "3         0.03  478  1011    8   363\n",
              "4         0.04  478   970    8   404\n",
              "..         ...  ...   ...  ...   ...\n",
              "96        0.96    0     0  486  1374\n",
              "97        0.97    0     0  486  1374\n",
              "98        0.98    0     0  486  1374\n",
              "99        0.99    0     0  486  1374\n",
              "100       1.00    0     0  486  1374\n",
              "\n",
              "[101 rows x 5 columns]"
            ],
            "text/html": [
              "\n",
              "  <div id=\"df-1338277a-5d54-482b-983b-b69edcd0bd20\">\n",
              "    <div class=\"colab-df-container\">\n",
              "      <div>\n",
              "<style scoped>\n",
              "    .dataframe tbody tr th:only-of-type {\n",
              "        vertical-align: middle;\n",
              "    }\n",
              "\n",
              "    .dataframe tbody tr th {\n",
              "        vertical-align: top;\n",
              "    }\n",
              "\n",
              "    .dataframe thead th {\n",
              "        text-align: right;\n",
              "    }\n",
              "</style>\n",
              "<table border=\"1\" class=\"dataframe\">\n",
              "  <thead>\n",
              "    <tr style=\"text-align: right;\">\n",
              "      <th></th>\n",
              "      <th>threshold</th>\n",
              "      <th>tp</th>\n",
              "      <th>fp</th>\n",
              "      <th>fn</th>\n",
              "      <th>tn</th>\n",
              "    </tr>\n",
              "  </thead>\n",
              "  <tbody>\n",
              "    <tr>\n",
              "      <th>0</th>\n",
              "      <td>0.00</td>\n",
              "      <td>486</td>\n",
              "      <td>1374</td>\n",
              "      <td>0</td>\n",
              "      <td>0</td>\n",
              "    </tr>\n",
              "    <tr>\n",
              "      <th>1</th>\n",
              "      <td>0.01</td>\n",
              "      <td>483</td>\n",
              "      <td>1190</td>\n",
              "      <td>3</td>\n",
              "      <td>184</td>\n",
              "    </tr>\n",
              "    <tr>\n",
              "      <th>2</th>\n",
              "      <td>0.02</td>\n",
              "      <td>481</td>\n",
              "      <td>1074</td>\n",
              "      <td>5</td>\n",
              "      <td>300</td>\n",
              "    </tr>\n",
              "    <tr>\n",
              "      <th>3</th>\n",
              "      <td>0.03</td>\n",
              "      <td>478</td>\n",
              "      <td>1011</td>\n",
              "      <td>8</td>\n",
              "      <td>363</td>\n",
              "    </tr>\n",
              "    <tr>\n",
              "      <th>4</th>\n",
              "      <td>0.04</td>\n",
              "      <td>478</td>\n",
              "      <td>970</td>\n",
              "      <td>8</td>\n",
              "      <td>404</td>\n",
              "    </tr>\n",
              "    <tr>\n",
              "      <th>...</th>\n",
              "      <td>...</td>\n",
              "      <td>...</td>\n",
              "      <td>...</td>\n",
              "      <td>...</td>\n",
              "      <td>...</td>\n",
              "    </tr>\n",
              "    <tr>\n",
              "      <th>96</th>\n",
              "      <td>0.96</td>\n",
              "      <td>0</td>\n",
              "      <td>0</td>\n",
              "      <td>486</td>\n",
              "      <td>1374</td>\n",
              "    </tr>\n",
              "    <tr>\n",
              "      <th>97</th>\n",
              "      <td>0.97</td>\n",
              "      <td>0</td>\n",
              "      <td>0</td>\n",
              "      <td>486</td>\n",
              "      <td>1374</td>\n",
              "    </tr>\n",
              "    <tr>\n",
              "      <th>98</th>\n",
              "      <td>0.98</td>\n",
              "      <td>0</td>\n",
              "      <td>0</td>\n",
              "      <td>486</td>\n",
              "      <td>1374</td>\n",
              "    </tr>\n",
              "    <tr>\n",
              "      <th>99</th>\n",
              "      <td>0.99</td>\n",
              "      <td>0</td>\n",
              "      <td>0</td>\n",
              "      <td>486</td>\n",
              "      <td>1374</td>\n",
              "    </tr>\n",
              "    <tr>\n",
              "      <th>100</th>\n",
              "      <td>1.00</td>\n",
              "      <td>0</td>\n",
              "      <td>0</td>\n",
              "      <td>486</td>\n",
              "      <td>1374</td>\n",
              "    </tr>\n",
              "  </tbody>\n",
              "</table>\n",
              "<p>101 rows × 5 columns</p>\n",
              "</div>\n",
              "      <button class=\"colab-df-convert\" onclick=\"convertToInteractive('df-1338277a-5d54-482b-983b-b69edcd0bd20')\"\n",
              "              title=\"Convert this dataframe to an interactive table.\"\n",
              "              style=\"display:none;\">\n",
              "        \n",
              "  <svg xmlns=\"http://www.w3.org/2000/svg\" height=\"24px\"viewBox=\"0 0 24 24\"\n",
              "       width=\"24px\">\n",
              "    <path d=\"M0 0h24v24H0V0z\" fill=\"none\"/>\n",
              "    <path d=\"M18.56 5.44l.94 2.06.94-2.06 2.06-.94-2.06-.94-.94-2.06-.94 2.06-2.06.94zm-11 1L8.5 8.5l.94-2.06 2.06-.94-2.06-.94L8.5 2.5l-.94 2.06-2.06.94zm10 10l.94 2.06.94-2.06 2.06-.94-2.06-.94-.94-2.06-.94 2.06-2.06.94z\"/><path d=\"M17.41 7.96l-1.37-1.37c-.4-.4-.92-.59-1.43-.59-.52 0-1.04.2-1.43.59L10.3 9.45l-7.72 7.72c-.78.78-.78 2.05 0 2.83L4 21.41c.39.39.9.59 1.41.59.51 0 1.02-.2 1.41-.59l7.78-7.78 2.81-2.81c.8-.78.8-2.07 0-2.86zM5.41 20L4 18.59l7.72-7.72 1.47 1.35L5.41 20z\"/>\n",
              "  </svg>\n",
              "      </button>\n",
              "      \n",
              "  <style>\n",
              "    .colab-df-container {\n",
              "      display:flex;\n",
              "      flex-wrap:wrap;\n",
              "      gap: 12px;\n",
              "    }\n",
              "\n",
              "    .colab-df-convert {\n",
              "      background-color: #E8F0FE;\n",
              "      border: none;\n",
              "      border-radius: 50%;\n",
              "      cursor: pointer;\n",
              "      display: none;\n",
              "      fill: #1967D2;\n",
              "      height: 32px;\n",
              "      padding: 0 0 0 0;\n",
              "      width: 32px;\n",
              "    }\n",
              "\n",
              "    .colab-df-convert:hover {\n",
              "      background-color: #E2EBFA;\n",
              "      box-shadow: 0px 1px 2px rgba(60, 64, 67, 0.3), 0px 1px 3px 1px rgba(60, 64, 67, 0.15);\n",
              "      fill: #174EA6;\n",
              "    }\n",
              "\n",
              "    [theme=dark] .colab-df-convert {\n",
              "      background-color: #3B4455;\n",
              "      fill: #D2E3FC;\n",
              "    }\n",
              "\n",
              "    [theme=dark] .colab-df-convert:hover {\n",
              "      background-color: #434B5C;\n",
              "      box-shadow: 0px 1px 3px 1px rgba(0, 0, 0, 0.15);\n",
              "      filter: drop-shadow(0px 1px 2px rgba(0, 0, 0, 0.3));\n",
              "      fill: #FFFFFF;\n",
              "    }\n",
              "  </style>\n",
              "\n",
              "      <script>\n",
              "        const buttonEl =\n",
              "          document.querySelector('#df-1338277a-5d54-482b-983b-b69edcd0bd20 button.colab-df-convert');\n",
              "        buttonEl.style.display =\n",
              "          google.colab.kernel.accessAllowed ? 'block' : 'none';\n",
              "\n",
              "        async function convertToInteractive(key) {\n",
              "          const element = document.querySelector('#df-1338277a-5d54-482b-983b-b69edcd0bd20');\n",
              "          const dataTable =\n",
              "            await google.colab.kernel.invokeFunction('convertToInteractive',\n",
              "                                                     [key], {});\n",
              "          if (!dataTable) return;\n",
              "\n",
              "          const docLinkHtml = 'Like what you see? Visit the ' +\n",
              "            '<a target=\"_blank\" href=https://colab.research.google.com/notebooks/data_table.ipynb>data table notebook</a>'\n",
              "            + ' to learn more about interactive tables.';\n",
              "          element.innerHTML = '';\n",
              "          dataTable['output_type'] = 'display_data';\n",
              "          await google.colab.output.renderOutput(dataTable, element);\n",
              "          const docLink = document.createElement('div');\n",
              "          docLink.innerHTML = docLinkHtml;\n",
              "          element.appendChild(docLink);\n",
              "        }\n",
              "      </script>\n",
              "    </div>\n",
              "  </div>\n",
              "  "
            ]
          },
          "metadata": {},
          "execution_count": 137
        }
      ]
    },
    {
      "cell_type": "code",
      "source": [
        "# Print the each tenth record of the scores dataframe\n",
        "df_scores[::10]"
      ],
      "metadata": {
        "colab": {
          "base_uri": "https://localhost:8080/",
          "height": 394
        },
        "id": "hvBEMX-jOF9J",
        "outputId": "0950155d-b7d2-4c57-bcaf-ab81ac58623d"
      },
      "execution_count": 138,
      "outputs": [
        {
          "output_type": "execute_result",
          "data": {
            "text/plain": [
              "     threshold   tp    fp   fn    tn\n",
              "0          0.0  486  1374    0     0\n",
              "10         0.1  458   726   28   648\n",
              "20         0.2  421   512   65   862\n",
              "30         0.3  380   350  106  1024\n",
              "40         0.4  337   257  149  1117\n",
              "50         0.5  289   172  197  1202\n",
              "60         0.6  200   105  286  1269\n",
              "70         0.7   99    34  387  1340\n",
              "80         0.8    7     1  479  1373\n",
              "90         0.9    0     0  486  1374\n",
              "100        1.0    0     0  486  1374"
            ],
            "text/html": [
              "\n",
              "  <div id=\"df-fa2bea53-5fda-4ceb-b80e-774bc2cc9b3d\">\n",
              "    <div class=\"colab-df-container\">\n",
              "      <div>\n",
              "<style scoped>\n",
              "    .dataframe tbody tr th:only-of-type {\n",
              "        vertical-align: middle;\n",
              "    }\n",
              "\n",
              "    .dataframe tbody tr th {\n",
              "        vertical-align: top;\n",
              "    }\n",
              "\n",
              "    .dataframe thead th {\n",
              "        text-align: right;\n",
              "    }\n",
              "</style>\n",
              "<table border=\"1\" class=\"dataframe\">\n",
              "  <thead>\n",
              "    <tr style=\"text-align: right;\">\n",
              "      <th></th>\n",
              "      <th>threshold</th>\n",
              "      <th>tp</th>\n",
              "      <th>fp</th>\n",
              "      <th>fn</th>\n",
              "      <th>tn</th>\n",
              "    </tr>\n",
              "  </thead>\n",
              "  <tbody>\n",
              "    <tr>\n",
              "      <th>0</th>\n",
              "      <td>0.0</td>\n",
              "      <td>486</td>\n",
              "      <td>1374</td>\n",
              "      <td>0</td>\n",
              "      <td>0</td>\n",
              "    </tr>\n",
              "    <tr>\n",
              "      <th>10</th>\n",
              "      <td>0.1</td>\n",
              "      <td>458</td>\n",
              "      <td>726</td>\n",
              "      <td>28</td>\n",
              "      <td>648</td>\n",
              "    </tr>\n",
              "    <tr>\n",
              "      <th>20</th>\n",
              "      <td>0.2</td>\n",
              "      <td>421</td>\n",
              "      <td>512</td>\n",
              "      <td>65</td>\n",
              "      <td>862</td>\n",
              "    </tr>\n",
              "    <tr>\n",
              "      <th>30</th>\n",
              "      <td>0.3</td>\n",
              "      <td>380</td>\n",
              "      <td>350</td>\n",
              "      <td>106</td>\n",
              "      <td>1024</td>\n",
              "    </tr>\n",
              "    <tr>\n",
              "      <th>40</th>\n",
              "      <td>0.4</td>\n",
              "      <td>337</td>\n",
              "      <td>257</td>\n",
              "      <td>149</td>\n",
              "      <td>1117</td>\n",
              "    </tr>\n",
              "    <tr>\n",
              "      <th>50</th>\n",
              "      <td>0.5</td>\n",
              "      <td>289</td>\n",
              "      <td>172</td>\n",
              "      <td>197</td>\n",
              "      <td>1202</td>\n",
              "    </tr>\n",
              "    <tr>\n",
              "      <th>60</th>\n",
              "      <td>0.6</td>\n",
              "      <td>200</td>\n",
              "      <td>105</td>\n",
              "      <td>286</td>\n",
              "      <td>1269</td>\n",
              "    </tr>\n",
              "    <tr>\n",
              "      <th>70</th>\n",
              "      <td>0.7</td>\n",
              "      <td>99</td>\n",
              "      <td>34</td>\n",
              "      <td>387</td>\n",
              "      <td>1340</td>\n",
              "    </tr>\n",
              "    <tr>\n",
              "      <th>80</th>\n",
              "      <td>0.8</td>\n",
              "      <td>7</td>\n",
              "      <td>1</td>\n",
              "      <td>479</td>\n",
              "      <td>1373</td>\n",
              "    </tr>\n",
              "    <tr>\n",
              "      <th>90</th>\n",
              "      <td>0.9</td>\n",
              "      <td>0</td>\n",
              "      <td>0</td>\n",
              "      <td>486</td>\n",
              "      <td>1374</td>\n",
              "    </tr>\n",
              "    <tr>\n",
              "      <th>100</th>\n",
              "      <td>1.0</td>\n",
              "      <td>0</td>\n",
              "      <td>0</td>\n",
              "      <td>486</td>\n",
              "      <td>1374</td>\n",
              "    </tr>\n",
              "  </tbody>\n",
              "</table>\n",
              "</div>\n",
              "      <button class=\"colab-df-convert\" onclick=\"convertToInteractive('df-fa2bea53-5fda-4ceb-b80e-774bc2cc9b3d')\"\n",
              "              title=\"Convert this dataframe to an interactive table.\"\n",
              "              style=\"display:none;\">\n",
              "        \n",
              "  <svg xmlns=\"http://www.w3.org/2000/svg\" height=\"24px\"viewBox=\"0 0 24 24\"\n",
              "       width=\"24px\">\n",
              "    <path d=\"M0 0h24v24H0V0z\" fill=\"none\"/>\n",
              "    <path d=\"M18.56 5.44l.94 2.06.94-2.06 2.06-.94-2.06-.94-.94-2.06-.94 2.06-2.06.94zm-11 1L8.5 8.5l.94-2.06 2.06-.94-2.06-.94L8.5 2.5l-.94 2.06-2.06.94zm10 10l.94 2.06.94-2.06 2.06-.94-2.06-.94-.94-2.06-.94 2.06-2.06.94z\"/><path d=\"M17.41 7.96l-1.37-1.37c-.4-.4-.92-.59-1.43-.59-.52 0-1.04.2-1.43.59L10.3 9.45l-7.72 7.72c-.78.78-.78 2.05 0 2.83L4 21.41c.39.39.9.59 1.41.59.51 0 1.02-.2 1.41-.59l7.78-7.78 2.81-2.81c.8-.78.8-2.07 0-2.86zM5.41 20L4 18.59l7.72-7.72 1.47 1.35L5.41 20z\"/>\n",
              "  </svg>\n",
              "      </button>\n",
              "      \n",
              "  <style>\n",
              "    .colab-df-container {\n",
              "      display:flex;\n",
              "      flex-wrap:wrap;\n",
              "      gap: 12px;\n",
              "    }\n",
              "\n",
              "    .colab-df-convert {\n",
              "      background-color: #E8F0FE;\n",
              "      border: none;\n",
              "      border-radius: 50%;\n",
              "      cursor: pointer;\n",
              "      display: none;\n",
              "      fill: #1967D2;\n",
              "      height: 32px;\n",
              "      padding: 0 0 0 0;\n",
              "      width: 32px;\n",
              "    }\n",
              "\n",
              "    .colab-df-convert:hover {\n",
              "      background-color: #E2EBFA;\n",
              "      box-shadow: 0px 1px 2px rgba(60, 64, 67, 0.3), 0px 1px 3px 1px rgba(60, 64, 67, 0.15);\n",
              "      fill: #174EA6;\n",
              "    }\n",
              "\n",
              "    [theme=dark] .colab-df-convert {\n",
              "      background-color: #3B4455;\n",
              "      fill: #D2E3FC;\n",
              "    }\n",
              "\n",
              "    [theme=dark] .colab-df-convert:hover {\n",
              "      background-color: #434B5C;\n",
              "      box-shadow: 0px 1px 3px 1px rgba(0, 0, 0, 0.15);\n",
              "      filter: drop-shadow(0px 1px 2px rgba(0, 0, 0, 0.3));\n",
              "      fill: #FFFFFF;\n",
              "    }\n",
              "  </style>\n",
              "\n",
              "      <script>\n",
              "        const buttonEl =\n",
              "          document.querySelector('#df-fa2bea53-5fda-4ceb-b80e-774bc2cc9b3d button.colab-df-convert');\n",
              "        buttonEl.style.display =\n",
              "          google.colab.kernel.accessAllowed ? 'block' : 'none';\n",
              "\n",
              "        async function convertToInteractive(key) {\n",
              "          const element = document.querySelector('#df-fa2bea53-5fda-4ceb-b80e-774bc2cc9b3d');\n",
              "          const dataTable =\n",
              "            await google.colab.kernel.invokeFunction('convertToInteractive',\n",
              "                                                     [key], {});\n",
              "          if (!dataTable) return;\n",
              "\n",
              "          const docLinkHtml = 'Like what you see? Visit the ' +\n",
              "            '<a target=\"_blank\" href=https://colab.research.google.com/notebooks/data_table.ipynb>data table notebook</a>'\n",
              "            + ' to learn more about interactive tables.';\n",
              "          element.innerHTML = '';\n",
              "          dataTable['output_type'] = 'display_data';\n",
              "          await google.colab.output.renderOutput(dataTable, element);\n",
              "          const docLink = document.createElement('div');\n",
              "          docLink.innerHTML = docLinkHtml;\n",
              "          element.appendChild(docLink);\n",
              "        }\n",
              "      </script>\n",
              "    </div>\n",
              "  </div>\n",
              "  "
            ]
          },
          "metadata": {},
          "execution_count": 138
        }
      ]
    },
    {
      "cell_type": "code",
      "source": [],
      "metadata": {
        "id": "bxat4NoqOlzs"
      },
      "execution_count": null,
      "outputs": []
    }
  ]
}