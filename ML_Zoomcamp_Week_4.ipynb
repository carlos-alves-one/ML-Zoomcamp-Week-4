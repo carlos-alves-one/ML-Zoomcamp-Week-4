{
  "nbformat": 4,
  "nbformat_minor": 0,
  "metadata": {
    "colab": {
      "provenance": [],
      "authorship_tag": "ABX9TyN+rHjncOTGnEklets8PpYV",
      "include_colab_link": true
    },
    "kernelspec": {
      "name": "python3",
      "display_name": "Python 3"
    },
    "language_info": {
      "name": "python"
    }
  },
  "cells": [
    {
      "cell_type": "markdown",
      "metadata": {
        "id": "view-in-github",
        "colab_type": "text"
      },
      "source": [
        "<a href=\"https://colab.research.google.com/github/carlos-alves-one/-ML-Zoomcamp-Week-4/blob/main/ML_Zoomcamp_Week_4.ipynb\" target=\"_parent\"><img src=\"https://colab.research.google.com/assets/colab-badge.svg\" alt=\"Open In Colab\"/></a>"
      ]
    },
    {
      "cell_type": "markdown",
      "source": [
        "## Goldsmiths University of London\n",
        "**Author....: Carlos Manuel de Oliveira Alves**<br>\n",
        "**Student..: cdeol003**<br>\n",
        "**Created..: 27/09/2022**"
      ],
      "metadata": {
        "id": "6gEcamMvoqD_"
      }
    },
    {
      "cell_type": "code",
      "execution_count": 63,
      "metadata": {
        "id": "sERKxvvdomPg"
      },
      "outputs": [],
      "source": [
        "# Import libraries for the project\n",
        "import pandas as pd\n",
        "import numpy as np\n",
        "\n",
        "import seaborn as sns\n",
        "import matplotlib.pyplot as plt\n",
        "%matplotlib inline\n",
        "\n",
        "# Import the library warnings to ignore the warnings\n",
        "import warnings\n",
        "warnings.filterwarnings(\"ignore\")"
      ]
    },
    {
      "cell_type": "code",
      "source": [
        "# Lets train the model again first - to use its results later in this notebook\n",
        "\n",
        "# Import packages from Sklearn for the project\n",
        "from sklearn.model_selection import train_test_split\n",
        "from sklearn.feature_extraction import DictVectorizer\n",
        "from sklearn.linear_model import LogisticRegression"
      ],
      "metadata": {
        "id": "NU5InPEkuw-d"
      },
      "execution_count": 64,
      "outputs": []
    },
    {
      "cell_type": "code",
      "source": [
        "# Data import and preparation\n",
        "\n",
        "df = pd.read_csv('WA_Fn-UseC_-Telco-Customer-Churn.csv')\n",
        "\n",
        "df['TotalCharges'] = pd.to_numeric(df['TotalCharges'], errors='coerce')\n",
        "df['TotalCharges'] = df['TotalCharges'].fillna(0)\n",
        "\n",
        "df.columns = df.columns.str.lower().str.replace(' ', '_')\n",
        "\n",
        "string_columns = list(df.dtypes[df.dtypes == 'object'].index)\n",
        "\n",
        "for col in string_columns:\n",
        "    df[col] = df[col].str.lower().str.replace(' ', '_')\n",
        "\n",
        "df.churn = (df.churn == 'yes').astype(int)"
      ],
      "metadata": {
        "id": "DwZLJNAjvYjo"
      },
      "execution_count": 65,
      "outputs": []
    },
    {
      "cell_type": "code",
      "source": [
        "# Setting up the validation framework\n",
        "\n",
        "df_train_full, df_test = train_test_split(df, test_size=0.2, random_state=1)\n",
        "df_train, df_val = train_test_split(df_train_full, test_size=0.33, random_state=11)\n",
        "\n",
        "y_train = df_train.churn.values\n",
        "y_val = df_val.churn.values\n",
        "\n",
        "del df_train['churn']\n",
        "del df_val['churn']"
      ],
      "metadata": {
        "id": "_QfstrMiwCsY"
      },
      "execution_count": 66,
      "outputs": []
    },
    {
      "cell_type": "code",
      "source": [
        "# Define the list of categorical and numerical variables\n",
        "\n",
        "categorical = ['gender', 'seniorcitizen', 'partner', 'dependents',\n",
        "               'phoneservice', 'multiplelines', 'internetservice',\n",
        "               'onlinesecurity', 'onlinebackup', 'deviceprotection',\n",
        "               'techsupport', 'streamingtv', 'streamingmovies',\n",
        "               'contract', 'paperlessbilling', 'paymentmethod']\n",
        "\n",
        "numerical = ['tenure', 'monthlycharges', 'totalcharges']"
      ],
      "metadata": {
        "id": "Jhf2i3E5wTeO"
      },
      "execution_count": 67,
      "outputs": []
    },
    {
      "cell_type": "code",
      "source": [
        "# Turn the data into a dictionary and we want each row to turn into a dictionary \n",
        "train_dict = df_train[categorical + numerical].to_dict(orient='records')\n",
        "\n",
        "# Create a new instance of the DictVectorizer class without sparse\n",
        "dv = DictVectorizer(sparse=False)\n",
        "\n",
        "# Use the method fit and first we train our DictVectorizer\n",
        "dv.fit(train_dict)\n",
        "\n",
        "# Use the function transform with our DictVectorizer\n",
        "X_train = dv.transform(train_dict)"
      ],
      "metadata": {
        "id": "s_T7YeKBwiPO"
      },
      "execution_count": 68,
      "outputs": []
    },
    {
      "cell_type": "code",
      "source": [
        "# Create a model logistic regression\n",
        "model = LogisticRegression(solver='liblinear', random_state=1)\n",
        "\n",
        "# For training the model we use the fit method\n",
        "model.fit(X_train, y_train)"
      ],
      "metadata": {
        "colab": {
          "base_uri": "https://localhost:8080/"
        },
        "id": "-hfgdUOuxggk",
        "outputId": "e9154c1a-d90a-4622-927b-2116e58ac822"
      },
      "execution_count": 69,
      "outputs": [
        {
          "output_type": "execute_result",
          "data": {
            "text/plain": [
              "LogisticRegression(random_state=1, solver='liblinear')"
            ]
          },
          "metadata": {},
          "execution_count": 69
        }
      ]
    },
    {
      "cell_type": "code",
      "source": [
        "# Create validation dictionary with categorical and numerical variables\n",
        "val_dict = df_val[categorical + numerical].to_dict(orient='records')\n",
        "\n",
        "# Use the function transform with our validation dictionary\n",
        "X_val = dv.transform(val_dict)\n",
        "\n",
        "# Apply our model on X validation and use the first column\n",
        "y_pred = model.predict_proba(X_val)[:, 1]"
      ],
      "metadata": {
        "id": "n_VWjZV4yTkK"
      },
      "execution_count": 70,
      "outputs": []
    },
    {
      "cell_type": "code",
      "source": [
        "# Create a small subset from the dataframe\n",
        "small_subset = ['contract', 'tenure', 'totalcharges']\n",
        "\n",
        "# Turn the data into a dictionary and we want each row to turn into a dictionary \n",
        "train_dict_small = df_train[small_subset].to_dict(orient='records')\n",
        "\n",
        "# Create a new instance of the DictVectorizer class without sparse\n",
        "dv_small = DictVectorizer(sparse=False)\n",
        "\n",
        "# Use the method fit and first we train our DictVectorizer\n",
        "dv_small.fit(train_dict_small)\n",
        "\n",
        "# Use the function transform with our DictVectorizer\n",
        "X_small_train = dv_small.transform(train_dict_small)\n",
        "\n",
        "# Create a model logistic regression\n",
        "model_small = LogisticRegression(solver='liblinear', random_state=1)\n",
        "\n",
        "# Use the method fit and first we train our DictVectorizer\n",
        "model_small.fit(X_small_train, y_train)"
      ],
      "metadata": {
        "colab": {
          "base_uri": "https://localhost:8080/"
        },
        "id": "zJQPuMETzwkJ",
        "outputId": "7b18b030-151d-4a71-b979-3287d52120d4"
      },
      "execution_count": 71,
      "outputs": [
        {
          "output_type": "execute_result",
          "data": {
            "text/plain": [
              "LogisticRegression(random_state=1, solver='liblinear')"
            ]
          },
          "metadata": {},
          "execution_count": 71
        }
      ]
    },
    {
      "cell_type": "code",
      "source": [
        "# Turn the data into a dictionary and we want each row to turn into a dictionary \n",
        "val_dict_small = df_val[small_subset].to_dict(orient='records')\n",
        "\n",
        "# Use the function transform with our DictVectorizer\n",
        "X_small_val = dv_small.transform(val_dict_small)\n",
        "\n",
        "# Apply our model on Y predition and use the first column\n",
        "y_pred_small = model_small.predict_proba(X_small_val)[:, 1]"
      ],
      "metadata": {
        "id": "eDPSjIaXH7NA"
      },
      "execution_count": 72,
      "outputs": []
    },
    {
      "cell_type": "code",
      "source": [
        "# Accuracy:\n",
        "\n",
        "# Apply our model on Y predition and use the first column\n",
        "y_pred = model.predict_proba(X_val)[:, 1]\n",
        "\n",
        "# Store the Y prediction has 50% or more\n",
        "churn = y_pred >= 0.5\n",
        "\n",
        "# Calculate the percentange of the churn using the mean function\n",
        "(churn == y_val).mean()"
      ],
      "metadata": {
        "colab": {
          "base_uri": "https://localhost:8080/"
        },
        "id": "EtUr8FW8IqD2",
        "outputId": "2b749d05-8e27-4fb7-8a16-17418022f772"
      },
      "execution_count": 73,
      "outputs": [
        {
          "output_type": "execute_result",
          "data": {
            "text/plain": [
              "0.8016129032258065"
            ]
          },
          "metadata": {},
          "execution_count": 73
        }
      ]
    },
    {
      "cell_type": "code",
      "source": [
        "# Accuracy and dummy model:\n",
        "\n",
        "# . Evaluate the model on different thresholds\n",
        "# . Check the accuracy of dummy baselines\n",
        "\n",
        "# Check how many customers we have with Y validation dataset\n",
        "len(y_val)"
      ],
      "metadata": {
        "colab": {
          "base_uri": "https://localhost:8080/"
        },
        "id": "KJzIUEz6JuGw",
        "outputId": "a54c655f-a886-4455-a71f-6fe5d0cedcab"
      },
      "execution_count": 74,
      "outputs": [
        {
          "output_type": "execute_result",
          "data": {
            "text/plain": [
              "1860"
            ]
          },
          "metadata": {},
          "execution_count": 74
        }
      ]
    },
    {
      "cell_type": "code",
      "source": [
        "# we have 1.860 customers and for all this customers we will make a prediction\n",
        "# each customer we assign a score and then we make a decision\n",
        "# some of this decisions are correct and some of this decisions are incorrect\n",
        "\n",
        "# Check how many decisions are correct\n",
        "(y_val == churn).sum()"
      ],
      "metadata": {
        "colab": {
          "base_uri": "https://localhost:8080/"
        },
        "id": "Cl5KmgmmKk70",
        "outputId": "08c144a9-ac0f-4fac-f6f5-c492bb093c6c"
      },
      "execution_count": 75,
      "outputs": [
        {
          "output_type": "execute_result",
          "data": {
            "text/plain": [
              "1491"
            ]
          },
          "metadata": {},
          "execution_count": 75
        }
      ]
    },
    {
      "cell_type": "code",
      "source": [
        "# so have 1.491 customers with the correct decision\n",
        "\n",
        "# some of our decisions are not correct and we calculate doing:\n",
        "# total of correct decisions or predictions divide by the total of customers\n",
        "# in our case is 80%"
      ],
      "metadata": {
        "id": "6BDALL1AL9oT"
      },
      "execution_count": 76,
      "outputs": []
    },
    {
      "cell_type": "code",
      "source": [
        "print(str(round((1491 / 1860) * 100)) + '%')"
      ],
      "metadata": {
        "colab": {
          "base_uri": "https://localhost:8080/"
        },
        "id": "I9YU7rHhM7jL",
        "outputId": "1c83f1a5-972e-4a05-b04c-ec35ed3d697d"
      },
      "execution_count": 77,
      "outputs": [
        {
          "output_type": "stream",
          "name": "stdout",
          "text": [
            "80%\n"
          ]
        }
      ]
    },
    {
      "cell_type": "code",
      "source": [
        "# Use the function linspace to generate numbers from 0 to 1 with size of the array 21 elements\n",
        "thresholds = np.linspace(0, 1, 21)\n",
        "thresholds"
      ],
      "metadata": {
        "colab": {
          "base_uri": "https://localhost:8080/"
        },
        "id": "1zG7UbDJNM4d",
        "outputId": "ecbeeed4-4eae-455c-fc0f-b46763037fb9"
      },
      "execution_count": 78,
      "outputs": [
        {
          "output_type": "execute_result",
          "data": {
            "text/plain": [
              "array([0.  , 0.05, 0.1 , 0.15, 0.2 , 0.25, 0.3 , 0.35, 0.4 , 0.45, 0.5 ,\n",
              "       0.55, 0.6 , 0.65, 0.7 , 0.75, 0.8 , 0.85, 0.9 , 0.95, 1.  ])"
            ]
          },
          "metadata": {},
          "execution_count": 78
        }
      ]
    },
    {
      "cell_type": "code",
      "source": [
        "# Create a list to store all the accuracies\n",
        "scores = []\n",
        "\n",
        "# For eah of the values above we can treat as a threshold\n",
        "for t in thresholds:\n",
        "\n",
        "  # Store the Y prediction we use t threshold list intead of has 50% or more\n",
        "  # churn = y_pred >= 0.5 <-- THIS LINE OF CODE IT WAS BEFORE\n",
        "  # NEW LINE OF CODE:\n",
        "  churn_decision = (y_pred >= t)\n",
        "\n",
        "  # Check how many decisions are correct\n",
        "  score = (y_val == churn_decision).mean()\n",
        "\n",
        "  # Print the score with some formatation\n",
        "  print('%.2f %.3f' % (t,score))\n",
        "\n",
        "  # Append the list scores with accuracy\n",
        "  scores.append(score)\n",
        "\n",
        "  # below the 0.50 its the best threshold for this specif problem"
      ],
      "metadata": {
        "colab": {
          "base_uri": "https://localhost:8080/"
        },
        "id": "eIUJj47VNzAZ",
        "outputId": "ebda3152-7197-42ae-f06c-bb698ebf5979"
      },
      "execution_count": 79,
      "outputs": [
        {
          "output_type": "stream",
          "name": "stdout",
          "text": [
            "0.00 0.261\n",
            "0.05 0.501\n",
            "0.10 0.595\n",
            "0.15 0.640\n",
            "0.20 0.690\n",
            "0.25 0.730\n",
            "0.30 0.755\n",
            "0.35 0.767\n",
            "0.40 0.782\n",
            "0.45 0.795\n",
            "0.50 0.802\n",
            "0.55 0.790\n",
            "0.60 0.790\n",
            "0.65 0.788\n",
            "0.70 0.774\n",
            "0.75 0.752\n",
            "0.80 0.742\n",
            "0.85 0.739\n",
            "0.90 0.739\n",
            "0.95 0.739\n",
            "1.00 0.739\n"
          ]
        }
      ]
    },
    {
      "cell_type": "code",
      "source": [
        "# Print the list scores with accuracies\n",
        "scores"
      ],
      "metadata": {
        "colab": {
          "base_uri": "https://localhost:8080/"
        },
        "id": "k0iq-FlDQXhX",
        "outputId": "d002a24e-927e-47a6-a31e-f2bd8a051838"
      },
      "execution_count": 80,
      "outputs": [
        {
          "output_type": "execute_result",
          "data": {
            "text/plain": [
              "[0.26129032258064516,\n",
              " 0.5010752688172043,\n",
              " 0.5946236559139785,\n",
              " 0.6403225806451613,\n",
              " 0.6897849462365592,\n",
              " 0.7295698924731183,\n",
              " 0.7548387096774194,\n",
              " 0.7672043010752688,\n",
              " 0.7817204301075269,\n",
              " 0.7951612903225806,\n",
              " 0.8016129032258065,\n",
              " 0.7903225806451613,\n",
              " 0.7897849462365591,\n",
              " 0.7881720430107527,\n",
              " 0.7736559139784946,\n",
              " 0.7521505376344086,\n",
              " 0.7419354838709677,\n",
              " 0.7387096774193549,\n",
              " 0.7387096774193549,\n",
              " 0.7387096774193549,\n",
              " 0.7387096774193549]"
            ]
          },
          "metadata": {},
          "execution_count": 80
        }
      ]
    },
    {
      "cell_type": "code",
      "source": [
        "# Plot the list scores with accuracies\n",
        "plt.plot(thresholds, scores) \n",
        "# x-axis is the thresholds\n",
        "# y-axis is the scores"
      ],
      "metadata": {
        "colab": {
          "base_uri": "https://localhost:8080/",
          "height": 283
        },
        "id": "hwbPmLeLQwa-",
        "outputId": "bc2bfce8-7c35-4222-d08d-401ca71d7c0b"
      },
      "execution_count": 81,
      "outputs": [
        {
          "output_type": "execute_result",
          "data": {
            "text/plain": [
              "[<matplotlib.lines.Line2D at 0x7f17075653d0>]"
            ]
          },
          "metadata": {},
          "execution_count": 81
        },
        {
          "output_type": "display_data",
          "data": {
            "text/plain": [
              "<Figure size 432x288 with 1 Axes>"
            ],
            "image/png": "[encoded data removed]"
          },
          "metadata": {
            "needs_background": "light"
          }
        }
      ]
    },
    {
      "cell_type": "code",
      "source": [
        "# doing the same above but now with sklearn:\n",
        "\n",
        "# Import the package accuracy score from sklearn\n",
        "from sklearn.metrics import accuracy_score"
      ],
      "metadata": {
        "id": "Q4vFDX2nRKLG"
      },
      "execution_count": 82,
      "outputs": []
    },
    {
      "cell_type": "code",
      "source": [
        "# Use the function accuracy score from sklearn\n",
        "accuracy_score(y_val, churn_decision)"
      ],
      "metadata": {
        "colab": {
          "base_uri": "https://localhost:8080/"
        },
        "id": "iQtOxGngSneL",
        "outputId": "4c4d0f7e-0a87-4ddc-f78a-446838dc184c"
      },
      "execution_count": 83,
      "outputs": [
        {
          "output_type": "execute_result",
          "data": {
            "text/plain": [
              "0.7387096774193549"
            ]
          },
          "metadata": {},
          "execution_count": 83
        }
      ]
    },
    {
      "cell_type": "code",
      "source": [
        "# Use the function accuracy score from sklearn with the threshold list\n",
        "\n",
        "# Use the function linspace to generate numbers from 0 to 1 with size of the array 21 elements\n",
        "thresholds = np.linspace(0, 1, 21)\n",
        "\n",
        "# Create a list to store all the accuracies\n",
        "scores = []\n",
        "\n",
        "# For eah of the values above we can treat as a threshold\n",
        "for t in thresholds:\n",
        "\n",
        "  # Store the result of the functin accuracy score\n",
        "  score = accuracy_score(y_val, y_pred >= t)\n",
        "\n",
        "  # Print the score with some formatation\n",
        "  print('%.2f %.3f' % (t,score))\n",
        "\n",
        "  # Append the list scores with accuracy\n",
        "  scores.append(score)\n",
        "\n",
        "# we can see below the values are exactly the same"
      ],
      "metadata": {
        "colab": {
          "base_uri": "https://localhost:8080/"
        },
        "id": "ICL2pEHwS2sV",
        "outputId": "a1eed929-185c-43df-9151-9239d0390e40"
      },
      "execution_count": 84,
      "outputs": [
        {
          "output_type": "stream",
          "name": "stdout",
          "text": [
            "0.00 0.261\n",
            "0.05 0.501\n",
            "0.10 0.595\n",
            "0.15 0.640\n",
            "0.20 0.690\n",
            "0.25 0.730\n",
            "0.30 0.755\n",
            "0.35 0.767\n",
            "0.40 0.782\n",
            "0.45 0.795\n",
            "0.50 0.802\n",
            "0.55 0.790\n",
            "0.60 0.790\n",
            "0.65 0.788\n",
            "0.70 0.774\n",
            "0.75 0.752\n",
            "0.80 0.742\n",
            "0.85 0.739\n",
            "0.90 0.739\n",
            "0.95 0.739\n",
            "1.00 0.739\n"
          ]
        }
      ]
    },
    {
      "cell_type": "code",
      "source": [
        "# from the plot above we can see for the threshold above of 1.0\n",
        "# we don't have more values the last score is 0.739 or 73.9% this accuracy its pretty decent\n",
        "# remember our model was 80% accurate  \n",
        "# but now with our dummy model is 73.9% where predicts how many customers are not churning\n",
        "\n",
        "# Use a special package collections from Python to count things\n",
        "from collections import Counter\n",
        "\n",
        "# Use the function counter from collections to count how many are true or false\n",
        "# the line below it predicts how many customers are not churning\n",
        "Counter(y_pred >= 1.0)\n",
        "\n",
        "# below we can see the counter only count false values"
      ],
      "metadata": {
        "colab": {
          "base_uri": "https://localhost:8080/"
        },
        "id": "dY4JcwQzX-5G",
        "outputId": "055e863b-2fcb-4c80-a2be-f2ef2a1e3bd8"
      },
      "execution_count": 85,
      "outputs": [
        {
          "output_type": "execute_result",
          "data": {
            "text/plain": [
              "Counter({False: 1860})"
            ]
          },
          "metadata": {},
          "execution_count": 85
        }
      ]
    },
    {
      "cell_type": "code",
      "source": [
        "# Confusion table:\n",
        "\n",
        "# . Different types of errors and correct decisions\n",
        "# . Arranging them in a table\n",
        "\n",
        "# Create an array for customers are really churn and this is for case validations are 1\n",
        "actual_positive = (y_val == 1)\n",
        "\n",
        "# Create an array for customers are not going to churn and this is for case validations are 0\n",
        "actual_negative = (y_val == 0)\n",
        "\n",
        "# the arrays above they will store true's and falses values\n",
        "actual_positive"
      ],
      "metadata": {
        "colab": {
          "base_uri": "https://localhost:8080/"
        },
        "id": "EPSo2Ok3ZBgB",
        "outputId": "69c50f7d-94f8-472d-ac2d-6670938c26fd"
      },
      "execution_count": 86,
      "outputs": [
        {
          "output_type": "execute_result",
          "data": {
            "text/plain": [
              "array([False,  True, False, ..., False, False, False])"
            ]
          },
          "metadata": {},
          "execution_count": 86
        }
      ]
    },
    {
      "cell_type": "code",
      "source": [
        "# Define the threshold for positive and negative scores\n",
        "t = 0.5\n",
        "\n",
        "# Store the positive predictions\n",
        "predict_positive = (y_pred >= t)\n",
        "\n",
        "# Store the negative predictions\n",
        "predict_negative = (y_pred < t)\n",
        "\n",
        "# Combine in one the predictions and actual positives values\n",
        "predict_positive & actual_positive\n",
        "# note: the way it combines the trues and falses is:\n",
        "# true and true is equal to true\n",
        "# false and true is equal to false\n",
        "# false and false is equal to false\n",
        "\n",
        "# note: the & operator it computes the element wise logical end"
      ],
      "metadata": {
        "colab": {
          "base_uri": "https://localhost:8080/"
        },
        "id": "xnBlUuuJfzo3",
        "outputId": "dbc0e5ab-a154-4453-978c-289f9cf29357"
      },
      "execution_count": 87,
      "outputs": [
        {
          "output_type": "execute_result",
          "data": {
            "text/plain": [
              "array([False, False, False, ..., False, False, False])"
            ]
          },
          "metadata": {},
          "execution_count": 87
        }
      ]
    },
    {
      "cell_type": "code",
      "source": [
        "# Check how many predictions and actual positives are\n",
        "(predict_positive & actual_positive).sum()"
      ],
      "metadata": {
        "colab": {
          "base_uri": "https://localhost:8080/"
        },
        "id": "5WlhLpvEgWAo",
        "outputId": "7cfba100-51fd-49ec-d735-ba33abbc198e"
      },
      "execution_count": 88,
      "outputs": [
        {
          "output_type": "execute_result",
          "data": {
            "text/plain": [
              "289"
            ]
          },
          "metadata": {},
          "execution_count": 88
        }
      ]
    },
    {
      "cell_type": "code",
      "source": [
        "# Store the true positive values in a variable\n",
        "tp = (predict_positive & actual_positive).sum()\n",
        "tp"
      ],
      "metadata": {
        "colab": {
          "base_uri": "https://localhost:8080/"
        },
        "id": "LgL9fF8diS9u",
        "outputId": "fa303197-5869-47fa-df82-85d2790e5a9c"
      },
      "execution_count": 89,
      "outputs": [
        {
          "output_type": "execute_result",
          "data": {
            "text/plain": [
              "289"
            ]
          },
          "metadata": {},
          "execution_count": 89
        }
      ]
    },
    {
      "cell_type": "code",
      "source": [
        "# Store the true negatives values in a variable\n",
        "tn = (predict_negative & actual_negative).sum()\n",
        "tn"
      ],
      "metadata": {
        "colab": {
          "base_uri": "https://localhost:8080/"
        },
        "id": "u0scjpMaiqtq",
        "outputId": "7140e38d-6166-4b04-b984-ca96b26ea84b"
      },
      "execution_count": 90,
      "outputs": [
        {
          "output_type": "execute_result",
          "data": {
            "text/plain": [
              "1202"
            ]
          },
          "metadata": {},
          "execution_count": 90
        }
      ]
    },
    {
      "cell_type": "code",
      "source": [],
      "metadata": {
        "id": "de1FIV-cjVIs"
      },
      "execution_count": null,
      "outputs": []
    }
  ]
}