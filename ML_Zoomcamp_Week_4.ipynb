{
  "nbformat": 4,
  "nbformat_minor": 0,
  "metadata": {
    "colab": {
      "provenance": [],
      "collapsed_sections": [],
      "authorship_tag": "ABX9TyPcBjW5nVhdOKNoOXSvLeSi",
      "include_colab_link": true
    },
    "kernelspec": {
      "name": "python3",
      "display_name": "Python 3"
    },
    "language_info": {
      "name": "python"
    }
  },
  "cells": [
    {
      "cell_type": "markdown",
      "metadata": {
        "id": "view-in-github",
        "colab_type": "text"
      },
      "source": [
        "<a href=\"https://colab.research.google.com/github/carlos-alves-one/-ML-Zoomcamp-Week-4/blob/main/ML_Zoomcamp_Week_4.ipynb\" target=\"_parent\"><img src=\"https://colab.research.google.com/assets/colab-badge.svg\" alt=\"Open In Colab\"/></a>"
      ]
    },
    {
      "cell_type": "markdown",
      "source": [
        "## Goldsmiths University of London\n",
        "**Author....: Carlos Manuel de Oliveira Alves**<br>\n",
        "**Student..: cdeol003**<br>\n",
        "**Created..: 27/09/2022**"
      ],
      "metadata": {
        "id": "6gEcamMvoqD_"
      }
    },
    {
      "cell_type": "code",
      "execution_count": 266,
      "metadata": {
        "id": "sERKxvvdomPg"
      },
      "outputs": [],
      "source": [
        "# Import libraries for the project\n",
        "import pandas as pd\n",
        "import numpy as np\n",
        "\n",
        "import seaborn as sns\n",
        "import matplotlib.pyplot as plt\n",
        "%matplotlib inline\n",
        "\n",
        "# Import the library warnings to ignore the warnings\n",
        "import warnings\n",
        "warnings.filterwarnings(\"ignore\")"
      ]
    },
    {
      "cell_type": "code",
      "source": [
        "# Lets train the model again first - to use its results later in this notebook\n",
        "\n",
        "# Import packages from Sklearn for the project\n",
        "from sklearn.model_selection import train_test_split\n",
        "from sklearn.feature_extraction import DictVectorizer\n",
        "from sklearn.linear_model import LogisticRegression"
      ],
      "metadata": {
        "id": "NU5InPEkuw-d"
      },
      "execution_count": 267,
      "outputs": []
    },
    {
      "cell_type": "code",
      "source": [
        "# Data import and preparation\n",
        "\n",
        "df = pd.read_csv('WA_Fn-UseC_-Telco-Customer-Churn.csv')\n",
        "\n",
        "df['TotalCharges'] = pd.to_numeric(df['TotalCharges'], errors='coerce')\n",
        "df['TotalCharges'] = df['TotalCharges'].fillna(0)\n",
        "\n",
        "df.columns = df.columns.str.lower().str.replace(' ', '_')\n",
        "\n",
        "string_columns = list(df.dtypes[df.dtypes == 'object'].index)\n",
        "\n",
        "for col in string_columns:\n",
        "    df[col] = df[col].str.lower().str.replace(' ', '_')\n",
        "\n",
        "df.churn = (df.churn == 'yes').astype(int)"
      ],
      "metadata": {
        "id": "DwZLJNAjvYjo"
      },
      "execution_count": 268,
      "outputs": []
    },
    {
      "cell_type": "code",
      "source": [
        "# Setting up the validation framework\n",
        "\n",
        "df_train_full, df_test = train_test_split(df, test_size=0.2, random_state=1)\n",
        "df_train, df_val = train_test_split(df_train_full, test_size=0.33, random_state=11)\n",
        "\n",
        "y_train = df_train.churn.values\n",
        "y_val = df_val.churn.values\n",
        "\n",
        "del df_train['churn']\n",
        "del df_val['churn']"
      ],
      "metadata": {
        "id": "_QfstrMiwCsY"
      },
      "execution_count": 269,
      "outputs": []
    },
    {
      "cell_type": "code",
      "source": [
        "# Define the list of categorical and numerical variables\n",
        "\n",
        "categorical = ['gender', 'seniorcitizen', 'partner', 'dependents',\n",
        "               'phoneservice', 'multiplelines', 'internetservice',\n",
        "               'onlinesecurity', 'onlinebackup', 'deviceprotection',\n",
        "               'techsupport', 'streamingtv', 'streamingmovies',\n",
        "               'contract', 'paperlessbilling', 'paymentmethod']\n",
        "\n",
        "numerical = ['tenure', 'monthlycharges', 'totalcharges']"
      ],
      "metadata": {
        "id": "Jhf2i3E5wTeO"
      },
      "execution_count": 270,
      "outputs": []
    },
    {
      "cell_type": "code",
      "source": [
        "# Turn the data into a dictionary and we want each row to turn into a dictionary \n",
        "train_dict = df_train[categorical + numerical].to_dict(orient='records')\n",
        "\n",
        "# Create a new instance of the DictVectorizer class without sparse\n",
        "dv = DictVectorizer(sparse=False)\n",
        "\n",
        "# Use the method fit and first we train our DictVectorizer\n",
        "dv.fit(train_dict)\n",
        "\n",
        "# Use the function transform with our DictVectorizer\n",
        "X_train = dv.transform(train_dict)"
      ],
      "metadata": {
        "id": "s_T7YeKBwiPO"
      },
      "execution_count": 271,
      "outputs": []
    },
    {
      "cell_type": "code",
      "source": [
        "# Create a model logistic regression\n",
        "model = LogisticRegression(solver='liblinear', random_state=1)\n",
        "\n",
        "# For training the model we use the fit method\n",
        "model.fit(X_train, y_train)"
      ],
      "metadata": {
        "colab": {
          "base_uri": "https://localhost:8080/"
        },
        "id": "-hfgdUOuxggk",
        "outputId": "c09c8952-82ea-4860-c9f1-8c6b0a65415d"
      },
      "execution_count": 272,
      "outputs": [
        {
          "output_type": "execute_result",
          "data": {
            "text/plain": [
              "LogisticRegression(random_state=1, solver='liblinear')"
            ]
          },
          "metadata": {},
          "execution_count": 272
        }
      ]
    },
    {
      "cell_type": "code",
      "source": [
        "# Create validation dictionary with categorical and numerical variables\n",
        "val_dict = df_val[categorical + numerical].to_dict(orient='records')\n",
        "\n",
        "# Use the function transform with our validation dictionary\n",
        "X_val = dv.transform(val_dict)\n",
        "\n",
        "# Apply our model on X validation and use the first column\n",
        "y_pred = model.predict_proba(X_val)[:, 1]"
      ],
      "metadata": {
        "id": "n_VWjZV4yTkK"
      },
      "execution_count": 273,
      "outputs": []
    },
    {
      "cell_type": "code",
      "source": [
        "# Create a small subset from the dataframe\n",
        "small_subset = ['contract', 'tenure', 'totalcharges']\n",
        "\n",
        "# Turn the data into a dictionary and we want each row to turn into a dictionary \n",
        "train_dict_small = df_train[small_subset].to_dict(orient='records')\n",
        "\n",
        "# Create a new instance of the DictVectorizer class without sparse\n",
        "dv_small = DictVectorizer(sparse=False)\n",
        "\n",
        "# Use the method fit and first we train our DictVectorizer\n",
        "dv_small.fit(train_dict_small)\n",
        "\n",
        "# Use the function transform with our DictVectorizer\n",
        "X_small_train = dv_small.transform(train_dict_small)\n",
        "\n",
        "# Create a model logistic regression\n",
        "model_small = LogisticRegression(solver='liblinear', random_state=1)\n",
        "\n",
        "# Use the method fit and first we train our DictVectorizer\n",
        "model_small.fit(X_small_train, y_train)"
      ],
      "metadata": {
        "colab": {
          "base_uri": "https://localhost:8080/"
        },
        "id": "zJQPuMETzwkJ",
        "outputId": "f734d818-35f2-4a86-f1db-2d303a0f6e90"
      },
      "execution_count": 274,
      "outputs": [
        {
          "output_type": "execute_result",
          "data": {
            "text/plain": [
              "LogisticRegression(random_state=1, solver='liblinear')"
            ]
          },
          "metadata": {},
          "execution_count": 274
        }
      ]
    },
    {
      "cell_type": "code",
      "source": [
        "# Turn the data into a dictionary and we want each row to turn into a dictionary \n",
        "val_dict_small = df_val[small_subset].to_dict(orient='records')\n",
        "\n",
        "# Use the function transform with our DictVectorizer\n",
        "X_small_val = dv_small.transform(val_dict_small)\n",
        "\n",
        "# Apply our model on Y predition and use the first column\n",
        "y_pred_small = model_small.predict_proba(X_small_val)[:, 1]"
      ],
      "metadata": {
        "id": "eDPSjIaXH7NA"
      },
      "execution_count": 275,
      "outputs": []
    },
    {
      "cell_type": "code",
      "source": [
        "# Accuracy:\n",
        "\n",
        "# Apply our model on Y predition and use the first column\n",
        "y_pred = model.predict_proba(X_val)[:, 1]\n",
        "\n",
        "# Store the Y prediction has 50% or more\n",
        "churn = y_pred >= 0.5\n",
        "\n",
        "# Calculate the percentange of the churn using the mean function\n",
        "(churn == y_val).mean()"
      ],
      "metadata": {
        "colab": {
          "base_uri": "https://localhost:8080/"
        },
        "id": "EtUr8FW8IqD2",
        "outputId": "098ddc20-0b91-450e-80e1-3a12faae08e4"
      },
      "execution_count": 276,
      "outputs": [
        {
          "output_type": "execute_result",
          "data": {
            "text/plain": [
              "0.8016129032258065"
            ]
          },
          "metadata": {},
          "execution_count": 276
        }
      ]
    },
    {
      "cell_type": "code",
      "source": [
        "# Accuracy and dummy model:\n",
        "\n",
        "# . Evaluate the model on different thresholds\n",
        "# . Check the accuracy of dummy baselines\n",
        "\n",
        "# Check how many customers we have with Y validation dataset\n",
        "len(y_val)"
      ],
      "metadata": {
        "colab": {
          "base_uri": "https://localhost:8080/"
        },
        "id": "KJzIUEz6JuGw",
        "outputId": "740b3ea9-3fc5-4cde-c1d1-8f3a0db0f875"
      },
      "execution_count": 277,
      "outputs": [
        {
          "output_type": "execute_result",
          "data": {
            "text/plain": [
              "1860"
            ]
          },
          "metadata": {},
          "execution_count": 277
        }
      ]
    },
    {
      "cell_type": "code",
      "source": [
        "# we have 1.860 customers and for all this customers we will make a prediction\n",
        "# each customer we assign a score and then we make a decision\n",
        "# some of this decisions are correct and some of this decisions are incorrect\n",
        "\n",
        "# Check how many decisions are correct\n",
        "(y_val == churn).sum()"
      ],
      "metadata": {
        "colab": {
          "base_uri": "https://localhost:8080/"
        },
        "id": "Cl5KmgmmKk70",
        "outputId": "7d02d768-7795-4553-e768-094295701aab"
      },
      "execution_count": 278,
      "outputs": [
        {
          "output_type": "execute_result",
          "data": {
            "text/plain": [
              "1491"
            ]
          },
          "metadata": {},
          "execution_count": 278
        }
      ]
    },
    {
      "cell_type": "code",
      "source": [
        "# so have 1.491 customers with the correct decision\n",
        "\n",
        "# some of our decisions are not correct and we calculate doing:\n",
        "# total of correct decisions or predictions divide by the total of customers\n",
        "# in our case is 80%"
      ],
      "metadata": {
        "id": "6BDALL1AL9oT"
      },
      "execution_count": 279,
      "outputs": []
    },
    {
      "cell_type": "code",
      "source": [
        "print(str(round((1491 / 1860) * 100)) + '%')"
      ],
      "metadata": {
        "colab": {
          "base_uri": "https://localhost:8080/"
        },
        "id": "I9YU7rHhM7jL",
        "outputId": "947495be-796c-4a73-dd59-9fde9215c89d"
      },
      "execution_count": 280,
      "outputs": [
        {
          "output_type": "stream",
          "name": "stdout",
          "text": [
            "80%\n"
          ]
        }
      ]
    },
    {
      "cell_type": "code",
      "source": [
        "# Use the function linspace to generate numbers from 0 to 1 with size of the array 21 elements\n",
        "thresholds = np.linspace(0, 1, 21)\n",
        "thresholds"
      ],
      "metadata": {
        "colab": {
          "base_uri": "https://localhost:8080/"
        },
        "id": "1zG7UbDJNM4d",
        "outputId": "c981d603-7965-4a49-c7c1-94f75b33cbba"
      },
      "execution_count": 281,
      "outputs": [
        {
          "output_type": "execute_result",
          "data": {
            "text/plain": [
              "array([0.  , 0.05, 0.1 , 0.15, 0.2 , 0.25, 0.3 , 0.35, 0.4 , 0.45, 0.5 ,\n",
              "       0.55, 0.6 , 0.65, 0.7 , 0.75, 0.8 , 0.85, 0.9 , 0.95, 1.  ])"
            ]
          },
          "metadata": {},
          "execution_count": 281
        }
      ]
    },
    {
      "cell_type": "code",
      "source": [
        "# Create a list to store all the accuracies\n",
        "scores = []\n",
        "\n",
        "# For eah of the values above we can treat as a threshold\n",
        "for t in thresholds:\n",
        "\n",
        "  # Store the Y prediction we use t threshold list intead of has 50% or more\n",
        "  # churn = y_pred >= 0.5 <-- THIS LINE OF CODE IT WAS BEFORE\n",
        "  # NEW LINE OF CODE:\n",
        "  churn_decision = (y_pred >= t)\n",
        "\n",
        "  # Check how many decisions are correct\n",
        "  score = (y_val == churn_decision).mean()\n",
        "\n",
        "  # Print the score with some formatation\n",
        "  print('%.2f %.3f' % (t,score))\n",
        "\n",
        "  # Append the list scores with accuracy\n",
        "  scores.append(score)\n",
        "\n",
        "  # below the 0.50 its the best threshold for this specif problem"
      ],
      "metadata": {
        "colab": {
          "base_uri": "https://localhost:8080/"
        },
        "id": "eIUJj47VNzAZ",
        "outputId": "6d271ddb-15cf-4909-967d-851823ebf00d"
      },
      "execution_count": 282,
      "outputs": [
        {
          "output_type": "stream",
          "name": "stdout",
          "text": [
            "0.00 0.261\n",
            "0.05 0.501\n",
            "0.10 0.595\n",
            "0.15 0.640\n",
            "0.20 0.690\n",
            "0.25 0.730\n",
            "0.30 0.755\n",
            "0.35 0.767\n",
            "0.40 0.782\n",
            "0.45 0.795\n",
            "0.50 0.802\n",
            "0.55 0.790\n",
            "0.60 0.790\n",
            "0.65 0.788\n",
            "0.70 0.774\n",
            "0.75 0.752\n",
            "0.80 0.742\n",
            "0.85 0.739\n",
            "0.90 0.739\n",
            "0.95 0.739\n",
            "1.00 0.739\n"
          ]
        }
      ]
    },
    {
      "cell_type": "code",
      "source": [
        "# Print the list scores with accuracies\n",
        "scores"
      ],
      "metadata": {
        "colab": {
          "base_uri": "https://localhost:8080/"
        },
        "id": "k0iq-FlDQXhX",
        "outputId": "af2fea91-69d9-43b8-a7ce-a83eae9f044c"
      },
      "execution_count": 283,
      "outputs": [
        {
          "output_type": "execute_result",
          "data": {
            "text/plain": [
              "[0.26129032258064516,\n",
              " 0.5010752688172043,\n",
              " 0.5946236559139785,\n",
              " 0.6403225806451613,\n",
              " 0.6897849462365592,\n",
              " 0.7295698924731183,\n",
              " 0.7548387096774194,\n",
              " 0.7672043010752688,\n",
              " 0.7817204301075269,\n",
              " 0.7951612903225806,\n",
              " 0.8016129032258065,\n",
              " 0.7903225806451613,\n",
              " 0.7897849462365591,\n",
              " 0.7881720430107527,\n",
              " 0.7736559139784946,\n",
              " 0.7521505376344086,\n",
              " 0.7419354838709677,\n",
              " 0.7387096774193549,\n",
              " 0.7387096774193549,\n",
              " 0.7387096774193549,\n",
              " 0.7387096774193549]"
            ]
          },
          "metadata": {},
          "execution_count": 283
        }
      ]
    },
    {
      "cell_type": "code",
      "source": [
        "# Plot the list scores with accuracies\n",
        "plt.plot(thresholds, scores) \n",
        "# x-axis is the thresholds\n",
        "# y-axis is the scores"
      ],
      "metadata": {
        "colab": {
          "base_uri": "https://localhost:8080/",
          "height": 283
        },
        "id": "hwbPmLeLQwa-",
        "outputId": "46e0059d-9a3d-4b70-8657-837735b1907f"
      },
      "execution_count": 284,
      "outputs": [
        {
          "output_type": "execute_result",
          "data": {
            "text/plain": [
              "[<matplotlib.lines.Line2D at 0x7f24ad860510>]"
            ]
          },
          "metadata": {},
          "execution_count": 284
        },
        {
          "output_type": "display_data",
          "data": {
            "text/plain": [
              "<Figure size 432x288 with 1 Axes>"
            ],
            "image/png": "[encoded data removed]"
          },
          "metadata": {
            "needs_background": "light"
          }
        }
      ]
    },
    {
      "cell_type": "code",
      "source": [
        "# doing the same above but now with sklearn:\n",
        "\n",
        "# Import the package accuracy score from sklearn\n",
        "from sklearn.metrics import accuracy_score"
      ],
      "metadata": {
        "id": "Q4vFDX2nRKLG"
      },
      "execution_count": 285,
      "outputs": []
    },
    {
      "cell_type": "code",
      "source": [
        "# Use the function accuracy score from sklearn\n",
        "accuracy_score(y_val, churn_decision)"
      ],
      "metadata": {
        "colab": {
          "base_uri": "https://localhost:8080/"
        },
        "id": "iQtOxGngSneL",
        "outputId": "2386227f-77c5-4e84-bbb0-e3e6b4a4aff9"
      },
      "execution_count": 286,
      "outputs": [
        {
          "output_type": "execute_result",
          "data": {
            "text/plain": [
              "0.7387096774193549"
            ]
          },
          "metadata": {},
          "execution_count": 286
        }
      ]
    },
    {
      "cell_type": "code",
      "source": [
        "# Use the function accuracy score from sklearn with the threshold list\n",
        "\n",
        "# Use the function linspace to generate numbers from 0 to 1 with size of the array 21 elements\n",
        "thresholds = np.linspace(0, 1, 21)\n",
        "\n",
        "# Create a list to store all the accuracies\n",
        "scores = []\n",
        "\n",
        "# For eah of the values above we can treat as a threshold\n",
        "for t in thresholds:\n",
        "\n",
        "  # Store the result of the functin accuracy score\n",
        "  score = accuracy_score(y_val, y_pred >= t)\n",
        "\n",
        "  # Print the score with some formatation\n",
        "  print('%.2f %.3f' % (t,score))\n",
        "\n",
        "  # Append the list scores with accuracy\n",
        "  scores.append(score)\n",
        "\n",
        "# we can see below the values are exactly the same"
      ],
      "metadata": {
        "colab": {
          "base_uri": "https://localhost:8080/"
        },
        "id": "ICL2pEHwS2sV",
        "outputId": "60a7404b-0982-4c0a-82b8-501c5530fe3b"
      },
      "execution_count": 287,
      "outputs": [
        {
          "output_type": "stream",
          "name": "stdout",
          "text": [
            "0.00 0.261\n",
            "0.05 0.501\n",
            "0.10 0.595\n",
            "0.15 0.640\n",
            "0.20 0.690\n",
            "0.25 0.730\n",
            "0.30 0.755\n",
            "0.35 0.767\n",
            "0.40 0.782\n",
            "0.45 0.795\n",
            "0.50 0.802\n",
            "0.55 0.790\n",
            "0.60 0.790\n",
            "0.65 0.788\n",
            "0.70 0.774\n",
            "0.75 0.752\n",
            "0.80 0.742\n",
            "0.85 0.739\n",
            "0.90 0.739\n",
            "0.95 0.739\n",
            "1.00 0.739\n"
          ]
        }
      ]
    },
    {
      "cell_type": "code",
      "source": [
        "# from the plot above we can see for the threshold above of 1.0\n",
        "# we don't have more values the last score is 0.739 or 73.9% this accuracy its pretty decent\n",
        "# remember our model was 80% accurate  \n",
        "# but now with our dummy model is 73.9% where predicts how many customers are not churning\n",
        "\n",
        "# Use a special package collections from Python to count things\n",
        "from collections import Counter\n",
        "\n",
        "# Use the function counter from collections to count how many are true or false\n",
        "# the line below it predicts how many customers are not churning\n",
        "Counter(y_pred >= 1.0)\n",
        "\n",
        "# below we can see the counter only count false values"
      ],
      "metadata": {
        "colab": {
          "base_uri": "https://localhost:8080/"
        },
        "id": "dY4JcwQzX-5G",
        "outputId": "6a3b14e5-1435-43d2-f1f0-d0314aa88b86"
      },
      "execution_count": 288,
      "outputs": [
        {
          "output_type": "execute_result",
          "data": {
            "text/plain": [
              "Counter({False: 1860})"
            ]
          },
          "metadata": {},
          "execution_count": 288
        }
      ]
    },
    {
      "cell_type": "code",
      "source": [
        "# Confusion table:\n",
        "\n",
        "# . Different types of errors and correct decisions\n",
        "# . Arranging them in a table\n",
        "\n",
        "# Create an array for customers are really churn and this is for case validations are 1\n",
        "actual_positive = (y_val == 1)\n",
        "\n",
        "# Create an array for customers are not going to churn and this is for case validations are 0\n",
        "actual_negative = (y_val == 0)\n",
        "\n",
        "# the arrays above they will store true's and falses values\n",
        "actual_positive"
      ],
      "metadata": {
        "colab": {
          "base_uri": "https://localhost:8080/"
        },
        "id": "EPSo2Ok3ZBgB",
        "outputId": "460aa0d3-703b-4826-d34b-f5e2ab576f81"
      },
      "execution_count": 289,
      "outputs": [
        {
          "output_type": "execute_result",
          "data": {
            "text/plain": [
              "array([False,  True, False, ..., False, False, False])"
            ]
          },
          "metadata": {},
          "execution_count": 289
        }
      ]
    },
    {
      "cell_type": "code",
      "source": [
        "# Define the threshold for positive and negative scores\n",
        "t = 0.5\n",
        "\n",
        "# Store the positive predictions\n",
        "predict_positive = (y_pred >= t)\n",
        "\n",
        "# Store the negative predictions\n",
        "predict_negative = (y_pred < t)\n",
        "\n",
        "# Combine in one the predictions and actual positives values\n",
        "predict_positive & actual_positive\n",
        "# note: the way it combines the trues and falses is:\n",
        "# true and true is equal to true\n",
        "# false and true is equal to false\n",
        "# false and false is equal to false\n",
        "\n",
        "# note: the & operator it computes the element wise logical end"
      ],
      "metadata": {
        "colab": {
          "base_uri": "https://localhost:8080/"
        },
        "id": "xnBlUuuJfzo3",
        "outputId": "0cf4f39c-55fa-488a-f1b8-a34c3f178437"
      },
      "execution_count": 290,
      "outputs": [
        {
          "output_type": "execute_result",
          "data": {
            "text/plain": [
              "array([False, False, False, ..., False, False, False])"
            ]
          },
          "metadata": {},
          "execution_count": 290
        }
      ]
    },
    {
      "cell_type": "code",
      "source": [
        "# Check how many predictions and actual positives are\n",
        "(predict_positive & actual_positive).sum()"
      ],
      "metadata": {
        "colab": {
          "base_uri": "https://localhost:8080/"
        },
        "id": "5WlhLpvEgWAo",
        "outputId": "50004a5a-9ddc-4fa6-ce43-d678aaa9110b"
      },
      "execution_count": 291,
      "outputs": [
        {
          "output_type": "execute_result",
          "data": {
            "text/plain": [
              "289"
            ]
          },
          "metadata": {},
          "execution_count": 291
        }
      ]
    },
    {
      "cell_type": "code",
      "source": [
        "# Store the true positive values in a variable\n",
        "tp = (predict_positive & actual_positive).sum()\n",
        "tp"
      ],
      "metadata": {
        "colab": {
          "base_uri": "https://localhost:8080/"
        },
        "id": "LgL9fF8diS9u",
        "outputId": "e9d557dd-cdce-4898-f5d2-dfe444235c41"
      },
      "execution_count": 292,
      "outputs": [
        {
          "output_type": "execute_result",
          "data": {
            "text/plain": [
              "289"
            ]
          },
          "metadata": {},
          "execution_count": 292
        }
      ]
    },
    {
      "cell_type": "code",
      "source": [
        "# Store the true negatives values in a variable\n",
        "tn = (predict_negative & actual_negative).sum()\n",
        "tn"
      ],
      "metadata": {
        "colab": {
          "base_uri": "https://localhost:8080/"
        },
        "id": "u0scjpMaiqtq",
        "outputId": "8a43fb53-0044-48a2-9a9a-1f669ed96181"
      },
      "execution_count": 293,
      "outputs": [
        {
          "output_type": "execute_result",
          "data": {
            "text/plain": [
              "1202"
            ]
          },
          "metadata": {},
          "execution_count": 293
        }
      ]
    },
    {
      "cell_type": "code",
      "source": [
        "# Store the false positive values in a variable\n",
        "fp = (predict_positive & actual_negative).sum()\n",
        "fp"
      ],
      "metadata": {
        "colab": {
          "base_uri": "https://localhost:8080/"
        },
        "id": "de1FIV-cjVIs",
        "outputId": "2f52f24b-fe3d-454d-a4a3-49f0b7884115"
      },
      "execution_count": 294,
      "outputs": [
        {
          "output_type": "execute_result",
          "data": {
            "text/plain": [
              "172"
            ]
          },
          "metadata": {},
          "execution_count": 294
        }
      ]
    },
    {
      "cell_type": "code",
      "source": [
        "# Store the false negatives values in a variable\n",
        "fn = (predict_negative & actual_positive).sum()\n",
        "fn"
      ],
      "metadata": {
        "colab": {
          "base_uri": "https://localhost:8080/"
        },
        "id": "ULH5zeD7j_To",
        "outputId": "6f28c59f-e466-4477-ae17-cbed6c82429a"
      },
      "execution_count": 295,
      "outputs": [
        {
          "output_type": "execute_result",
          "data": {
            "text/plain": [
              "197"
            ]
          },
          "metadata": {},
          "execution_count": 295
        }
      ]
    },
    {
      "cell_type": "code",
      "source": [
        "# Create array with the confusion matrix\n",
        "confusion_matrix = np.array([\n",
        "    [tn, fp],\n",
        "    [fn, tp]\n",
        "])"
      ],
      "metadata": {
        "id": "msBRvCNkkbo3"
      },
      "execution_count": 296,
      "outputs": []
    },
    {
      "cell_type": "code",
      "source": [
        "# Print the array with the confusion matrix\n",
        "confusion_matrix\n",
        "\n",
        "# below we can see the have more false negatives then false positives\n",
        "# false positives are the customers get a promotional email\n",
        "# even though they are not going to churn, so we actually lose some money\n",
        "# by giving them the discount so they are not going to churn but we given them discount\n",
        "\n",
        "# the false negative we don't send to the customers the email because they will leave\n",
        "# where are losing profit because we do not mange to retain these customers and they leave\n",
        "\n",
        "# we have different types of errors and the false negatives are more difficult to catch so\n",
        "# we have a lot more false negatives than false positives so have this situation now we know\n",
        "# what kind of errors the model makes"
      ],
      "metadata": {
        "colab": {
          "base_uri": "https://localhost:8080/"
        },
        "id": "3V2OYxWylYsV",
        "outputId": "5267b11d-0a3a-4783-aa16-0aea7f3ec5f3"
      },
      "execution_count": 297,
      "outputs": [
        {
          "output_type": "execute_result",
          "data": {
            "text/plain": [
              "array([[1202,  172],\n",
              "       [ 197,  289]])"
            ]
          },
          "metadata": {},
          "execution_count": 297
        }
      ]
    },
    {
      "cell_type": "code",
      "source": [
        "# to normalize the confusion matrix above instead of having absolute numbers we can have relative \n",
        "# numbers, so we can have percents\n",
        "\n",
        "# Normalize the confusion matrix with percents\n",
        "(confusion_matrix / confusion_matrix.sum()).round(2)\n",
        "\n",
        "# 65% and 16% are correct predictions\n",
        "# 9% and 11% are incorrect predictions\n",
        "\n",
        "# we can conclude with our accuracy = 80% is 65% + 15% (not 16% because of the rouding)\n",
        "# this is how we get our accuracy of 80%"
      ],
      "metadata": {
        "colab": {
          "base_uri": "https://localhost:8080/"
        },
        "id": "li5cnQCxlfOe",
        "outputId": "0f83ff12-6839-4a17-c776-7a2a09f3e174"
      },
      "execution_count": 298,
      "outputs": [
        {
          "output_type": "execute_result",
          "data": {
            "text/plain": [
              "array([[0.65, 0.09],\n",
              "       [0.11, 0.16]])"
            ]
          },
          "metadata": {},
          "execution_count": 298
        }
      ]
    },
    {
      "cell_type": "code",
      "source": [
        "# Precision and Recall:\n",
        "\n",
        "# Precision and recall are metrics for evaluating binary classification models\n",
        "\n",
        "# We can express accurcy as sum of true positive TP plus true negative TN\n",
        "# and we divide that by the total number of all the observations which is:\n",
        "# TP + TN + FP + FN\n",
        "\n",
        "# Express accuracy of our model\n",
        "(tp + tn) / (tp + tn + fp + fn)"
      ],
      "metadata": {
        "id": "F7WfLtBRoLKR",
        "colab": {
          "base_uri": "https://localhost:8080/"
        },
        "outputId": "0bdc0806-a80b-4ba3-a8ce-ed902796c3fc"
      },
      "execution_count": 299,
      "outputs": [
        {
          "output_type": "execute_result",
          "data": {
            "text/plain": [
              "0.8016129032258065"
            ]
          },
          "metadata": {},
          "execution_count": 299
        }
      ]
    },
    {
      "cell_type": "code",
      "source": [
        "# Precision:\n",
        "\n",
        "# Precision tell us how many positive predictions turned out to be correct\n",
        "# or more like not how many but fraction of correct positive predictions \n",
        "# so it means that we predict some customers as churning and then out of those\n",
        "# how many are identified correctly\n",
        "\n",
        "# Precision tell us among those customers that we predicted as churning what is\n",
        "# the fraction of correct predictions \n",
        "\n",
        "# Calculate the precision of our model\n",
        "p = tp / (tp + fp)\n",
        "p"
      ],
      "metadata": {
        "colab": {
          "base_uri": "https://localhost:8080/"
        },
        "id": "uYvuDn3qrySY",
        "outputId": "139786d1-3b60-455e-a5ca-c421f79e38e8"
      },
      "execution_count": 300,
      "outputs": [
        {
          "output_type": "execute_result",
          "data": {
            "text/plain": [
              "0.6268980477223427"
            ]
          },
          "metadata": {},
          "execution_count": 300
        }
      ]
    },
    {
      "cell_type": "code",
      "source": [
        "# the value above the 62% means we going to send a promotional email to 461 customers\n",
        "\n",
        "# Print total of customers are true positive and false positive\n",
        "tp + fp"
      ],
      "metadata": {
        "colab": {
          "base_uri": "https://localhost:8080/"
        },
        "id": "3OyU70kjyRkJ",
        "outputId": "be50bc7f-3278-4d94-e21e-84fdf8da10a1"
      },
      "execution_count": 301,
      "outputs": [
        {
          "output_type": "execute_result",
          "data": {
            "text/plain": [
              "461"
            ]
          },
          "metadata": {},
          "execution_count": 301
        }
      ]
    },
    {
      "cell_type": "code",
      "source": [
        "# Print total of customers are going to churn\n",
        "tp"
      ],
      "metadata": {
        "colab": {
          "base_uri": "https://localhost:8080/"
        },
        "id": "QpGg83W6zHu5",
        "outputId": "b8b23728-57d9-4b64-b264-3cfdc0bc4259"
      },
      "execution_count": 302,
      "outputs": [
        {
          "output_type": "execute_result",
          "data": {
            "text/plain": [
              "289"
            ]
          },
          "metadata": {},
          "execution_count": 302
        }
      ]
    },
    {
      "cell_type": "code",
      "source": [
        "# If precision is 62% it means that approximately 38% are mistakes\n",
        "# so people who are not supposed to get this promotional email but \n",
        "# they get it anyway this is what precision can tell us\n",
        "\n",
        "# Now lets see Recall Precision:\n",
        "# Recall we look at fraction of churning customers that we identified correctly\n",
        "# or positive examples\n",
        "\n",
        "# Calculate the Recall Precision of our model\n",
        "r = tp / (tp + fn)\n",
        "r"
      ],
      "metadata": {
        "colab": {
          "base_uri": "https://localhost:8080/"
        },
        "id": "hN4Z7WR75-F6",
        "outputId": "e685f267-0591-4afb-98c8-7c0366b1dd3d"
      },
      "execution_count": 303,
      "outputs": [
        {
          "output_type": "execute_result",
          "data": {
            "text/plain": [
              "0.5946502057613169"
            ]
          },
          "metadata": {},
          "execution_count": 303
        }
      ]
    },
    {
      "cell_type": "code",
      "source": [
        "# Print total of customers are true positive and false negative\n",
        "tp + fn"
      ],
      "metadata": {
        "colab": {
          "base_uri": "https://localhost:8080/"
        },
        "id": "b4aKQlVK8NV8",
        "outputId": "00c9bb8f-15e7-4a47-b19a-25566cc346f0"
      },
      "execution_count": 304,
      "outputs": [
        {
          "output_type": "execute_result",
          "data": {
            "text/plain": [
              "486"
            ]
          },
          "metadata": {},
          "execution_count": 304
        }
      ]
    },
    {
      "cell_type": "code",
      "source": [
        "# The recall precision is 59% and 41% means customers that are churning we\n",
        "# fail to identfy them\n",
        "\n",
        "# Conclusion:\n",
        "# Accuracy  = 80% \n",
        "# Precision = 62%  \n",
        "# Recall    = 59% \n",
        "\n",
        "# Accuracy of 80% is pretty high number it feels our model must be very accurate\n",
        "# but when we look at Precision and Recall we see that our model is not thaat good\n",
        "# so for the purpose we want to use so we want to identify churning users so for\n",
        "# this purpose accuracy is not the best metric because when we look at this we think\n",
        "# okay model is doing pretty well but when look at precision and recall we see we\n",
        "# failed to identify this customers and we actually sent a promotional email\n",
        "\n",
        "# Accuracy can be misleading and that's why it's useful to look at metrics like precision and recall"
      ],
      "metadata": {
        "id": "imUjg_j-8fYf"
      },
      "execution_count": 305,
      "outputs": []
    },
    {
      "cell_type": "code",
      "source": [
        "# ROC Curves:\n",
        "\n",
        "# ROC stands for receiver operating characteristics\n",
        "# is a way of describing the performance of a binary classification model\n",
        "# with ROCs we are interrested in two things or in two numbers:\n",
        "# first number is FPR false positive rate\n",
        "# second number is TPR true positive rate\n",
        "# both these metrics are computed from the values of the confusion matrix\n",
        "\n",
        "# Calculate the TPR true positive rate\n",
        "tpr = tp / (tp + fn)\n",
        "tpr"
      ],
      "metadata": {
        "colab": {
          "base_uri": "https://localhost:8080/"
        },
        "id": "wMO-GGfcAWUQ",
        "outputId": "e37d2001-cf78-4419-9b7d-1c7b7ab0ab4f"
      },
      "execution_count": 306,
      "outputs": [
        {
          "output_type": "execute_result",
          "data": {
            "text/plain": [
              "0.5946502057613169"
            ]
          },
          "metadata": {},
          "execution_count": 306
        }
      ]
    },
    {
      "cell_type": "code",
      "source": [
        "# Print the recall we can see its same as TPR\n",
        "r"
      ],
      "metadata": {
        "colab": {
          "base_uri": "https://localhost:8080/"
        },
        "id": "dxRCWA4eH_PP",
        "outputId": "916260c7-1893-4d34-f923-213cb200e984"
      },
      "execution_count": 307,
      "outputs": [
        {
          "output_type": "execute_result",
          "data": {
            "text/plain": [
              "0.5946502057613169"
            ]
          },
          "metadata": {},
          "execution_count": 307
        }
      ]
    },
    {
      "cell_type": "code",
      "source": [
        "# Calculate the FPR false positive rate\n",
        "fpr = fp / (fp + tn)\n",
        "fpr\n",
        "\n",
        "# the value below the 12% means that for all negative examples\n",
        "# 12% are still predicted incorrectly"
      ],
      "metadata": {
        "colab": {
          "base_uri": "https://localhost:8080/"
        },
        "id": "xDPzKW1QHs39",
        "outputId": "c2f50726-c2eb-44f9-dbfb-bcd178d552e6"
      },
      "execution_count": 308,
      "outputs": [
        {
          "output_type": "execute_result",
          "data": {
            "text/plain": [
              "0.12518195050946143"
            ]
          },
          "metadata": {},
          "execution_count": 308
        }
      ]
    },
    {
      "cell_type": "code",
      "source": [
        "# ROC is good because it looks at all the possible thresholds\n",
        "\n",
        "# Create a list called scores\n",
        "scores = []\n",
        "\n",
        "# Compute the ROC for all possible thresholds using the function linspace\n",
        "thresholds = np.linspace(0,1, 101)\n",
        "\n",
        "# Create for loop using the thresholds list\n",
        "for t in thresholds:\n",
        "\n",
        "  # Create an array for customers are really churn and this is for case validations are 1\n",
        "  actual_positive = (y_val == 1)\n",
        "\n",
        "  # Create an array for customers are not going to churn and this is for case validations are 0\n",
        "  actual_negative = (y_val == 0)\n",
        "\n",
        "  # Store the positive predictions\n",
        "  predict_positive = (y_pred >= t)\n",
        "\n",
        "  # Store the negative predictions\n",
        "  predict_negative = (y_pred < t)\n",
        "\n",
        "  # Store the true positive values in a variable\n",
        "  tp = (predict_positive & actual_positive).sum()\n",
        "\n",
        "  # Store the true negatives values in a variable\n",
        "  tn = (predict_negative & actual_negative).sum()\n",
        "\n",
        "  # Store the false positive values in a variable\n",
        "  fp = (predict_positive & actual_negative).sum()\n",
        "\n",
        "  # Store the false negatives values in a variable\n",
        "  fn = (predict_negative & actual_positive).sum()\n",
        "\n",
        "  # Append a list called scores\n",
        "  scores.append((t, tp, fp, fn, tn))"
      ],
      "metadata": {
        "id": "rSlC3I14I-Cg"
      },
      "execution_count": 309,
      "outputs": []
    },
    {
      "cell_type": "code",
      "source": [
        "# Print the scores list with results from the ROC\n",
        "scores"
      ],
      "metadata": {
        "colab": {
          "base_uri": "https://localhost:8080/"
        },
        "id": "QPdttK1cMnqR",
        "outputId": "623fe5e7-db42-4ef8-8d9e-dafc453f8e77"
      },
      "execution_count": 310,
      "outputs": [
        {
          "output_type": "execute_result",
          "data": {
            "text/plain": [
              "[(0.0, 486, 1374, 0, 0),\n",
              " (0.01, 483, 1190, 3, 184),\n",
              " (0.02, 481, 1074, 5, 300),\n",
              " (0.03, 478, 1011, 8, 363),\n",
              " (0.04, 478, 970, 8, 404),\n",
              " (0.05, 475, 917, 11, 457),\n",
              " (0.06, 474, 879, 12, 495),\n",
              " (0.07, 469, 837, 17, 537),\n",
              " (0.08, 469, 799, 17, 575),\n",
              " (0.09, 462, 764, 24, 610),\n",
              " (0.1, 458, 726, 28, 648),\n",
              " (0.11, 454, 709, 32, 665),\n",
              " (0.12, 452, 673, 34, 701),\n",
              " (0.13, 449, 654, 37, 720),\n",
              " (0.14, 446, 641, 40, 733),\n",
              " (0.15, 445, 628, 41, 746),\n",
              " (0.16, 443, 595, 43, 779),\n",
              " (0.17, 439, 580, 47, 794),\n",
              " (0.18, 432, 554, 54, 820),\n",
              " (0.19, 427, 535, 59, 839),\n",
              " (0.2, 421, 512, 65, 862),\n",
              " (0.21, 414, 488, 72, 886),\n",
              " (0.22, 413, 470, 73, 904),\n",
              " (0.23, 413, 452, 73, 922),\n",
              " (0.24, 411, 442, 75, 932),\n",
              " (0.25, 409, 426, 77, 948),\n",
              " (0.26, 401, 412, 85, 962),\n",
              " (0.27, 393, 397, 93, 977),\n",
              " (0.28, 386, 382, 100, 992),\n",
              " (0.29, 383, 369, 103, 1005),\n",
              " (0.3, 380, 350, 106, 1024),\n",
              " (0.31, 375, 341, 111, 1033),\n",
              " (0.32, 368, 330, 118, 1044),\n",
              " (0.33, 366, 323, 120, 1051),\n",
              " (0.34, 359, 314, 127, 1060),\n",
              " (0.35000000000000003, 358, 305, 128, 1069),\n",
              " (0.36, 353, 293, 133, 1081),\n",
              " (0.37, 349, 286, 137, 1088),\n",
              " (0.38, 346, 279, 140, 1095),\n",
              " (0.39, 340, 268, 146, 1106),\n",
              " (0.4, 337, 257, 149, 1117),\n",
              " (0.41000000000000003, 335, 250, 151, 1124),\n",
              " (0.42, 331, 242, 155, 1132),\n",
              " (0.43, 326, 235, 160, 1139),\n",
              " (0.44, 321, 224, 165, 1150),\n",
              " (0.45, 318, 213, 168, 1161),\n",
              " (0.46, 309, 199, 177, 1175),\n",
              " (0.47000000000000003, 301, 193, 185, 1181),\n",
              " (0.48, 298, 189, 188, 1185),\n",
              " (0.49, 293, 181, 193, 1193),\n",
              " (0.5, 289, 172, 197, 1202),\n",
              " (0.51, 277, 164, 209, 1210),\n",
              " (0.52, 272, 154, 214, 1220),\n",
              " (0.53, 263, 151, 223, 1223),\n",
              " (0.54, 252, 144, 234, 1230),\n",
              " (0.55, 239, 143, 247, 1231),\n",
              " (0.56, 229, 132, 257, 1242),\n",
              " (0.5700000000000001, 221, 125, 265, 1249),\n",
              " (0.58, 215, 120, 271, 1254),\n",
              " (0.59, 206, 114, 280, 1260),\n",
              " (0.6, 200, 105, 286, 1269),\n",
              " (0.61, 183, 94, 303, 1280),\n",
              " (0.62, 175, 83, 311, 1291),\n",
              " (0.63, 168, 75, 318, 1299),\n",
              " (0.64, 159, 70, 327, 1304),\n",
              " (0.65, 153, 61, 333, 1313),\n",
              " (0.66, 147, 58, 339, 1316),\n",
              " (0.67, 132, 52, 354, 1322),\n",
              " (0.68, 124, 45, 362, 1329),\n",
              " (0.6900000000000001, 108, 40, 378, 1334),\n",
              " (0.7000000000000001, 99, 34, 387, 1340),\n",
              " (0.71, 81, 32, 405, 1342),\n",
              " (0.72, 68, 31, 418, 1343),\n",
              " (0.73, 60, 22, 426, 1352),\n",
              " (0.74, 49, 21, 437, 1353),\n",
              " (0.75, 44, 19, 442, 1355),\n",
              " (0.76, 34, 15, 452, 1359),\n",
              " (0.77, 30, 15, 456, 1359),\n",
              " (0.78, 21, 10, 465, 1364),\n",
              " (0.79, 13, 5, 473, 1369),\n",
              " (0.8, 7, 1, 479, 1373),\n",
              " (0.81, 5, 1, 481, 1373),\n",
              " (0.8200000000000001, 2, 1, 484, 1373),\n",
              " (0.8300000000000001, 1, 0, 485, 1374),\n",
              " (0.84, 0, 0, 486, 1374),\n",
              " (0.85, 0, 0, 486, 1374),\n",
              " (0.86, 0, 0, 486, 1374),\n",
              " (0.87, 0, 0, 486, 1374),\n",
              " (0.88, 0, 0, 486, 1374),\n",
              " (0.89, 0, 0, 486, 1374),\n",
              " (0.9, 0, 0, 486, 1374),\n",
              " (0.91, 0, 0, 486, 1374),\n",
              " (0.92, 0, 0, 486, 1374),\n",
              " (0.93, 0, 0, 486, 1374),\n",
              " (0.9400000000000001, 0, 0, 486, 1374),\n",
              " (0.9500000000000001, 0, 0, 486, 1374),\n",
              " (0.96, 0, 0, 486, 1374),\n",
              " (0.97, 0, 0, 486, 1374),\n",
              " (0.98, 0, 0, 486, 1374),\n",
              " (0.99, 0, 0, 486, 1374),\n",
              " (1.0, 0, 0, 486, 1374)]"
            ]
          },
          "metadata": {},
          "execution_count": 310
        }
      ]
    },
    {
      "cell_type": "code",
      "source": [
        "# Turn the scores list with results from the ROC into a dataframe\n",
        "pd.DataFrame(scores)"
      ],
      "metadata": {
        "colab": {
          "base_uri": "https://localhost:8080/",
          "height": 424
        },
        "id": "dBFbtf8VMsCO",
        "outputId": "195073b4-7fe3-4e42-eb0d-1bfd282f2def"
      },
      "execution_count": 311,
      "outputs": [
        {
          "output_type": "execute_result",
          "data": {
            "text/plain": [
              "        0    1     2    3     4\n",
              "0    0.00  486  1374    0     0\n",
              "1    0.01  483  1190    3   184\n",
              "2    0.02  481  1074    5   300\n",
              "3    0.03  478  1011    8   363\n",
              "4    0.04  478   970    8   404\n",
              "..    ...  ...   ...  ...   ...\n",
              "96   0.96    0     0  486  1374\n",
              "97   0.97    0     0  486  1374\n",
              "98   0.98    0     0  486  1374\n",
              "99   0.99    0     0  486  1374\n",
              "100  1.00    0     0  486  1374\n",
              "\n",
              "[101 rows x 5 columns]"
            ],
            "text/html": [
              "\n",
              "  <div id=\"df-90e704c9-f585-4751-bfec-12f891effcda\">\n",
              "    <div class=\"colab-df-container\">\n",
              "      <div>\n",
              "<style scoped>\n",
              "    .dataframe tbody tr th:only-of-type {\n",
              "        vertical-align: middle;\n",
              "    }\n",
              "\n",
              "    .dataframe tbody tr th {\n",
              "        vertical-align: top;\n",
              "    }\n",
              "\n",
              "    .dataframe thead th {\n",
              "        text-align: right;\n",
              "    }\n",
              "</style>\n",
              "<table border=\"1\" class=\"dataframe\">\n",
              "  <thead>\n",
              "    <tr style=\"text-align: right;\">\n",
              "      <th></th>\n",
              "      <th>0</th>\n",
              "      <th>1</th>\n",
              "      <th>2</th>\n",
              "      <th>3</th>\n",
              "      <th>4</th>\n",
              "    </tr>\n",
              "  </thead>\n",
              "  <tbody>\n",
              "    <tr>\n",
              "      <th>0</th>\n",
              "      <td>0.00</td>\n",
              "      <td>486</td>\n",
              "      <td>1374</td>\n",
              "      <td>0</td>\n",
              "      <td>0</td>\n",
              "    </tr>\n",
              "    <tr>\n",
              "      <th>1</th>\n",
              "      <td>0.01</td>\n",
              "      <td>483</td>\n",
              "      <td>1190</td>\n",
              "      <td>3</td>\n",
              "      <td>184</td>\n",
              "    </tr>\n",
              "    <tr>\n",
              "      <th>2</th>\n",
              "      <td>0.02</td>\n",
              "      <td>481</td>\n",
              "      <td>1074</td>\n",
              "      <td>5</td>\n",
              "      <td>300</td>\n",
              "    </tr>\n",
              "    <tr>\n",
              "      <th>3</th>\n",
              "      <td>0.03</td>\n",
              "      <td>478</td>\n",
              "      <td>1011</td>\n",
              "      <td>8</td>\n",
              "      <td>363</td>\n",
              "    </tr>\n",
              "    <tr>\n",
              "      <th>4</th>\n",
              "      <td>0.04</td>\n",
              "      <td>478</td>\n",
              "      <td>970</td>\n",
              "      <td>8</td>\n",
              "      <td>404</td>\n",
              "    </tr>\n",
              "    <tr>\n",
              "      <th>...</th>\n",
              "      <td>...</td>\n",
              "      <td>...</td>\n",
              "      <td>...</td>\n",
              "      <td>...</td>\n",
              "      <td>...</td>\n",
              "    </tr>\n",
              "    <tr>\n",
              "      <th>96</th>\n",
              "      <td>0.96</td>\n",
              "      <td>0</td>\n",
              "      <td>0</td>\n",
              "      <td>486</td>\n",
              "      <td>1374</td>\n",
              "    </tr>\n",
              "    <tr>\n",
              "      <th>97</th>\n",
              "      <td>0.97</td>\n",
              "      <td>0</td>\n",
              "      <td>0</td>\n",
              "      <td>486</td>\n",
              "      <td>1374</td>\n",
              "    </tr>\n",
              "    <tr>\n",
              "      <th>98</th>\n",
              "      <td>0.98</td>\n",
              "      <td>0</td>\n",
              "      <td>0</td>\n",
              "      <td>486</td>\n",
              "      <td>1374</td>\n",
              "    </tr>\n",
              "    <tr>\n",
              "      <th>99</th>\n",
              "      <td>0.99</td>\n",
              "      <td>0</td>\n",
              "      <td>0</td>\n",
              "      <td>486</td>\n",
              "      <td>1374</td>\n",
              "    </tr>\n",
              "    <tr>\n",
              "      <th>100</th>\n",
              "      <td>1.00</td>\n",
              "      <td>0</td>\n",
              "      <td>0</td>\n",
              "      <td>486</td>\n",
              "      <td>1374</td>\n",
              "    </tr>\n",
              "  </tbody>\n",
              "</table>\n",
              "<p>101 rows × 5 columns</p>\n",
              "</div>\n",
              "      <button class=\"colab-df-convert\" onclick=\"convertToInteractive('df-90e704c9-f585-4751-bfec-12f891effcda')\"\n",
              "              title=\"Convert this dataframe to an interactive table.\"\n",
              "              style=\"display:none;\">\n",
              "        \n",
              "  <svg xmlns=\"http://www.w3.org/2000/svg\" height=\"24px\"viewBox=\"0 0 24 24\"\n",
              "       width=\"24px\">\n",
              "    <path d=\"M0 0h24v24H0V0z\" fill=\"none\"/>\n",
              "    <path d=\"M18.56 5.44l.94 2.06.94-2.06 2.06-.94-2.06-.94-.94-2.06-.94 2.06-2.06.94zm-11 1L8.5 8.5l.94-2.06 2.06-.94-2.06-.94L8.5 2.5l-.94 2.06-2.06.94zm10 10l.94 2.06.94-2.06 2.06-.94-2.06-.94-.94-2.06-.94 2.06-2.06.94z\"/><path d=\"M17.41 7.96l-1.37-1.37c-.4-.4-.92-.59-1.43-.59-.52 0-1.04.2-1.43.59L10.3 9.45l-7.72 7.72c-.78.78-.78 2.05 0 2.83L4 21.41c.39.39.9.59 1.41.59.51 0 1.02-.2 1.41-.59l7.78-7.78 2.81-2.81c.8-.78.8-2.07 0-2.86zM5.41 20L4 18.59l7.72-7.72 1.47 1.35L5.41 20z\"/>\n",
              "  </svg>\n",
              "      </button>\n",
              "      \n",
              "  <style>\n",
              "    .colab-df-container {\n",
              "      display:flex;\n",
              "      flex-wrap:wrap;\n",
              "      gap: 12px;\n",
              "    }\n",
              "\n",
              "    .colab-df-convert {\n",
              "      background-color: #E8F0FE;\n",
              "      border: none;\n",
              "      border-radius: 50%;\n",
              "      cursor: pointer;\n",
              "      display: none;\n",
              "      fill: #1967D2;\n",
              "      height: 32px;\n",
              "      padding: 0 0 0 0;\n",
              "      width: 32px;\n",
              "    }\n",
              "\n",
              "    .colab-df-convert:hover {\n",
              "      background-color: #E2EBFA;\n",
              "      box-shadow: 0px 1px 2px rgba(60, 64, 67, 0.3), 0px 1px 3px 1px rgba(60, 64, 67, 0.15);\n",
              "      fill: #174EA6;\n",
              "    }\n",
              "\n",
              "    [theme=dark] .colab-df-convert {\n",
              "      background-color: #3B4455;\n",
              "      fill: #D2E3FC;\n",
              "    }\n",
              "\n",
              "    [theme=dark] .colab-df-convert:hover {\n",
              "      background-color: #434B5C;\n",
              "      box-shadow: 0px 1px 3px 1px rgba(0, 0, 0, 0.15);\n",
              "      filter: drop-shadow(0px 1px 2px rgba(0, 0, 0, 0.3));\n",
              "      fill: #FFFFFF;\n",
              "    }\n",
              "  </style>\n",
              "\n",
              "      <script>\n",
              "        const buttonEl =\n",
              "          document.querySelector('#df-90e704c9-f585-4751-bfec-12f891effcda button.colab-df-convert');\n",
              "        buttonEl.style.display =\n",
              "          google.colab.kernel.accessAllowed ? 'block' : 'none';\n",
              "\n",
              "        async function convertToInteractive(key) {\n",
              "          const element = document.querySelector('#df-90e704c9-f585-4751-bfec-12f891effcda');\n",
              "          const dataTable =\n",
              "            await google.colab.kernel.invokeFunction('convertToInteractive',\n",
              "                                                     [key], {});\n",
              "          if (!dataTable) return;\n",
              "\n",
              "          const docLinkHtml = 'Like what you see? Visit the ' +\n",
              "            '<a target=\"_blank\" href=https://colab.research.google.com/notebooks/data_table.ipynb>data table notebook</a>'\n",
              "            + ' to learn more about interactive tables.';\n",
              "          element.innerHTML = '';\n",
              "          dataTable['output_type'] = 'display_data';\n",
              "          await google.colab.output.renderOutput(dataTable, element);\n",
              "          const docLink = document.createElement('div');\n",
              "          docLink.innerHTML = docLinkHtml;\n",
              "          element.appendChild(docLink);\n",
              "        }\n",
              "      </script>\n",
              "    </div>\n",
              "  </div>\n",
              "  "
            ]
          },
          "metadata": {},
          "execution_count": 311
        }
      ]
    },
    {
      "cell_type": "code",
      "source": [
        "# Specify the columns names of the dataframe scores\n",
        "columns = ['threshold','tp','fp','fn','tn']\n",
        "df_scores = pd.DataFrame(scores, columns=columns)\n",
        "df_scores"
      ],
      "metadata": {
        "colab": {
          "base_uri": "https://localhost:8080/",
          "height": 424
        },
        "id": "sJ02XvyQNqc7",
        "outputId": "5d811d5b-f053-42fe-9fe8-d6e1c0172fbb"
      },
      "execution_count": 312,
      "outputs": [
        {
          "output_type": "execute_result",
          "data": {
            "text/plain": [
              "     threshold   tp    fp   fn    tn\n",
              "0         0.00  486  1374    0     0\n",
              "1         0.01  483  1190    3   184\n",
              "2         0.02  481  1074    5   300\n",
              "3         0.03  478  1011    8   363\n",
              "4         0.04  478   970    8   404\n",
              "..         ...  ...   ...  ...   ...\n",
              "96        0.96    0     0  486  1374\n",
              "97        0.97    0     0  486  1374\n",
              "98        0.98    0     0  486  1374\n",
              "99        0.99    0     0  486  1374\n",
              "100       1.00    0     0  486  1374\n",
              "\n",
              "[101 rows x 5 columns]"
            ],
            "text/html": [
              "\n",
              "  <div id=\"df-6cbfcdcd-83de-4dc1-b348-c0d35b6b1318\">\n",
              "    <div class=\"colab-df-container\">\n",
              "      <div>\n",
              "<style scoped>\n",
              "    .dataframe tbody tr th:only-of-type {\n",
              "        vertical-align: middle;\n",
              "    }\n",
              "\n",
              "    .dataframe tbody tr th {\n",
              "        vertical-align: top;\n",
              "    }\n",
              "\n",
              "    .dataframe thead th {\n",
              "        text-align: right;\n",
              "    }\n",
              "</style>\n",
              "<table border=\"1\" class=\"dataframe\">\n",
              "  <thead>\n",
              "    <tr style=\"text-align: right;\">\n",
              "      <th></th>\n",
              "      <th>threshold</th>\n",
              "      <th>tp</th>\n",
              "      <th>fp</th>\n",
              "      <th>fn</th>\n",
              "      <th>tn</th>\n",
              "    </tr>\n",
              "  </thead>\n",
              "  <tbody>\n",
              "    <tr>\n",
              "      <th>0</th>\n",
              "      <td>0.00</td>\n",
              "      <td>486</td>\n",
              "      <td>1374</td>\n",
              "      <td>0</td>\n",
              "      <td>0</td>\n",
              "    </tr>\n",
              "    <tr>\n",
              "      <th>1</th>\n",
              "      <td>0.01</td>\n",
              "      <td>483</td>\n",
              "      <td>1190</td>\n",
              "      <td>3</td>\n",
              "      <td>184</td>\n",
              "    </tr>\n",
              "    <tr>\n",
              "      <th>2</th>\n",
              "      <td>0.02</td>\n",
              "      <td>481</td>\n",
              "      <td>1074</td>\n",
              "      <td>5</td>\n",
              "      <td>300</td>\n",
              "    </tr>\n",
              "    <tr>\n",
              "      <th>3</th>\n",
              "      <td>0.03</td>\n",
              "      <td>478</td>\n",
              "      <td>1011</td>\n",
              "      <td>8</td>\n",
              "      <td>363</td>\n",
              "    </tr>\n",
              "    <tr>\n",
              "      <th>4</th>\n",
              "      <td>0.04</td>\n",
              "      <td>478</td>\n",
              "      <td>970</td>\n",
              "      <td>8</td>\n",
              "      <td>404</td>\n",
              "    </tr>\n",
              "    <tr>\n",
              "      <th>...</th>\n",
              "      <td>...</td>\n",
              "      <td>...</td>\n",
              "      <td>...</td>\n",
              "      <td>...</td>\n",
              "      <td>...</td>\n",
              "    </tr>\n",
              "    <tr>\n",
              "      <th>96</th>\n",
              "      <td>0.96</td>\n",
              "      <td>0</td>\n",
              "      <td>0</td>\n",
              "      <td>486</td>\n",
              "      <td>1374</td>\n",
              "    </tr>\n",
              "    <tr>\n",
              "      <th>97</th>\n",
              "      <td>0.97</td>\n",
              "      <td>0</td>\n",
              "      <td>0</td>\n",
              "      <td>486</td>\n",
              "      <td>1374</td>\n",
              "    </tr>\n",
              "    <tr>\n",
              "      <th>98</th>\n",
              "      <td>0.98</td>\n",
              "      <td>0</td>\n",
              "      <td>0</td>\n",
              "      <td>486</td>\n",
              "      <td>1374</td>\n",
              "    </tr>\n",
              "    <tr>\n",
              "      <th>99</th>\n",
              "      <td>0.99</td>\n",
              "      <td>0</td>\n",
              "      <td>0</td>\n",
              "      <td>486</td>\n",
              "      <td>1374</td>\n",
              "    </tr>\n",
              "    <tr>\n",
              "      <th>100</th>\n",
              "      <td>1.00</td>\n",
              "      <td>0</td>\n",
              "      <td>0</td>\n",
              "      <td>486</td>\n",
              "      <td>1374</td>\n",
              "    </tr>\n",
              "  </tbody>\n",
              "</table>\n",
              "<p>101 rows × 5 columns</p>\n",
              "</div>\n",
              "      <button class=\"colab-df-convert\" onclick=\"convertToInteractive('df-6cbfcdcd-83de-4dc1-b348-c0d35b6b1318')\"\n",
              "              title=\"Convert this dataframe to an interactive table.\"\n",
              "              style=\"display:none;\">\n",
              "        \n",
              "  <svg xmlns=\"http://www.w3.org/2000/svg\" height=\"24px\"viewBox=\"0 0 24 24\"\n",
              "       width=\"24px\">\n",
              "    <path d=\"M0 0h24v24H0V0z\" fill=\"none\"/>\n",
              "    <path d=\"M18.56 5.44l.94 2.06.94-2.06 2.06-.94-2.06-.94-.94-2.06-.94 2.06-2.06.94zm-11 1L8.5 8.5l.94-2.06 2.06-.94-2.06-.94L8.5 2.5l-.94 2.06-2.06.94zm10 10l.94 2.06.94-2.06 2.06-.94-2.06-.94-.94-2.06-.94 2.06-2.06.94z\"/><path d=\"M17.41 7.96l-1.37-1.37c-.4-.4-.92-.59-1.43-.59-.52 0-1.04.2-1.43.59L10.3 9.45l-7.72 7.72c-.78.78-.78 2.05 0 2.83L4 21.41c.39.39.9.59 1.41.59.51 0 1.02-.2 1.41-.59l7.78-7.78 2.81-2.81c.8-.78.8-2.07 0-2.86zM5.41 20L4 18.59l7.72-7.72 1.47 1.35L5.41 20z\"/>\n",
              "  </svg>\n",
              "      </button>\n",
              "      \n",
              "  <style>\n",
              "    .colab-df-container {\n",
              "      display:flex;\n",
              "      flex-wrap:wrap;\n",
              "      gap: 12px;\n",
              "    }\n",
              "\n",
              "    .colab-df-convert {\n",
              "      background-color: #E8F0FE;\n",
              "      border: none;\n",
              "      border-radius: 50%;\n",
              "      cursor: pointer;\n",
              "      display: none;\n",
              "      fill: #1967D2;\n",
              "      height: 32px;\n",
              "      padding: 0 0 0 0;\n",
              "      width: 32px;\n",
              "    }\n",
              "\n",
              "    .colab-df-convert:hover {\n",
              "      background-color: #E2EBFA;\n",
              "      box-shadow: 0px 1px 2px rgba(60, 64, 67, 0.3), 0px 1px 3px 1px rgba(60, 64, 67, 0.15);\n",
              "      fill: #174EA6;\n",
              "    }\n",
              "\n",
              "    [theme=dark] .colab-df-convert {\n",
              "      background-color: #3B4455;\n",
              "      fill: #D2E3FC;\n",
              "    }\n",
              "\n",
              "    [theme=dark] .colab-df-convert:hover {\n",
              "      background-color: #434B5C;\n",
              "      box-shadow: 0px 1px 3px 1px rgba(0, 0, 0, 0.15);\n",
              "      filter: drop-shadow(0px 1px 2px rgba(0, 0, 0, 0.3));\n",
              "      fill: #FFFFFF;\n",
              "    }\n",
              "  </style>\n",
              "\n",
              "      <script>\n",
              "        const buttonEl =\n",
              "          document.querySelector('#df-6cbfcdcd-83de-4dc1-b348-c0d35b6b1318 button.colab-df-convert');\n",
              "        buttonEl.style.display =\n",
              "          google.colab.kernel.accessAllowed ? 'block' : 'none';\n",
              "\n",
              "        async function convertToInteractive(key) {\n",
              "          const element = document.querySelector('#df-6cbfcdcd-83de-4dc1-b348-c0d35b6b1318');\n",
              "          const dataTable =\n",
              "            await google.colab.kernel.invokeFunction('convertToInteractive',\n",
              "                                                     [key], {});\n",
              "          if (!dataTable) return;\n",
              "\n",
              "          const docLinkHtml = 'Like what you see? Visit the ' +\n",
              "            '<a target=\"_blank\" href=https://colab.research.google.com/notebooks/data_table.ipynb>data table notebook</a>'\n",
              "            + ' to learn more about interactive tables.';\n",
              "          element.innerHTML = '';\n",
              "          dataTable['output_type'] = 'display_data';\n",
              "          await google.colab.output.renderOutput(dataTable, element);\n",
              "          const docLink = document.createElement('div');\n",
              "          docLink.innerHTML = docLinkHtml;\n",
              "          element.appendChild(docLink);\n",
              "        }\n",
              "      </script>\n",
              "    </div>\n",
              "  </div>\n",
              "  "
            ]
          },
          "metadata": {},
          "execution_count": 312
        }
      ]
    },
    {
      "cell_type": "code",
      "source": [
        "# Print the each tenth record of the scores dataframe\n",
        "df_scores[::10]"
      ],
      "metadata": {
        "colab": {
          "base_uri": "https://localhost:8080/",
          "height": 394
        },
        "id": "hvBEMX-jOF9J",
        "outputId": "e8485b05-597c-410b-8cf0-0bd090214dbf"
      },
      "execution_count": 313,
      "outputs": [
        {
          "output_type": "execute_result",
          "data": {
            "text/plain": [
              "     threshold   tp    fp   fn    tn\n",
              "0          0.0  486  1374    0     0\n",
              "10         0.1  458   726   28   648\n",
              "20         0.2  421   512   65   862\n",
              "30         0.3  380   350  106  1024\n",
              "40         0.4  337   257  149  1117\n",
              "50         0.5  289   172  197  1202\n",
              "60         0.6  200   105  286  1269\n",
              "70         0.7   99    34  387  1340\n",
              "80         0.8    7     1  479  1373\n",
              "90         0.9    0     0  486  1374\n",
              "100        1.0    0     0  486  1374"
            ],
            "text/html": [
              "\n",
              "  <div id=\"df-3674339f-8fa2-43c9-99ca-07b0da036909\">\n",
              "    <div class=\"colab-df-container\">\n",
              "      <div>\n",
              "<style scoped>\n",
              "    .dataframe tbody tr th:only-of-type {\n",
              "        vertical-align: middle;\n",
              "    }\n",
              "\n",
              "    .dataframe tbody tr th {\n",
              "        vertical-align: top;\n",
              "    }\n",
              "\n",
              "    .dataframe thead th {\n",
              "        text-align: right;\n",
              "    }\n",
              "</style>\n",
              "<table border=\"1\" class=\"dataframe\">\n",
              "  <thead>\n",
              "    <tr style=\"text-align: right;\">\n",
              "      <th></th>\n",
              "      <th>threshold</th>\n",
              "      <th>tp</th>\n",
              "      <th>fp</th>\n",
              "      <th>fn</th>\n",
              "      <th>tn</th>\n",
              "    </tr>\n",
              "  </thead>\n",
              "  <tbody>\n",
              "    <tr>\n",
              "      <th>0</th>\n",
              "      <td>0.0</td>\n",
              "      <td>486</td>\n",
              "      <td>1374</td>\n",
              "      <td>0</td>\n",
              "      <td>0</td>\n",
              "    </tr>\n",
              "    <tr>\n",
              "      <th>10</th>\n",
              "      <td>0.1</td>\n",
              "      <td>458</td>\n",
              "      <td>726</td>\n",
              "      <td>28</td>\n",
              "      <td>648</td>\n",
              "    </tr>\n",
              "    <tr>\n",
              "      <th>20</th>\n",
              "      <td>0.2</td>\n",
              "      <td>421</td>\n",
              "      <td>512</td>\n",
              "      <td>65</td>\n",
              "      <td>862</td>\n",
              "    </tr>\n",
              "    <tr>\n",
              "      <th>30</th>\n",
              "      <td>0.3</td>\n",
              "      <td>380</td>\n",
              "      <td>350</td>\n",
              "      <td>106</td>\n",
              "      <td>1024</td>\n",
              "    </tr>\n",
              "    <tr>\n",
              "      <th>40</th>\n",
              "      <td>0.4</td>\n",
              "      <td>337</td>\n",
              "      <td>257</td>\n",
              "      <td>149</td>\n",
              "      <td>1117</td>\n",
              "    </tr>\n",
              "    <tr>\n",
              "      <th>50</th>\n",
              "      <td>0.5</td>\n",
              "      <td>289</td>\n",
              "      <td>172</td>\n",
              "      <td>197</td>\n",
              "      <td>1202</td>\n",
              "    </tr>\n",
              "    <tr>\n",
              "      <th>60</th>\n",
              "      <td>0.6</td>\n",
              "      <td>200</td>\n",
              "      <td>105</td>\n",
              "      <td>286</td>\n",
              "      <td>1269</td>\n",
              "    </tr>\n",
              "    <tr>\n",
              "      <th>70</th>\n",
              "      <td>0.7</td>\n",
              "      <td>99</td>\n",
              "      <td>34</td>\n",
              "      <td>387</td>\n",
              "      <td>1340</td>\n",
              "    </tr>\n",
              "    <tr>\n",
              "      <th>80</th>\n",
              "      <td>0.8</td>\n",
              "      <td>7</td>\n",
              "      <td>1</td>\n",
              "      <td>479</td>\n",
              "      <td>1373</td>\n",
              "    </tr>\n",
              "    <tr>\n",
              "      <th>90</th>\n",
              "      <td>0.9</td>\n",
              "      <td>0</td>\n",
              "      <td>0</td>\n",
              "      <td>486</td>\n",
              "      <td>1374</td>\n",
              "    </tr>\n",
              "    <tr>\n",
              "      <th>100</th>\n",
              "      <td>1.0</td>\n",
              "      <td>0</td>\n",
              "      <td>0</td>\n",
              "      <td>486</td>\n",
              "      <td>1374</td>\n",
              "    </tr>\n",
              "  </tbody>\n",
              "</table>\n",
              "</div>\n",
              "      <button class=\"colab-df-convert\" onclick=\"convertToInteractive('df-3674339f-8fa2-43c9-99ca-07b0da036909')\"\n",
              "              title=\"Convert this dataframe to an interactive table.\"\n",
              "              style=\"display:none;\">\n",
              "        \n",
              "  <svg xmlns=\"http://www.w3.org/2000/svg\" height=\"24px\"viewBox=\"0 0 24 24\"\n",
              "       width=\"24px\">\n",
              "    <path d=\"M0 0h24v24H0V0z\" fill=\"none\"/>\n",
              "    <path d=\"M18.56 5.44l.94 2.06.94-2.06 2.06-.94-2.06-.94-.94-2.06-.94 2.06-2.06.94zm-11 1L8.5 8.5l.94-2.06 2.06-.94-2.06-.94L8.5 2.5l-.94 2.06-2.06.94zm10 10l.94 2.06.94-2.06 2.06-.94-2.06-.94-.94-2.06-.94 2.06-2.06.94z\"/><path d=\"M17.41 7.96l-1.37-1.37c-.4-.4-.92-.59-1.43-.59-.52 0-1.04.2-1.43.59L10.3 9.45l-7.72 7.72c-.78.78-.78 2.05 0 2.83L4 21.41c.39.39.9.59 1.41.59.51 0 1.02-.2 1.41-.59l7.78-7.78 2.81-2.81c.8-.78.8-2.07 0-2.86zM5.41 20L4 18.59l7.72-7.72 1.47 1.35L5.41 20z\"/>\n",
              "  </svg>\n",
              "      </button>\n",
              "      \n",
              "  <style>\n",
              "    .colab-df-container {\n",
              "      display:flex;\n",
              "      flex-wrap:wrap;\n",
              "      gap: 12px;\n",
              "    }\n",
              "\n",
              "    .colab-df-convert {\n",
              "      background-color: #E8F0FE;\n",
              "      border: none;\n",
              "      border-radius: 50%;\n",
              "      cursor: pointer;\n",
              "      display: none;\n",
              "      fill: #1967D2;\n",
              "      height: 32px;\n",
              "      padding: 0 0 0 0;\n",
              "      width: 32px;\n",
              "    }\n",
              "\n",
              "    .colab-df-convert:hover {\n",
              "      background-color: #E2EBFA;\n",
              "      box-shadow: 0px 1px 2px rgba(60, 64, 67, 0.3), 0px 1px 3px 1px rgba(60, 64, 67, 0.15);\n",
              "      fill: #174EA6;\n",
              "    }\n",
              "\n",
              "    [theme=dark] .colab-df-convert {\n",
              "      background-color: #3B4455;\n",
              "      fill: #D2E3FC;\n",
              "    }\n",
              "\n",
              "    [theme=dark] .colab-df-convert:hover {\n",
              "      background-color: #434B5C;\n",
              "      box-shadow: 0px 1px 3px 1px rgba(0, 0, 0, 0.15);\n",
              "      filter: drop-shadow(0px 1px 2px rgba(0, 0, 0, 0.3));\n",
              "      fill: #FFFFFF;\n",
              "    }\n",
              "  </style>\n",
              "\n",
              "      <script>\n",
              "        const buttonEl =\n",
              "          document.querySelector('#df-3674339f-8fa2-43c9-99ca-07b0da036909 button.colab-df-convert');\n",
              "        buttonEl.style.display =\n",
              "          google.colab.kernel.accessAllowed ? 'block' : 'none';\n",
              "\n",
              "        async function convertToInteractive(key) {\n",
              "          const element = document.querySelector('#df-3674339f-8fa2-43c9-99ca-07b0da036909');\n",
              "          const dataTable =\n",
              "            await google.colab.kernel.invokeFunction('convertToInteractive',\n",
              "                                                     [key], {});\n",
              "          if (!dataTable) return;\n",
              "\n",
              "          const docLinkHtml = 'Like what you see? Visit the ' +\n",
              "            '<a target=\"_blank\" href=https://colab.research.google.com/notebooks/data_table.ipynb>data table notebook</a>'\n",
              "            + ' to learn more about interactive tables.';\n",
              "          element.innerHTML = '';\n",
              "          dataTable['output_type'] = 'display_data';\n",
              "          await google.colab.output.renderOutput(dataTable, element);\n",
              "          const docLink = document.createElement('div');\n",
              "          docLink.innerHTML = docLinkHtml;\n",
              "          element.appendChild(docLink);\n",
              "        }\n",
              "      </script>\n",
              "    </div>\n",
              "  </div>\n",
              "  "
            ]
          },
          "metadata": {},
          "execution_count": 313
        }
      ]
    },
    {
      "cell_type": "code",
      "source": [
        "# Compute the true positive rates of the dataframe scores\n",
        "df_scores['tpr'] = df_scores.tp / (df_scores.tp + df_scores.fn)\n",
        "\n",
        "# Compute the false positive rates of the dataframe scores\n",
        "df_scores['fpr'] = df_scores.fp / (df_scores.fp + df_scores.tn)"
      ],
      "metadata": {
        "id": "bxat4NoqOlzs"
      },
      "execution_count": 314,
      "outputs": []
    },
    {
      "cell_type": "code",
      "source": [
        "# Print the scores dataframe now with TPR and FPR each tenth record\n",
        "df_scores[::10]"
      ],
      "metadata": {
        "colab": {
          "base_uri": "https://localhost:8080/",
          "height": 394
        },
        "id": "VU0vz1CCPhBb",
        "outputId": "730429cd-32cb-464b-87ea-f0fe407a61fe"
      },
      "execution_count": 315,
      "outputs": [
        {
          "output_type": "execute_result",
          "data": {
            "text/plain": [
              "     threshold   tp    fp   fn    tn       tpr       fpr\n",
              "0          0.0  486  1374    0     0  1.000000  1.000000\n",
              "10         0.1  458   726   28   648  0.942387  0.528384\n",
              "20         0.2  421   512   65   862  0.866255  0.372635\n",
              "30         0.3  380   350  106  1024  0.781893  0.254731\n",
              "40         0.4  337   257  149  1117  0.693416  0.187045\n",
              "50         0.5  289   172  197  1202  0.594650  0.125182\n",
              "60         0.6  200   105  286  1269  0.411523  0.076419\n",
              "70         0.7   99    34  387  1340  0.203704  0.024745\n",
              "80         0.8    7     1  479  1373  0.014403  0.000728\n",
              "90         0.9    0     0  486  1374  0.000000  0.000000\n",
              "100        1.0    0     0  486  1374  0.000000  0.000000"
            ],
            "text/html": [
              "\n",
              "  <div id=\"df-499dd18e-bb0c-479f-83a2-cd9465c5dbfa\">\n",
              "    <div class=\"colab-df-container\">\n",
              "      <div>\n",
              "<style scoped>\n",
              "    .dataframe tbody tr th:only-of-type {\n",
              "        vertical-align: middle;\n",
              "    }\n",
              "\n",
              "    .dataframe tbody tr th {\n",
              "        vertical-align: top;\n",
              "    }\n",
              "\n",
              "    .dataframe thead th {\n",
              "        text-align: right;\n",
              "    }\n",
              "</style>\n",
              "<table border=\"1\" class=\"dataframe\">\n",
              "  <thead>\n",
              "    <tr style=\"text-align: right;\">\n",
              "      <th></th>\n",
              "      <th>threshold</th>\n",
              "      <th>tp</th>\n",
              "      <th>fp</th>\n",
              "      <th>fn</th>\n",
              "      <th>tn</th>\n",
              "      <th>tpr</th>\n",
              "      <th>fpr</th>\n",
              "    </tr>\n",
              "  </thead>\n",
              "  <tbody>\n",
              "    <tr>\n",
              "      <th>0</th>\n",
              "      <td>0.0</td>\n",
              "      <td>486</td>\n",
              "      <td>1374</td>\n",
              "      <td>0</td>\n",
              "      <td>0</td>\n",
              "      <td>1.000000</td>\n",
              "      <td>1.000000</td>\n",
              "    </tr>\n",
              "    <tr>\n",
              "      <th>10</th>\n",
              "      <td>0.1</td>\n",
              "      <td>458</td>\n",
              "      <td>726</td>\n",
              "      <td>28</td>\n",
              "      <td>648</td>\n",
              "      <td>0.942387</td>\n",
              "      <td>0.528384</td>\n",
              "    </tr>\n",
              "    <tr>\n",
              "      <th>20</th>\n",
              "      <td>0.2</td>\n",
              "      <td>421</td>\n",
              "      <td>512</td>\n",
              "      <td>65</td>\n",
              "      <td>862</td>\n",
              "      <td>0.866255</td>\n",
              "      <td>0.372635</td>\n",
              "    </tr>\n",
              "    <tr>\n",
              "      <th>30</th>\n",
              "      <td>0.3</td>\n",
              "      <td>380</td>\n",
              "      <td>350</td>\n",
              "      <td>106</td>\n",
              "      <td>1024</td>\n",
              "      <td>0.781893</td>\n",
              "      <td>0.254731</td>\n",
              "    </tr>\n",
              "    <tr>\n",
              "      <th>40</th>\n",
              "      <td>0.4</td>\n",
              "      <td>337</td>\n",
              "      <td>257</td>\n",
              "      <td>149</td>\n",
              "      <td>1117</td>\n",
              "      <td>0.693416</td>\n",
              "      <td>0.187045</td>\n",
              "    </tr>\n",
              "    <tr>\n",
              "      <th>50</th>\n",
              "      <td>0.5</td>\n",
              "      <td>289</td>\n",
              "      <td>172</td>\n",
              "      <td>197</td>\n",
              "      <td>1202</td>\n",
              "      <td>0.594650</td>\n",
              "      <td>0.125182</td>\n",
              "    </tr>\n",
              "    <tr>\n",
              "      <th>60</th>\n",
              "      <td>0.6</td>\n",
              "      <td>200</td>\n",
              "      <td>105</td>\n",
              "      <td>286</td>\n",
              "      <td>1269</td>\n",
              "      <td>0.411523</td>\n",
              "      <td>0.076419</td>\n",
              "    </tr>\n",
              "    <tr>\n",
              "      <th>70</th>\n",
              "      <td>0.7</td>\n",
              "      <td>99</td>\n",
              "      <td>34</td>\n",
              "      <td>387</td>\n",
              "      <td>1340</td>\n",
              "      <td>0.203704</td>\n",
              "      <td>0.024745</td>\n",
              "    </tr>\n",
              "    <tr>\n",
              "      <th>80</th>\n",
              "      <td>0.8</td>\n",
              "      <td>7</td>\n",
              "      <td>1</td>\n",
              "      <td>479</td>\n",
              "      <td>1373</td>\n",
              "      <td>0.014403</td>\n",
              "      <td>0.000728</td>\n",
              "    </tr>\n",
              "    <tr>\n",
              "      <th>90</th>\n",
              "      <td>0.9</td>\n",
              "      <td>0</td>\n",
              "      <td>0</td>\n",
              "      <td>486</td>\n",
              "      <td>1374</td>\n",
              "      <td>0.000000</td>\n",
              "      <td>0.000000</td>\n",
              "    </tr>\n",
              "    <tr>\n",
              "      <th>100</th>\n",
              "      <td>1.0</td>\n",
              "      <td>0</td>\n",
              "      <td>0</td>\n",
              "      <td>486</td>\n",
              "      <td>1374</td>\n",
              "      <td>0.000000</td>\n",
              "      <td>0.000000</td>\n",
              "    </tr>\n",
              "  </tbody>\n",
              "</table>\n",
              "</div>\n",
              "      <button class=\"colab-df-convert\" onclick=\"convertToInteractive('df-499dd18e-bb0c-479f-83a2-cd9465c5dbfa')\"\n",
              "              title=\"Convert this dataframe to an interactive table.\"\n",
              "              style=\"display:none;\">\n",
              "        \n",
              "  <svg xmlns=\"http://www.w3.org/2000/svg\" height=\"24px\"viewBox=\"0 0 24 24\"\n",
              "       width=\"24px\">\n",
              "    <path d=\"M0 0h24v24H0V0z\" fill=\"none\"/>\n",
              "    <path d=\"M18.56 5.44l.94 2.06.94-2.06 2.06-.94-2.06-.94-.94-2.06-.94 2.06-2.06.94zm-11 1L8.5 8.5l.94-2.06 2.06-.94-2.06-.94L8.5 2.5l-.94 2.06-2.06.94zm10 10l.94 2.06.94-2.06 2.06-.94-2.06-.94-.94-2.06-.94 2.06-2.06.94z\"/><path d=\"M17.41 7.96l-1.37-1.37c-.4-.4-.92-.59-1.43-.59-.52 0-1.04.2-1.43.59L10.3 9.45l-7.72 7.72c-.78.78-.78 2.05 0 2.83L4 21.41c.39.39.9.59 1.41.59.51 0 1.02-.2 1.41-.59l7.78-7.78 2.81-2.81c.8-.78.8-2.07 0-2.86zM5.41 20L4 18.59l7.72-7.72 1.47 1.35L5.41 20z\"/>\n",
              "  </svg>\n",
              "      </button>\n",
              "      \n",
              "  <style>\n",
              "    .colab-df-container {\n",
              "      display:flex;\n",
              "      flex-wrap:wrap;\n",
              "      gap: 12px;\n",
              "    }\n",
              "\n",
              "    .colab-df-convert {\n",
              "      background-color: #E8F0FE;\n",
              "      border: none;\n",
              "      border-radius: 50%;\n",
              "      cursor: pointer;\n",
              "      display: none;\n",
              "      fill: #1967D2;\n",
              "      height: 32px;\n",
              "      padding: 0 0 0 0;\n",
              "      width: 32px;\n",
              "    }\n",
              "\n",
              "    .colab-df-convert:hover {\n",
              "      background-color: #E2EBFA;\n",
              "      box-shadow: 0px 1px 2px rgba(60, 64, 67, 0.3), 0px 1px 3px 1px rgba(60, 64, 67, 0.15);\n",
              "      fill: #174EA6;\n",
              "    }\n",
              "\n",
              "    [theme=dark] .colab-df-convert {\n",
              "      background-color: #3B4455;\n",
              "      fill: #D2E3FC;\n",
              "    }\n",
              "\n",
              "    [theme=dark] .colab-df-convert:hover {\n",
              "      background-color: #434B5C;\n",
              "      box-shadow: 0px 1px 3px 1px rgba(0, 0, 0, 0.15);\n",
              "      filter: drop-shadow(0px 1px 2px rgba(0, 0, 0, 0.3));\n",
              "      fill: #FFFFFF;\n",
              "    }\n",
              "  </style>\n",
              "\n",
              "      <script>\n",
              "        const buttonEl =\n",
              "          document.querySelector('#df-499dd18e-bb0c-479f-83a2-cd9465c5dbfa button.colab-df-convert');\n",
              "        buttonEl.style.display =\n",
              "          google.colab.kernel.accessAllowed ? 'block' : 'none';\n",
              "\n",
              "        async function convertToInteractive(key) {\n",
              "          const element = document.querySelector('#df-499dd18e-bb0c-479f-83a2-cd9465c5dbfa');\n",
              "          const dataTable =\n",
              "            await google.colab.kernel.invokeFunction('convertToInteractive',\n",
              "                                                     [key], {});\n",
              "          if (!dataTable) return;\n",
              "\n",
              "          const docLinkHtml = 'Like what you see? Visit the ' +\n",
              "            '<a target=\"_blank\" href=https://colab.research.google.com/notebooks/data_table.ipynb>data table notebook</a>'\n",
              "            + ' to learn more about interactive tables.';\n",
              "          element.innerHTML = '';\n",
              "          dataTable['output_type'] = 'display_data';\n",
              "          await google.colab.output.renderOutput(dataTable, element);\n",
              "          const docLink = document.createElement('div');\n",
              "          docLink.innerHTML = docLinkHtml;\n",
              "          element.appendChild(docLink);\n",
              "        }\n",
              "      </script>\n",
              "    </div>\n",
              "  </div>\n",
              "  "
            ]
          },
          "metadata": {},
          "execution_count": 315
        }
      ]
    },
    {
      "cell_type": "code",
      "source": [
        "# Plot the scores of TPR and FPR\n",
        "plt.plot(df_scores.threshold, df_scores['tpr'])\n",
        "plt.plot(df_scores.threshold, df_scores['fpr'])"
      ],
      "metadata": {
        "colab": {
          "base_uri": "https://localhost:8080/",
          "height": 283
        },
        "id": "Qh14QdopP1MB",
        "outputId": "3f866c91-f44b-4335-d940-4d2d1096b505"
      },
      "execution_count": 316,
      "outputs": [
        {
          "output_type": "execute_result",
          "data": {
            "text/plain": [
              "[<matplotlib.lines.Line2D at 0x7f24adcba8d0>]"
            ]
          },
          "metadata": {},
          "execution_count": 316
        },
        {
          "output_type": "display_data",
          "data": {
            "text/plain": [
              "<Figure size 432x288 with 1 Axes>"
            ],
            "image/png": "[encoded data removed]"
          },
          "metadata": {
            "needs_background": "light"
          }
        }
      ]
    },
    {
      "cell_type": "code",
      "source": [
        "# Plot the scores of TPR and FPR with legends\n",
        "plt.plot(df_scores.threshold, df_scores['tpr'], label='TPR')\n",
        "plt.plot(df_scores.threshold, df_scores['fpr'], label='FPR')\n",
        "plt.legend()\n",
        "\n",
        "# Interpretation of the plot below:\n",
        "# at x-axis we have threshold\n",
        "# for threshold of zero we see that both true positive rate and false positive rate are one\n",
        "# so it means this is a diamond model that predicts everyone as churning so for them true positive rate\n",
        "# is 100% because for all positive customers for all the churning customers all of them are identified correctly\n",
        "# and again false positive rate is 100% for non churning ones we make 100% so we predict all of them incorrectly\n",
        "# as churning\n",
        "\n",
        "# and then we see that it goes down so the TPR go down with a different rate\n",
        "# the FPR goes down faster and actually we want to go down as fast as possible because we want to minimize \n",
        "# the weight of values as low as possible\n",
        "\n",
        "# and for TPR weight we want to keep it around one as higher as possible "
      ],
      "metadata": {
        "colab": {
          "base_uri": "https://localhost:8080/",
          "height": 283
        },
        "id": "HngVJDIbQb0E",
        "outputId": "adca1279-4865-4965-8a24-39bf95e031cb"
      },
      "execution_count": 317,
      "outputs": [
        {
          "output_type": "execute_result",
          "data": {
            "text/plain": [
              "<matplotlib.legend.Legend at 0x7f24ad784f90>"
            ]
          },
          "metadata": {},
          "execution_count": 317
        },
        {
          "output_type": "display_data",
          "data": {
            "text/plain": [
              "<Figure size 432x288 with 1 Axes>"
            ],
            "image/png": "[encoded data removed]"
          },
          "metadata": {
            "needs_background": "light"
          }
        }
      ]
    },
    {
      "cell_type": "code",
      "source": [
        "# Random model:\n",
        "\n",
        "# now we want to use a random model for each customer basically flips a coin an thinks okay\n",
        "# this customer is churnning this customer is not churning and make decisions whether this \n",
        "# customer is going to churn not completely randomly\n",
        "\n",
        "# Implement the random model:\n",
        "\n",
        "# Set the random seed for our Y rand variable  \n",
        "np.random.seed(1)\n",
        "\n",
        "# Assign every customer a random score between 0 and 1 usig the uniform distribution\n",
        "# note: the size if the Y rand variable should be the same size as our validation dataset\n",
        "y_rand = np.random.uniform(0, 1, size=len(y_val))\n",
        "y_rand.round(3)\n",
        "# for each customer randomly predict if they are going to churn or not going to churn"
      ],
      "metadata": {
        "colab": {
          "base_uri": "https://localhost:8080/"
        },
        "id": "dvGJwDgVTi3Q",
        "outputId": "9d46f84b-ba99-43cd-a41e-424209ef40d0"
      },
      "execution_count": 318,
      "outputs": [
        {
          "output_type": "execute_result",
          "data": {
            "text/plain": [
              "array([0.417, 0.72 , 0.   , ..., 0.148, 0.923, 0.044])"
            ]
          },
          "metadata": {},
          "execution_count": 318
        }
      ]
    },
    {
      "cell_type": "code",
      "source": [
        "# Caculate the accuracy for this model\n",
        "((y_rand >= 0.5) == y_val).mean()\n",
        "\n",
        "# for this model our accuracy is 47% "
      ],
      "metadata": {
        "colab": {
          "base_uri": "https://localhost:8080/"
        },
        "id": "mGbCV2EdWBPU",
        "outputId": "747eb807-d7e1-4eec-d342-62f72b94f34d"
      },
      "execution_count": 319,
      "outputs": [
        {
          "output_type": "execute_result",
          "data": {
            "text/plain": [
              "0.478494623655914"
            ]
          },
          "metadata": {},
          "execution_count": 319
        }
      ]
    },
    {
      "cell_type": "code",
      "source": [
        "# Create a function TPR and FPR dataframe\n",
        "def tpr_fpr_dataframe(y_val, y_pred):\n",
        "\n",
        "  # Create a list called scores\n",
        "  scores = []\n",
        "\n",
        "  # Compute the ROC for all possible thresholds using the function linspace\n",
        "  thresholds = np.linspace(0,1, 101)\n",
        "\n",
        "  # Create for loop using the thresholds list\n",
        "  for t in thresholds:\n",
        "\n",
        "    # Create an array for customers are really churn and this is for case validations are 1\n",
        "    actual_positive = (y_val == 1)\n",
        "\n",
        "    # Create an array for customers are not going to churn and this is for case validations are 0\n",
        "    actual_negative = (y_val == 0)\n",
        "\n",
        "    # Store the positive predictions\n",
        "    predict_positive = (y_pred >= t)\n",
        "\n",
        "    # Store the negative predictions\n",
        "    predict_negative = (y_pred < t)\n",
        "\n",
        "    # Store the true positive values in a variable\n",
        "    tp = (predict_positive & actual_positive).sum()\n",
        "\n",
        "    # Store the true negatives values in a variable\n",
        "    tn = (predict_negative & actual_negative).sum()\n",
        "\n",
        "    # Store the false positive values in a variable\n",
        "    fp = (predict_positive & actual_negative).sum()\n",
        "\n",
        "    # Store the false negatives values in a variable\n",
        "    fn = (predict_negative & actual_positive).sum()\n",
        "\n",
        "    # Append a list called scores\n",
        "    scores.append((t, tp, fp, fn, tn))\n",
        "\n",
        "  # Specify the columns names of the dataframe scores\n",
        "  columns = ['threshold','tp','fp','fn','tn']\n",
        "  df_scores = pd.DataFrame(scores, columns=columns)\n",
        "\n",
        "  # Compute the true positive rates of the dataframe scores\n",
        "  df_scores['tpr'] = df_scores.tp / (df_scores.tp + df_scores.fn)\n",
        "\n",
        "  # Compute the false positive rates of the dataframe scores\n",
        "  df_scores['fpr'] = df_scores.fp / (df_scores.fp + df_scores.tn)\n",
        "\n",
        "  # Return the scores dataframe\n",
        "  return df_scores"
      ],
      "metadata": {
        "id": "WYswaCO0XESg"
      },
      "execution_count": 320,
      "outputs": []
    },
    {
      "cell_type": "code",
      "source": [
        "# Use the function TPR and FPR dataframe with random predictions\n",
        "df_rand = tpr_fpr_dataframe(y_val, y_rand)"
      ],
      "metadata": {
        "id": "gCB_VQ83ZCkY"
      },
      "execution_count": 321,
      "outputs": []
    },
    {
      "cell_type": "code",
      "source": [
        "# Print the rand dataframe every tenth record\n",
        "df_rand[::10]"
      ],
      "metadata": {
        "colab": {
          "base_uri": "https://localhost:8080/",
          "height": 394
        },
        "id": "duVqV9DEZZXt",
        "outputId": "69f4dd4d-7efc-4e41-a483-93177aaa5be6"
      },
      "execution_count": 322,
      "outputs": [
        {
          "output_type": "execute_result",
          "data": {
            "text/plain": [
              "     threshold   tp    fp   fn    tn       tpr       fpr\n",
              "0          0.0  486  1374    0     0  1.000000  1.000000\n",
              "10         0.1  440  1236   46   138  0.905350  0.899563\n",
              "20         0.2  392  1101   94   273  0.806584  0.801310\n",
              "30         0.3  339   972  147   402  0.697531  0.707424\n",
              "40         0.4  288   849  198   525  0.592593  0.617904\n",
              "50         0.5  239   723  247   651  0.491770  0.526201\n",
              "60         0.6  193   579  293   795  0.397119  0.421397\n",
              "70         0.7  152   422  334   952  0.312757  0.307132\n",
              "80         0.8   98   302  388  1072  0.201646  0.219796\n",
              "90         0.9   57   147  429  1227  0.117284  0.106987\n",
              "100        1.0    0     0  486  1374  0.000000  0.000000"
            ],
            "text/html": [
              "\n",
              "  <div id=\"df-1398667f-b310-4a20-9f81-36bbe1b1906f\">\n",
              "    <div class=\"colab-df-container\">\n",
              "      <div>\n",
              "<style scoped>\n",
              "    .dataframe tbody tr th:only-of-type {\n",
              "        vertical-align: middle;\n",
              "    }\n",
              "\n",
              "    .dataframe tbody tr th {\n",
              "        vertical-align: top;\n",
              "    }\n",
              "\n",
              "    .dataframe thead th {\n",
              "        text-align: right;\n",
              "    }\n",
              "</style>\n",
              "<table border=\"1\" class=\"dataframe\">\n",
              "  <thead>\n",
              "    <tr style=\"text-align: right;\">\n",
              "      <th></th>\n",
              "      <th>threshold</th>\n",
              "      <th>tp</th>\n",
              "      <th>fp</th>\n",
              "      <th>fn</th>\n",
              "      <th>tn</th>\n",
              "      <th>tpr</th>\n",
              "      <th>fpr</th>\n",
              "    </tr>\n",
              "  </thead>\n",
              "  <tbody>\n",
              "    <tr>\n",
              "      <th>0</th>\n",
              "      <td>0.0</td>\n",
              "      <td>486</td>\n",
              "      <td>1374</td>\n",
              "      <td>0</td>\n",
              "      <td>0</td>\n",
              "      <td>1.000000</td>\n",
              "      <td>1.000000</td>\n",
              "    </tr>\n",
              "    <tr>\n",
              "      <th>10</th>\n",
              "      <td>0.1</td>\n",
              "      <td>440</td>\n",
              "      <td>1236</td>\n",
              "      <td>46</td>\n",
              "      <td>138</td>\n",
              "      <td>0.905350</td>\n",
              "      <td>0.899563</td>\n",
              "    </tr>\n",
              "    <tr>\n",
              "      <th>20</th>\n",
              "      <td>0.2</td>\n",
              "      <td>392</td>\n",
              "      <td>1101</td>\n",
              "      <td>94</td>\n",
              "      <td>273</td>\n",
              "      <td>0.806584</td>\n",
              "      <td>0.801310</td>\n",
              "    </tr>\n",
              "    <tr>\n",
              "      <th>30</th>\n",
              "      <td>0.3</td>\n",
              "      <td>339</td>\n",
              "      <td>972</td>\n",
              "      <td>147</td>\n",
              "      <td>402</td>\n",
              "      <td>0.697531</td>\n",
              "      <td>0.707424</td>\n",
              "    </tr>\n",
              "    <tr>\n",
              "      <th>40</th>\n",
              "      <td>0.4</td>\n",
              "      <td>288</td>\n",
              "      <td>849</td>\n",
              "      <td>198</td>\n",
              "      <td>525</td>\n",
              "      <td>0.592593</td>\n",
              "      <td>0.617904</td>\n",
              "    </tr>\n",
              "    <tr>\n",
              "      <th>50</th>\n",
              "      <td>0.5</td>\n",
              "      <td>239</td>\n",
              "      <td>723</td>\n",
              "      <td>247</td>\n",
              "      <td>651</td>\n",
              "      <td>0.491770</td>\n",
              "      <td>0.526201</td>\n",
              "    </tr>\n",
              "    <tr>\n",
              "      <th>60</th>\n",
              "      <td>0.6</td>\n",
              "      <td>193</td>\n",
              "      <td>579</td>\n",
              "      <td>293</td>\n",
              "      <td>795</td>\n",
              "      <td>0.397119</td>\n",
              "      <td>0.421397</td>\n",
              "    </tr>\n",
              "    <tr>\n",
              "      <th>70</th>\n",
              "      <td>0.7</td>\n",
              "      <td>152</td>\n",
              "      <td>422</td>\n",
              "      <td>334</td>\n",
              "      <td>952</td>\n",
              "      <td>0.312757</td>\n",
              "      <td>0.307132</td>\n",
              "    </tr>\n",
              "    <tr>\n",
              "      <th>80</th>\n",
              "      <td>0.8</td>\n",
              "      <td>98</td>\n",
              "      <td>302</td>\n",
              "      <td>388</td>\n",
              "      <td>1072</td>\n",
              "      <td>0.201646</td>\n",
              "      <td>0.219796</td>\n",
              "    </tr>\n",
              "    <tr>\n",
              "      <th>90</th>\n",
              "      <td>0.9</td>\n",
              "      <td>57</td>\n",
              "      <td>147</td>\n",
              "      <td>429</td>\n",
              "      <td>1227</td>\n",
              "      <td>0.117284</td>\n",
              "      <td>0.106987</td>\n",
              "    </tr>\n",
              "    <tr>\n",
              "      <th>100</th>\n",
              "      <td>1.0</td>\n",
              "      <td>0</td>\n",
              "      <td>0</td>\n",
              "      <td>486</td>\n",
              "      <td>1374</td>\n",
              "      <td>0.000000</td>\n",
              "      <td>0.000000</td>\n",
              "    </tr>\n",
              "  </tbody>\n",
              "</table>\n",
              "</div>\n",
              "      <button class=\"colab-df-convert\" onclick=\"convertToInteractive('df-1398667f-b310-4a20-9f81-36bbe1b1906f')\"\n",
              "              title=\"Convert this dataframe to an interactive table.\"\n",
              "              style=\"display:none;\">\n",
              "        \n",
              "  <svg xmlns=\"http://www.w3.org/2000/svg\" height=\"24px\"viewBox=\"0 0 24 24\"\n",
              "       width=\"24px\">\n",
              "    <path d=\"M0 0h24v24H0V0z\" fill=\"none\"/>\n",
              "    <path d=\"M18.56 5.44l.94 2.06.94-2.06 2.06-.94-2.06-.94-.94-2.06-.94 2.06-2.06.94zm-11 1L8.5 8.5l.94-2.06 2.06-.94-2.06-.94L8.5 2.5l-.94 2.06-2.06.94zm10 10l.94 2.06.94-2.06 2.06-.94-2.06-.94-.94-2.06-.94 2.06-2.06.94z\"/><path d=\"M17.41 7.96l-1.37-1.37c-.4-.4-.92-.59-1.43-.59-.52 0-1.04.2-1.43.59L10.3 9.45l-7.72 7.72c-.78.78-.78 2.05 0 2.83L4 21.41c.39.39.9.59 1.41.59.51 0 1.02-.2 1.41-.59l7.78-7.78 2.81-2.81c.8-.78.8-2.07 0-2.86zM5.41 20L4 18.59l7.72-7.72 1.47 1.35L5.41 20z\"/>\n",
              "  </svg>\n",
              "      </button>\n",
              "      \n",
              "  <style>\n",
              "    .colab-df-container {\n",
              "      display:flex;\n",
              "      flex-wrap:wrap;\n",
              "      gap: 12px;\n",
              "    }\n",
              "\n",
              "    .colab-df-convert {\n",
              "      background-color: #E8F0FE;\n",
              "      border: none;\n",
              "      border-radius: 50%;\n",
              "      cursor: pointer;\n",
              "      display: none;\n",
              "      fill: #1967D2;\n",
              "      height: 32px;\n",
              "      padding: 0 0 0 0;\n",
              "      width: 32px;\n",
              "    }\n",
              "\n",
              "    .colab-df-convert:hover {\n",
              "      background-color: #E2EBFA;\n",
              "      box-shadow: 0px 1px 2px rgba(60, 64, 67, 0.3), 0px 1px 3px 1px rgba(60, 64, 67, 0.15);\n",
              "      fill: #174EA6;\n",
              "    }\n",
              "\n",
              "    [theme=dark] .colab-df-convert {\n",
              "      background-color: #3B4455;\n",
              "      fill: #D2E3FC;\n",
              "    }\n",
              "\n",
              "    [theme=dark] .colab-df-convert:hover {\n",
              "      background-color: #434B5C;\n",
              "      box-shadow: 0px 1px 3px 1px rgba(0, 0, 0, 0.15);\n",
              "      filter: drop-shadow(0px 1px 2px rgba(0, 0, 0, 0.3));\n",
              "      fill: #FFFFFF;\n",
              "    }\n",
              "  </style>\n",
              "\n",
              "      <script>\n",
              "        const buttonEl =\n",
              "          document.querySelector('#df-1398667f-b310-4a20-9f81-36bbe1b1906f button.colab-df-convert');\n",
              "        buttonEl.style.display =\n",
              "          google.colab.kernel.accessAllowed ? 'block' : 'none';\n",
              "\n",
              "        async function convertToInteractive(key) {\n",
              "          const element = document.querySelector('#df-1398667f-b310-4a20-9f81-36bbe1b1906f');\n",
              "          const dataTable =\n",
              "            await google.colab.kernel.invokeFunction('convertToInteractive',\n",
              "                                                     [key], {});\n",
              "          if (!dataTable) return;\n",
              "\n",
              "          const docLinkHtml = 'Like what you see? Visit the ' +\n",
              "            '<a target=\"_blank\" href=https://colab.research.google.com/notebooks/data_table.ipynb>data table notebook</a>'\n",
              "            + ' to learn more about interactive tables.';\n",
              "          element.innerHTML = '';\n",
              "          dataTable['output_type'] = 'display_data';\n",
              "          await google.colab.output.renderOutput(dataTable, element);\n",
              "          const docLink = document.createElement('div');\n",
              "          docLink.innerHTML = docLinkHtml;\n",
              "          element.appendChild(docLink);\n",
              "        }\n",
              "      </script>\n",
              "    </div>\n",
              "  </div>\n",
              "  "
            ]
          },
          "metadata": {},
          "execution_count": 322
        }
      ]
    },
    {
      "cell_type": "code",
      "source": [
        "# Plot the rand of TPR and FPR with legends\n",
        "plt.plot(df_rand.threshold, df_rand['tpr'], label='TPR')\n",
        "plt.plot(df_rand.threshold, df_rand['fpr'], label='FPR')\n",
        "plt.legend()\n",
        "\n",
        "# we can see TPR and FPR that both of them go down it's almost a straight line "
      ],
      "metadata": {
        "colab": {
          "base_uri": "https://localhost:8080/",
          "height": 283
        },
        "id": "hYDFCy-bZ1mV",
        "outputId": "1c09d58b-7ffd-43ad-eaa4-56783e1abd63"
      },
      "execution_count": 324,
      "outputs": [
        {
          "output_type": "execute_result",
          "data": {
            "text/plain": [
              "<matplotlib.legend.Legend at 0x7f24adb677d0>"
            ]
          },
          "metadata": {},
          "execution_count": 324
        },
        {
          "output_type": "display_data",
          "data": {
            "text/plain": [
              "<Figure size 432x288 with 1 Axes>"
            ],
            "image/png": "[encoded data removed]"
          },
          "metadata": {
            "needs_background": "light"
          }
        }
      ]
    },
    {
      "cell_type": "code",
      "source": [
        "# lets see now a different benchmark so for this one we want to talk about\n",
        "# the ideal model some model that gets outputs the correct prediction for everyone\n",
        "\n",
        "# Count and store how many customers are not churning\n",
        "# we need to count how many zeros are in the dataset\n",
        "num_neg = (y_val == 0).sum()\n",
        "\n",
        "# Count and store how many customers are churning\n",
        "# we need to count how many ones are in the dataset\n",
        "num_pos = (y_val == 1).sum()\n",
        "\n",
        "# Print the total of customer are churning and not churning\n",
        "num_neg, num_pos"
      ],
      "metadata": {
        "colab": {
          "base_uri": "https://localhost:8080/"
        },
        "id": "lMBzFHo1b_L2",
        "outputId": "7b571a59-5de0-421c-b0e3-294f5fac6c54"
      },
      "execution_count": 325,
      "outputs": [
        {
          "output_type": "execute_result",
          "data": {
            "text/plain": [
              "(1374, 486)"
            ]
          },
          "metadata": {},
          "execution_count": 325
        }
      ]
    },
    {
      "cell_type": "code",
      "source": [
        "# Create a variable to store numbers of positive and negative customers churn\n",
        "# use the function repeat zero or one according the totals of num_neg and num_pos\n",
        "y_ideal = np.repeat([0,1], [num_neg, num_pos])\n",
        "y_ideal\n",
        "# the array below has first zeros followed by ones and this is our validation datset in a way\n",
        "# we know everything is ordered"
      ],
      "metadata": {
        "colab": {
          "base_uri": "https://localhost:8080/"
        },
        "id": "o6rttb8Me9uM",
        "outputId": "8027025b-3679-445d-ae6d-4524ebf07d4c"
      },
      "execution_count": 326,
      "outputs": [
        {
          "output_type": "execute_result",
          "data": {
            "text/plain": [
              "array([0, 0, 0, ..., 1, 1, 1])"
            ]
          },
          "metadata": {},
          "execution_count": 326
        }
      ]
    },
    {
      "cell_type": "code",
      "source": [
        "# now we need to create our predictions and predictions can be just numbers between zero and one\n",
        "\n",
        "# Use the linspace function using the length of Y validation\n",
        "y_ideal_pred = np.linspace(0, 1, len(y_val))\n",
        "y_ideal_pred"
      ],
      "metadata": {
        "colab": {
          "base_uri": "https://localhost:8080/"
        },
        "id": "M4P0ZXQbgHMr",
        "outputId": "02358739-b265-421f-80a7-7e5f604b045f"
      },
      "execution_count": 328,
      "outputs": [
        {
          "output_type": "execute_result",
          "data": {
            "text/plain": [
              "array([0.00000000e+00, 5.37923615e-04, 1.07584723e-03, ...,\n",
              "       9.98924153e-01, 9.99462076e-01, 1.00000000e+00])"
            ]
          },
          "metadata": {},
          "execution_count": 328
        }
      ]
    },
    {
      "cell_type": "code",
      "source": [
        "# Calculate the right threshold to get 100% accuracy\n",
        "1 - y_val.mean()\n",
        "# so it predicts that for customers above this threshold (number below) they are positive\n",
        "# below negative the threshold it happens to be correct for all the customers because this\n",
        "# is how we prepared our actual values and our predictions so this is how ideal our model\n",
        "# looks like and of course this model doesn't exist in reality but this will help to benchmark\n",
        "# our model that we have against this one"
      ],
      "metadata": {
        "colab": {
          "base_uri": "https://localhost:8080/"
        },
        "id": "eigQbKMwhml0",
        "outputId": "93cb1b60-f82f-46f7-828a-f0416b999d08"
      },
      "execution_count": 344,
      "outputs": [
        {
          "output_type": "execute_result",
          "data": {
            "text/plain": [
              "0.7387096774193549"
            ]
          },
          "metadata": {},
          "execution_count": 344
        }
      ]
    },
    {
      "cell_type": "code",
      "source": [
        "# Look for customers with the threshold of 73.87%\n",
        "((y_ideal_pred >= 0.7387) == y_ideal).mean()\n",
        "# for this customers the accuracy is 100%"
      ],
      "metadata": {
        "colab": {
          "base_uri": "https://localhost:8080/"
        },
        "id": "1hpa-acEhDgU",
        "outputId": "3c70268e-28d0-4b76-95ee-7638544c6784"
      },
      "execution_count": 345,
      "outputs": [
        {
          "output_type": "execute_result",
          "data": {
            "text/plain": [
              "1.0"
            ]
          },
          "metadata": {},
          "execution_count": 345
        }
      ]
    },
    {
      "cell_type": "code",
      "source": [
        "# lets do the same exercise for the ideal model as we did for the random model\n",
        "\n",
        "# Use the function TPR and FPR dataframe with ideal model\n",
        "df_ideal = tpr_fpr_dataframe(y_ideal, y_ideal_pred)"
      ],
      "metadata": {
        "id": "huD6VacVisJF"
      },
      "execution_count": null,
      "outputs": []
    }
  ]
}